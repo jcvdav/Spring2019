{
 "cells": [
  {
   "cell_type": "markdown",
   "metadata": {
    "slideshow": {
     "slide_type": "slide"
    }
   },
   "source": [
    "# Optimization"
   ]
  },
  {
   "cell_type": "markdown",
   "metadata": {
    "slideshow": {
     "slide_type": "slide"
    }
   },
   "source": [
    "## Data Science teams\n",
    "\n",
    "- In data science, many skills are useful; however, one person cannot master them all"
   ]
  },
  {
   "cell_type": "markdown",
   "metadata": {
    "slideshow": {
     "slide_type": "fragment"
    }
   },
   "source": [
    "- Often, team members bring different strengths"
   ]
  },
  {
   "cell_type": "markdown",
   "metadata": {
    "slideshow": {
     "slide_type": "fragment"
    }
   },
   "source": [
    "- e.g., statistical modeling, programming, applied math, communication skills, etc."
   ]
  },
  {
   "cell_type": "markdown",
   "metadata": {
    "slideshow": {
     "slide_type": "fragment"
    }
   },
   "source": [
    "- How do teams work together when core skills are different?"
   ]
  },
  {
   "cell_type": "markdown",
   "metadata": {
    "slideshow": {
     "slide_type": "fragment"
    }
   },
   "source": [
    "- Communicating with **concepts** and thinking **critically** are essential "
   ]
  },
  {
   "cell_type": "markdown",
   "metadata": {
    "slideshow": {
     "slide_type": "slide"
    }
   },
   "source": [
    "<div style=\"background-image: url(images/hbr-data-science-art-of-persuasion.png); background-repeat: no-repeat; background-size: contain; height: 600px; width: 100%; \">\n",
    "</div>"
   ]
  },
  {
   "cell_type": "markdown",
   "metadata": {
    "slideshow": {
     "slide_type": "slide"
    }
   },
   "source": [
    "## Real World Challenges in Data Science\n",
    "\n",
    "- According to [2017 Kaggle survey](https://www.kaggle.com/surveys/2017) of data scientists, top barriers at work include ..."
   ]
  },
  {
   "cell_type": "markdown",
   "metadata": {
    "slideshow": {
     "slide_type": "fragment"
    }
   },
   "source": [
    "- Lack of clear questions to answer  \n",
    "      \n",
    "    **Formulating questions into mathematical equations to solve**"
   ]
  },
  {
   "cell_type": "markdown",
   "metadata": {
    "slideshow": {
     "slide_type": "fragment"
    }
   },
   "source": [
    "- Explaining data science to others  \n",
    "      \n",
    "    **Communicating with non-technical audience**"
   ]
  },
  {
   "cell_type": "markdown",
   "metadata": {
    "slideshow": {
     "slide_type": "fragment"
    }
   },
   "source": [
    "- Integrating findings into decisions  \n",
    "      \n",
    "    **Interpreting results and translating it to actions**"
   ]
  },
  {
   "cell_type": "markdown",
   "metadata": {
    "slideshow": {
     "slide_type": "slide"
    }
   },
   "source": [
    "## Finding the \"Best [something]\"\n",
    "\n",
    "- We often talk about learning the \"best model\", having the smallest error, etc."
   ]
  },
  {
   "cell_type": "markdown",
   "metadata": {
    "slideshow": {
     "slide_type": "fragment"
    }
   },
   "source": [
    "- This is because we think of \"best\" as some _optimal solution_"
   ]
  },
  {
   "cell_type": "markdown",
   "metadata": {
    "slideshow": {
     "slide_type": "fragment"
    }
   },
   "source": [
    "- \"Best (or optimal) in what sense?\""
   ]
  },
  {
   "cell_type": "markdown",
   "metadata": {
    "slideshow": {
     "slide_type": "fragment"
    }
   },
   "source": [
    "- Example: in linear regression, we minimize the square sum of the errors:  \n",
    "    $$ \\hat\\beta = \\arg\\min_\\beta \\|y - \\beta x\\|_2^2 $$"
   ]
  },
  {
   "cell_type": "markdown",
   "metadata": {
    "slideshow": {
     "slide_type": "fragment"
    }
   },
   "source": [
    "- In this problem, $\\hat\\beta$ is the best in $\\ell_2$ sense"
   ]
  },
  {
   "cell_type": "markdown",
   "metadata": {
    "slideshow": {
     "slide_type": "fragment"
    }
   },
   "source": [
    "- Here, $\\ell_2$ is called _loss function_"
   ]
  },
  {
   "cell_type": "markdown",
   "metadata": {
    "slideshow": {
     "slide_type": "slide"
    }
   },
   "source": [
    "## Objective functions give context\n",
    "\n",
    "- Loss function (or cost function) returns a high value if the input is undesirable"
   ]
  },
  {
   "cell_type": "markdown",
   "metadata": {
    "slideshow": {
     "slide_type": "fragment"
    }
   },
   "source": [
    "- Objective function (more general) gives context: high or low depending on mathematical formulation"
   ]
  },
  {
   "cell_type": "markdown",
   "metadata": {
    "slideshow": {
     "slide_type": "slide"
    }
   },
   "source": [
    "**Likelihood function** in parameter estimation higher the better: i.e. maximum likelihood estimator (MLE)\n",
    "\n",
    "![likelihood](https://cdn-images-1.medium.com/max/800/1*jxZFpWtCbD4jHPV0DdDuMA.gif)\n",
    "\n",
    "https://towardsdatascience.com/maximum-likelihood-estimation-984af2dcfcac\n",
    "\n",
    "$$\\begin{align*}\\mu^\\star = \\arg\\max_\\mu \\ell(x;\\mu) &= \\arg\\max_\\mu \\log \\mathcal{L}(x;\\mu)\n",
    "= \\arg\\max_\\mu\\log\\left( \\frac{1}{\\sqrt{2 \\pi \\sigma^{2}}} e^{-\\frac{(x-\\mu)^{2}}{2 \\sigma^{2}}} \\right)\n",
    "\\end{align*}$$"
   ]
  },
  {
   "cell_type": "markdown",
   "metadata": {
    "slideshow": {
     "slide_type": "slide"
    }
   },
   "source": [
    "In regression, coefficients that give minimum of, say, **sum of squared errors (SSE)** is best (there are others)\n",
    "\n",
    "![residual](https://www.researchgate.net/profile/Bernd_Skiera/publication/327624256/figure/fig1/AS:670372009635846@1536840550374/Regression-line-with-residuals-and-squared-residuals.ppm)\n",
    "\n",
    "https://www.researchgate.net/profile/Bernd_Skiera/publication/327624256"
   ]
  },
  {
   "cell_type": "markdown",
   "metadata": {
    "slideshow": {
     "slide_type": "slide"
    }
   },
   "source": [
    "In physics, a stable equilibrium state of a particle is where **Potential energy** is lowest\n",
    "\n",
    "![potential energy](https://phys.libretexts.org/@api/deki/files/3051/stable-unstable-graph.png)\n",
    "\n",
    "https://phys.libretexts.org"
   ]
  },
  {
   "cell_type": "markdown",
   "metadata": {
    "slideshow": {
     "slide_type": "slide"
    }
   },
   "source": [
    "In operations research, best matching between jobs and workers maximizes flow through a network\n",
    "\n",
    "![matching](https://uploads.toptal.io/blog/image/124062/toptal-blog-image-1503922967927-76f1d422af49bb49275afdbcdf9fa5fa.gif)\n",
    "\n",
    "https://uploads.toptal.io/"
   ]
  },
  {
   "cell_type": "markdown",
   "metadata": {
    "slideshow": {
     "slide_type": "slide"
    }
   },
   "source": [
    "## Characterizing the \"best solution\": objective function\n",
    "\n",
    "- For humans, what is considered \"best\" depends on the individual"
   ]
  },
  {
   "cell_type": "markdown",
   "metadata": {
    "slideshow": {
     "slide_type": "fragment"
    }
   },
   "source": [
    "- In machine learning, what is the \"best\" (e.g. solution, model, etc.) depends on the formulation: i.e., **objective function**"
   ]
  },
  {
   "cell_type": "markdown",
   "metadata": {
    "slideshow": {
     "slide_type": "fragment"
    }
   },
   "source": [
    "- This is easier said than done"
   ]
  },
  {
   "cell_type": "markdown",
   "metadata": {
    "slideshow": {
     "slide_type": "fragment"
    }
   },
   "source": [
    "- After that, the challenge is to find the optimal solution to the objective function"
   ]
  },
  {
   "cell_type": "markdown",
   "metadata": {
    "slideshow": {
     "slide_type": "fragment"
    }
   },
   "source": [
    "- There are general optimization softwares exist: e.g., `cvxpy`"
   ]
  },
  {
   "cell_type": "markdown",
   "metadata": {
    "slideshow": {
     "slide_type": "slide"
    }
   },
   "source": [
    "## `CVXPY`\n",
    "\n",
    "- `CVXPY` is an optimization package"
   ]
  },
  {
   "cell_type": "markdown",
   "metadata": {
    "slideshow": {
     "slide_type": "fragment"
    }
   },
   "source": [
    "- Optimization problems can be specified with declarative syntax"
   ]
  },
  {
   "cell_type": "markdown",
   "metadata": {
    "slideshow": {
     "slide_type": "fragment"
    }
   },
   "source": [
    "- [CVXPY Homepage](https://www.cvxpy.org/index.html)"
   ]
  },
  {
   "cell_type": "markdown",
   "metadata": {
    "slideshow": {
     "slide_type": "fragment"
    }
   },
   "source": [
    "- Name CVX is from convex (as in convex functions)"
   ]
  },
  {
   "cell_type": "markdown",
   "metadata": {
    "slideshow": {
     "slide_type": "fragment"
    }
   },
   "source": [
    "- Solving convex functions have been studied extensively"
   ]
  },
  {
   "cell_type": "markdown",
   "metadata": {
    "slideshow": {
     "slide_type": "slide"
    }
   },
   "source": [
    "## Example: Linear regression from scratch\n",
    "\n",
    "- In linear regression problem, we have"
   ]
  },
  {
   "cell_type": "markdown",
   "metadata": {
    "slideshow": {
     "slide_type": "fragment"
    }
   },
   "source": [
    "- Measurements $X \\in \\mathcal{R}^{m \\times n}$ and $b \\in \\mathcal{R}^m$"
   ]
  },
  {
   "cell_type": "markdown",
   "metadata": {
    "slideshow": {
     "slide_type": "fragment"
    }
   },
   "source": [
    "- Seek a vector $\\beta \\in \\mathcal{R}^{n}$ such that $X\\beta$ is close to $b$"
   ]
  },
  {
   "cell_type": "markdown",
   "metadata": {
    "slideshow": {
     "slide_type": "fragment"
    }
   },
   "source": [
    "- Closeness is defined as the sum of the squared differences (objective function):\n",
    "$$ \\sum_{i=1}^m (y_i - x_i^T\\beta)^2 = \\|y - X\\beta\\|_2^2, $$"
   ]
  },
  {
   "cell_type": "markdown",
   "metadata": {
    "slideshow": {
     "slide_type": "fragment"
    }
   },
   "source": [
    "- Optimal $\\beta$ solves following optimization problem\n",
    "$$  \n",
    "    \\begin{array}{ll}\n",
    "    \\beta^\\star = \\arg\\min_\\beta\\mbox{minimize}   & \\|y - X\\beta\\|_2^2.\n",
    "    \\end{array}\n",
    "$$"
   ]
  },
  {
   "cell_type": "markdown",
   "metadata": {
    "slideshow": {
     "slide_type": "fragment"
    }
   },
   "source": [
    "- Let $\\beta^\\star$ denote the optimal $\\beta$"
   ]
  },
  {
   "cell_type": "markdown",
   "metadata": {
    "slideshow": {
     "slide_type": "fragment"
    }
   },
   "source": [
    "- We can compute $\\beta^\\star$ with an optimization package, `cvxpy`"
   ]
  },
  {
   "cell_type": "code",
   "execution_count": 1,
   "metadata": {
    "slideshow": {
     "slide_type": "slide"
    }
   },
   "outputs": [
    {
     "data": {
      "text/plain": [
       "2.1962944797293364e-30"
      ]
     },
     "execution_count": 1,
     "metadata": {},
     "output_type": "execute_result"
    }
   ],
   "source": [
    "# Import packages.\n",
    "import cvxpy as cp\n",
    "import numpy as np\n",
    "\n",
    "# Generate data.\n",
    "m = 10 \n",
    "n = 5 \n",
    "np.random.seed(1)\n",
    "\n",
    "true_beta = np.array([0]*n)\n",
    "true_beta[0:2] = 4\n",
    "\n",
    "X = np.random.randn(m, n)\n",
    "y = X@true_beta\n",
    "\n",
    "# Define and solve the CVXPY problem.\n",
    "beta = cp.Variable(n)\n",
    "cost = cp.sum_squares(X*beta - y)\n",
    "prob = cp.Problem(cp.Minimize(cost))\n",
    "prob.solve() # The optimal objective value is returned by `prob.solve()`."
   ]
  },
  {
   "cell_type": "code",
   "execution_count": 2,
   "metadata": {
    "slideshow": {
     "slide_type": "slide"
    }
   },
   "outputs": [
    {
     "name": "stdout",
     "output_type": "stream",
     "text": [
      "\n",
      "The optimal objective value is 2.1962944797293364e-30\n",
      "\n",
      "The true beta is [4 4 0 0 0]\n",
      "The optimal (rounded) beta is [ 4.  4. -0.  0.  0.]\n",
      "\n",
      "The norm of the residual is  3.39220374266123e-15\n",
      "The (rounded) gradient at the solution is  [ 0.  0.  0.  0. -0.]\n"
     ]
    }
   ],
   "source": [
    "# Print result.\n",
    "print(\"\\nThe optimal objective value is\", prob.value)\n",
    "\n",
    "print(\"\\nThe true beta is\", true_beta)\n",
    "print(\"The optimal (rounded) beta is\", np.round(beta.value, 10))\n",
    "\n",
    "print(\"\\nThe norm of the residual is \", cp.norm(X*beta - y, p=2).value)\n",
    "print(\"The (rounded) gradient at the solution is \", np.round((X.T@X)@beta.value - X.T@y, 5))"
   ]
  },
  {
   "cell_type": "markdown",
   "metadata": {
    "slideshow": {
     "slide_type": "slide"
    }
   },
   "source": [
    "## Specifying optimization functions\n",
    "\n",
    "Optimization functions, in general, look like the following:\n",
    "\n",
    "$$  \n",
    "    \\begin{array}{lll}\n",
    "    \\theta^\\star =& \\arg\\min_\\theta & f(\\theta) \\\\\n",
    "    & \\text{subject to } & \\theta \\in \\mathcal{C} & \\\\\n",
    "    \\end{array}\n",
    "$$"
   ]
  },
  {
   "cell_type": "markdown",
   "metadata": {
    "slideshow": {
     "slide_type": "fragment"
    }
   },
   "source": [
    "- **Variable of interest** (assume is scalar valued): $\\theta$ "
   ]
  },
  {
   "cell_type": "markdown",
   "metadata": {
    "slideshow": {
     "slide_type": "fragment"
    }
   },
   "source": [
    "- **Objective function**: $f(\\theta)$  \n",
    "    e.g., $f(\\theta) = \\| X\\theta - y \\|_2$"
   ]
  },
  {
   "cell_type": "markdown",
   "metadata": {
    "slideshow": {
     "slide_type": "fragment"
    }
   },
   "source": [
    "- **Constraint set**: $\\mathcal{C}$  \n",
    "    e.g., $\\theta \\geq 0$ implies $\\mathcal{C} = \\{\\theta\\,:\\,\\theta\\geq 0\\}$"
   ]
  },
  {
   "cell_type": "markdown",
   "metadata": {
    "slideshow": {
     "slide_type": "slide"
    }
   },
   "source": [
    "## Non-negative Matrix Factorization from scratch\n",
    "\n",
    "- Given a matrix $A \\in \\mathbf{\\mbox{R}}^{m \\times n}$"
   ]
  },
  {
   "cell_type": "markdown",
   "metadata": {
    "slideshow": {
     "slide_type": "fragment"
    }
   },
   "source": [
    "- Solve the following problem:\n",
    "    \\begin{array}{ll}\n",
    "    \\mbox{minimize}   & \\| A - YX \\|_F \\\\\n",
    "    \\mbox{subject to} & Y \\succeq 0 \\\\\n",
    "                      & X \\succeq 0,\n",
    "    \\end{array}\n",
    "    where $Y \\in \\mathbf{\\mbox{R}}^{m \\times k}$ and $X \\in \\mathbf{\\mbox{R}}^{k \\times n}$."
   ]
  },
  {
   "cell_type": "markdown",
   "metadata": {
    "slideshow": {
     "slide_type": "fragment"
    }
   },
   "source": [
    "- An *approximate* solution is computed by first generating a random initial guess for $Y$"
   ]
  },
  {
   "cell_type": "markdown",
   "metadata": {
    "slideshow": {
     "slide_type": "fragment"
    }
   },
   "source": [
    "- Then alternatively minimizing over $X$ and $Y$ for a fixed number of iterations.\n",
    "\n",
    "- Example is from https://www.cvxpy.org/examples/index.html"
   ]
  },
  {
   "cell_type": "code",
   "execution_count": 3,
   "metadata": {
    "slideshow": {
     "slide_type": "slide"
    }
   },
   "outputs": [
    {
     "data": {
      "text/plain": [
       "array([[0.36578562, 0.90925931, 0.88152457, 0.59954003, 0.38252948,\n",
       "        0.71393227, 0.97967548, 0.80800948, 1.1272552 , 0.99293615],\n",
       "       [0.74532355, 0.94636428, 0.73737872, 0.83074556, 0.51912656,\n",
       "        0.64505613, 1.15377095, 0.92155154, 0.75458583, 1.00393961],\n",
       "       [1.04173172, 1.17005205, 1.26474289, 0.8824068 , 0.56980605,\n",
       "        1.2165679 , 1.28579893, 1.34837596, 1.63045178, 1.40650971],\n",
       "       [0.70714701, 0.98038111, 0.70402935, 0.96552132, 0.69135451,\n",
       "        0.52451783, 1.41918074, 0.75663339, 1.30247237, 1.32908046],\n",
       "       [1.10983739, 2.25148073, 1.79966617, 1.61516947, 1.11119794,\n",
       "        1.44141383, 2.48124124, 1.89578475, 2.08365176, 2.32708485],\n",
       "       [0.31208649, 1.58757829, 0.77643788, 0.87147791, 0.8637883 ,\n",
       "        0.46006345, 1.47228383, 0.85626615, 0.75204488, 1.35176932],\n",
       "       [1.46069598, 1.3622593 , 1.15830186, 1.5601164 , 0.87660762,\n",
       "        1.03095813, 2.07771337, 1.47571022, 1.53063733, 1.76970271],\n",
       "       [0.93259587, 1.33683282, 1.01095442, 1.4822445 , 0.83240143,\n",
       "        0.71692761, 2.09645525, 1.13800899, 1.4753337 , 1.70370933],\n",
       "       [1.05808798, 1.60987403, 1.40700235, 1.1339746 , 0.89017595,\n",
       "        1.23165184, 1.75560091, 1.44859232, 2.02395236, 1.88880291],\n",
       "       [0.63602049, 1.02355818, 1.04121338, 0.90793107, 0.51307151,\n",
       "        0.84799837, 1.37325327, 0.98790558, 1.53394506, 1.31867696]])"
      ]
     },
     "execution_count": 3,
     "metadata": {},
     "output_type": "execute_result"
    }
   ],
   "source": [
    "# Ensure repeatably random problem data.\n",
    "np.random.seed(1)\n",
    "\n",
    "# Generate random data matrix A.\n",
    "m = 10\n",
    "n = 10\n",
    "k = 5\n",
    "A = np.random.rand(m, k).dot(np.random.rand(k, n))\n",
    "A"
   ]
  },
  {
   "cell_type": "code",
   "execution_count": 4,
   "metadata": {
    "slideshow": {
     "slide_type": "slide"
    }
   },
   "outputs": [
    {
     "name": "stdout",
     "output_type": "stream",
     "text": [
      "Iteration 1, residual norm 6.162631300288564\n",
      "Iteration 2, residual norm 1.0417212280147534\n",
      "Iteration 3, residual norm 0.9305289669015021\n",
      "Iteration 4, residual norm 0.5452281149039587\n",
      "Iteration 5, residual norm 0.31354074747926347\n",
      "Iteration 6, residual norm 0.23735094021095743\n",
      "Iteration 7, residual norm 0.19293901748930656\n",
      "Iteration 8, residual norm 0.16133068119270774\n",
      "Iteration 9, residual norm 0.1333246313286077\n",
      "Iteration 10, residual norm 0.11149863448559755\n",
      "Iteration 11, residual norm 0.0928670609578753\n",
      "Iteration 12, residual norm 0.07781148174607003\n",
      "Iteration 13, residual norm 0.06524525350749973\n",
      "Iteration 14, residual norm 0.054956400533560656\n",
      "Iteration 15, residual norm 0.04638637015028044\n",
      "Iteration 16, residual norm 0.03941905900017404\n",
      "Iteration 17, residual norm 0.03381960529948837\n",
      "Iteration 18, residual norm 0.029234363998676134\n",
      "Iteration 19, residual norm 0.02575998542488671\n",
      "Iteration 20, residual norm 0.022706734352687476\n",
      "Iteration 21, residual norm 0.02021499857945061\n",
      "Iteration 22, residual norm 0.0179217415137561\n",
      "Iteration 23, residual norm 0.015898316037028012\n",
      "Iteration 24, residual norm 0.01422695779437799\n",
      "Iteration 25, residual norm 0.012667508964740174\n",
      "Iteration 26, residual norm 0.011306043608943599\n",
      "Iteration 27, residual norm 0.010184610624823653\n",
      "Iteration 28, residual norm 0.009019118627254704\n",
      "Iteration 29, residual norm 0.008208301124334906\n",
      "Iteration 30, residual norm 0.007217320525458968\n"
     ]
    }
   ],
   "source": [
    "# Initialize Y randomly.\n",
    "Y_init = np.random.rand(m, k)\n",
    "\n",
    "# Ensure same initial random Y, rather than generate new one\n",
    "# when executing this cell.\n",
    "Y = Y_init \n",
    "\n",
    "# Perform alternating minimization.\n",
    "MAX_ITERS = 30\n",
    "residual = np.zeros(MAX_ITERS)\n",
    "for iter_num in range(1, 1+MAX_ITERS):\n",
    "    # At the beginning of an iteration, X and Y are NumPy\n",
    "    # array types, NOT CVXPY variables.\n",
    "\n",
    "    # For odd iterations, treat Y constant, optimize over X.\n",
    "    if iter_num % 2 == 1:\n",
    "        X = cp.Variable(shape=(k, n))\n",
    "        constraint = [X >= 0]\n",
    "    # For even iterations, treat X constant, optimize over Y.\n",
    "    else:\n",
    "        Y = cp.Variable(shape=(m, k))\n",
    "        constraint = [Y >= 0]\n",
    "    \n",
    "    # Solve the problem.\n",
    "    # increase max iters otherwise, a few iterations are \"OPTIMAL_INACCURATE\"\n",
    "    # (eg a few of the entries in X or Y are negative beyond standard tolerances)\n",
    "    obj = cp.Minimize(cp.norm(A - Y*X, 'fro'))\n",
    "    prob = cp.Problem(obj, constraint)\n",
    "    prob.solve(solver=cp.SCS, max_iters=10000)\n",
    "\n",
    "    if prob.status != cp.OPTIMAL:\n",
    "        raise Exception(\"Solver did not converge!\")\n",
    "    \n",
    "    print('Iteration {}, residual norm {}'.format(iter_num, prob.value))\n",
    "    residual[iter_num-1] = prob.value\n",
    "\n",
    "    # Convert variable to NumPy array constant for next iteration.\n",
    "    if iter_num % 2 == 1:\n",
    "        X = X.value\n",
    "    else:\n",
    "        Y = Y.value"
   ]
  },
  {
   "cell_type": "code",
   "execution_count": 5,
   "metadata": {
    "slideshow": {
     "slide_type": "slide"
    }
   },
   "outputs": [
    {
     "name": "stdout",
     "output_type": "stream",
     "text": [
      "[[-4.49617672e-03 -8.33727593e-04  1.12570552e-03  6.44704254e-04\n",
      "  -1.91443468e-03 -8.80562021e-04  3.16047421e-03 -1.42320351e-03\n",
      "   9.43224985e-04 -5.74654557e-04]\n",
      " [ 1.64273965e-04  9.41993479e-05 -1.87006425e-04  2.99273157e-04\n",
      "   8.96399277e-05  1.35080224e-04 -4.68990520e-04  1.09277683e-04\n",
      "  -4.25494928e-05  1.41383215e-04]\n",
      " [-4.20958969e-04  9.24809567e-04  4.09863370e-04 -3.26450040e-04\n",
      "  -5.44083871e-05  8.06078234e-04 -1.33662919e-03  6.83286218e-04\n",
      "  -5.14147294e-04 -6.16213840e-05]\n",
      " [ 5.77677671e-05  8.86585955e-05  9.49074549e-05  2.42656599e-04\n",
      "  -9.02646860e-05 -4.00156132e-04 -3.65963354e-04  2.60787294e-04\n",
      "   6.88803388e-05  7.60765172e-05]\n",
      " [ 2.90344525e-04 -5.09501484e-05 -4.65387113e-05 -4.99774490e-04\n",
      "   2.11622004e-04  3.35279964e-04  3.54681420e-04 -1.53569246e-04\n",
      "  -1.13430635e-04 -1.03910198e-04]\n",
      " [-9.60741880e-05  1.89008570e-05 -7.45413090e-05  2.11200830e-04\n",
      "  -2.30559880e-05  7.13142839e-05 -1.39065341e-04 -5.31385084e-06\n",
      "   1.01581413e-05  6.17903058e-05]\n",
      " [ 2.91847818e-04  1.90474307e-04 -1.74035369e-04  5.40100091e-04\n",
      "   6.49567867e-05 -1.19062419e-04 -8.84548916e-04  3.40703000e-04\n",
      "  -1.10506966e-05  2.36805475e-04]\n",
      " [ 2.19995095e-04 -7.49396570e-05  2.59759954e-04 -6.90236791e-04\n",
      "   5.47503015e-05 -1.87437684e-04  5.65973903e-04 -3.29028165e-05\n",
      "  -1.10824485e-05 -2.06687596e-04]\n",
      " [ 1.58811326e-04  2.77081602e-04 -5.07130912e-04 -6.48097878e-05\n",
      "   5.43552558e-04 -2.75595307e-04 -1.30727412e-03 -2.38550353e-04\n",
      "   8.34252290e-04  6.06010946e-04]\n",
      " [ 2.22123015e-04 -1.11656201e-04  2.00529320e-04 -7.98850692e-04\n",
      "   1.11316748e-04  2.06214272e-05  7.15394169e-04 -1.48586898e-04\n",
      "  -5.42448954e-05 -2.36745288e-04]]\n",
      "Residual after 30 iterations: 0.007217320525458968\n"
     ]
    }
   ],
   "source": [
    "print(A - Y.dot(X))\n",
    "print('Residual after {} iterations: {}'.format(iter_num, prob.value))"
   ]
  },
  {
   "cell_type": "code",
   "execution_count": 6,
   "metadata": {
    "slideshow": {
     "slide_type": "slide"
    }
   },
   "outputs": [
    {
     "data": {
      "image/png": "[encoded data removed]",
      "text/plain": [
       "<Figure size 432x288 with 1 Axes>"
      ]
     },
     "metadata": {
      "needs_background": "light"
     },
     "output_type": "display_data"
    }
   ],
   "source": [
    "import matplotlib.pyplot as plt\n",
    "\n",
    "# Show plot inline in ipython.\n",
    "%matplotlib inline\n",
    "\n",
    "# Set plot properties.\n",
    "plt.rc('text', usetex=False)\n",
    "plt.rc('font', family='serif')\n",
    "font = {'weight' : 'normal',\n",
    "        'size'   : 16}\n",
    "plt.rc('font', **font)\n",
    "\n",
    "# Create the plot.\n",
    "plt.plot(residual)\n",
    "plt.xlabel('Iteration Number')\n",
    "plt.ylabel('Residual Norm')\n",
    "plt.show()"
   ]
  }
 ],
 "metadata": {
  "celltoolbar": "Slideshow",
  "kernelspec": {
   "display_name": "Python 3",
   "language": "python",
   "name": "python3"
  },
  "language_info": {
   "codemirror_mode": {
    "name": "ipython",
    "version": 3
   },
   "file_extension": ".py",
   "mimetype": "text/x-python",
   "name": "python",
   "nbconvert_exporter": "python",
   "pygments_lexer": "ipython3",
   "version": "3.6.7"
  }
 },
 "nbformat": 4,
 "nbformat_minor": 2
}
