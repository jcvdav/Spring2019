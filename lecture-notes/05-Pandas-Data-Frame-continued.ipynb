{
 "cells": [
  {
   "cell_type": "markdown",
   "metadata": {
    "slideshow": {
     "slide_type": "slide"
    }
   },
   "source": [
    "# Pandas Data Frame\n",
    "\n",
    "- Pandas package is like `data.frame` in R"
   ]
  },
  {
   "cell_type": "markdown",
   "metadata": {
    "slideshow": {
     "slide_type": "fragment"
    }
   },
   "source": [
    "- Conceptually similar but usage differ"
   ]
  },
  {
   "cell_type": "markdown",
   "metadata": {
    "slideshow": {
     "slide_type": "fragment"
    }
   },
   "source": [
    "- Introducing Pandas using basketball data"
   ]
  },
  {
   "cell_type": "markdown",
   "metadata": {
    "slideshow": {
     "slide_type": "slide"
    }
   },
   "source": [
    "Obtaining data from NBA can be done using the function developed previously."
   ]
  },
  {
   "cell_type": "code",
   "execution_count": 93,
   "metadata": {
    "collapsed": true,
    "slideshow": {
     "slide_type": "fragment"
    }
   },
   "outputs": [],
   "source": [
    "import pandas as pd\n",
    "import numpy as np\n",
    "\n",
    "def get_nba_data(endpt, params, return_url=False):\n",
    "\n",
    "    ## endpt: https://github.com/seemethere/nba_py/wiki/stats.nba.com-Endpoint-Documentation\n",
    "    ## params: dictionary of parameters: i.e., {'LeagueID':'00'}\n",
    "    \n",
    "    from pandas import DataFrame\n",
    "    from urllib.parse import urlencode\n",
    "    import json\n",
    "    \n",
    "    useragent = \"\\\"Mozilla/5.0 (Macintosh; Intel Mac OS X 10_11_2) AppleWebKit/601.3.9 (KHTML, like Gecko) Version/9.0.2 Safari/601.3.9\\\"\"\n",
    "    dataurl = \"\\\"\" + \"http://stats.nba.com/stats/\" + endpt + \"?\" + urlencode(params) + \"\\\"\"\n",
    "    \n",
    "    # for debugging: just return the url\n",
    "    if return_url:\n",
    "        return(dataurl)\n",
    "    \n",
    "    jsonstr = !wget -q -O - --user-agent={useragent} {dataurl}\n",
    "    \n",
    "    data = json.loads(jsonstr[0])\n",
    "    \n",
    "    h = data['resultSets'][0]['headers']\n",
    "    d = data['resultSets'][0]['rowSet']\n",
    "    \n",
    "    return(DataFrame(d, columns=h))"
   ]
  },
  {
   "cell_type": "markdown",
   "metadata": {
    "slideshow": {
     "slide_type": "fragment"
    }
   },
   "source": [
    "Using the function, collect teams and players data"
   ]
  },
  {
   "cell_type": "code",
   "execution_count": 94,
   "metadata": {
    "collapsed": true,
    "slideshow": {
     "slide_type": "fragment"
    }
   },
   "outputs": [],
   "source": [
    "## get all teams\n",
    "params = {'LeagueID':'00'}\n",
    "# teams = get_nba_data('commonTeamYears', params)      # NBA doesn't cooperate\n",
    "teams = pd.read_pickle('data/commonTeamYears.pkl')     # saved from earlier\n",
    "\n",
    "## get all players\n",
    "params = {'LeagueID':'00', 'Season': '2016-17', 'IsOnlyCurrentSeason': '0'}\n",
    "# players = get_nba_data('commonallplayers', params)   # NBA doesn't cooperate \n",
    "players = pd.read_pickle('data/commonallplayers.pkl')  # saved from earlier"
   ]
  },
  {
   "cell_type": "markdown",
   "metadata": {
    "slideshow": {
     "slide_type": "slide"
    }
   },
   "source": [
    "# Pandas\n",
    "\n",
    "Pandas has an extensive set of functions. Refer to [Chapter 3 in PDSH](https://jakevdp.github.io/PythonDataScienceHandbook/03.00-introduction-to-pandas.html) and the [official website](https://pandas.pydata.org). Latest stable release documentation is here: [http://pandas.pydata.org/pandas-docs/stable/api.html](http://pandas.pydata.org/pandas-docs/stable/api.html)."
   ]
  },
  {
   "cell_type": "markdown",
   "metadata": {
    "slideshow": {
     "slide_type": "fragment"
    }
   },
   "source": [
    "## Pandas Series and Data Frames\n",
    "\n",
    "Pandas data frames are different objects:"
   ]
  },
  {
   "cell_type": "code",
   "execution_count": 95,
   "metadata": {
    "collapsed": false,
    "slideshow": {
     "slide_type": "fragment"
    }
   },
   "outputs": [
    {
     "name": "stdout",
     "output_type": "stream",
     "text": [
      "data frame object : <class 'pandas.core.frame.DataFrame'>\n",
      "data row object   : <class 'pandas.core.series.Series'>\n",
      "data column object: <class 'pandas.core.series.Series'>\n"
     ]
    }
   ],
   "source": [
    "print(\"data frame object :\", type(teams))\n",
    "print(\"data row object   :\", type(teams.iloc[0]))\n",
    "print(\"data column object:\", type(teams.ABBREVIATION))"
   ]
  },
  {
   "cell_type": "markdown",
   "metadata": {
    "slideshow": {
     "slide_type": "slide"
    }
   },
   "source": [
    "- Rows and columns of pandas data frame are `Series` objects"
   ]
  },
  {
   "cell_type": "markdown",
   "metadata": {
    "slideshow": {
     "slide_type": "fragment"
    }
   },
   "source": [
    "- In R, rows would be a smaller data frame"
   ]
  },
  {
   "cell_type": "markdown",
   "metadata": {
    "slideshow": {
     "slide_type": "fragment"
    }
   },
   "source": [
    "- Methods (functions) for Series and DataFrames are not identical"
   ]
  },
  {
   "cell_type": "markdown",
   "metadata": {
    "slideshow": {
     "slide_type": "fragment"
    }
   },
   "source": [
    "- Pandas general functions: http://pandas.pydata.org/pandas-docs/stable/api.html#general-functions   \n",
    "    e.g., [`pandas.melt()`](http://pandas.pydata.org/pandas-docs/stable/generated/pandas.melt.html#pandas-melt) take `DataFrame` as input. "
   ]
  },
  {
   "cell_type": "markdown",
   "metadata": {
    "slideshow": {
     "slide_type": "fragment"
    }
   },
   "source": [
    "- Series methods: http://pandas.pydata.org/pandas-docs/stable/api.html#series"
   ]
  },
  {
   "cell_type": "markdown",
   "metadata": {
    "slideshow": {
     "slide_type": "fragment"
    }
   },
   "source": [
    "- DataFrame methods: http://pandas.pydata.org/pandas-docs/stable/api.html#dataframe"
   ]
  },
  {
   "cell_type": "markdown",
   "metadata": {
    "slideshow": {
     "slide_type": "fragment"
    }
   },
   "source": [
    "- Index methods: http://pandas.pydata.org/pandas-docs/version/0.24/reference/api/pandas.Index.html#pandas.Index"
   ]
  },
  {
   "cell_type": "markdown",
   "metadata": {
    "slideshow": {
     "slide_type": "slide"
    }
   },
   "source": [
    "## Reading Documentation\n",
    "\n",
    "- Make sure of the version"
   ]
  },
  {
   "cell_type": "code",
   "execution_count": 96,
   "metadata": {
    "collapsed": false,
    "slideshow": {
     "slide_type": "fragment"
    }
   },
   "outputs": [
    {
     "data": {
      "text/plain": [
       "'0.24.2'"
      ]
     },
     "execution_count": 96,
     "metadata": {},
     "output_type": "execute_result"
    }
   ],
   "source": [
    "pd.__version__"
   ]
  },
  {
   "cell_type": "markdown",
   "metadata": {
    "slideshow": {
     "slide_type": "fragment"
    }
   },
   "source": [
    "- [Version 0.24 documentation](http://pandas.pydata.org/pandas-docs/version/0.24/reference/index.html)"
   ]
  },
  {
   "cell_type": "markdown",
   "metadata": {
    "slideshow": {
     "slide_type": "fragment"
    }
   },
   "source": [
    "- Locate the right section (`Series`, `DataFrame`, etc.): e.g. [`Series` section](http://pandas.pydata.org/pandas-docs/version/0.24/reference/series.html)"
   ]
  },
  {
   "cell_type": "markdown",
   "metadata": {
    "slideshow": {
     "slide_type": "fragment"
    }
   },
   "source": [
    "- Example: sorting values"
   ]
  },
  {
   "cell_type": "code",
   "execution_count": 97,
   "metadata": {
    "collapsed": false,
    "slideshow": {
     "slide_type": "fragment"
    }
   },
   "outputs": [
    {
     "data": {
      "text/plain": [
       "0    5\n",
       "1    8\n",
       "2    9\n",
       "3    5\n",
       "4    0\n",
       "dtype: int64"
      ]
     },
     "execution_count": 97,
     "metadata": {},
     "output_type": "execute_result"
    }
   ],
   "source": [
    "np.random.seed(1)\n",
    "somearray = pd.Series(np.random.randint(0, 10, 5))\n",
    "somearray"
   ]
  },
  {
   "cell_type": "code",
   "execution_count": 98,
   "metadata": {
    "collapsed": false,
    "slideshow": {
     "slide_type": "slide"
    }
   },
   "outputs": [
    {
     "data": {
      "text/plain": [
       "4    0\n",
       "0    5\n",
       "3    5\n",
       "1    8\n",
       "2    9\n",
       "dtype: int64"
      ]
     },
     "execution_count": 98,
     "metadata": {},
     "output_type": "execute_result"
    }
   ],
   "source": [
    "# somearray: [5, 8, 9, 5, 0]\n",
    "somearray.sort_values()  ## shift-tab "
   ]
  },
  {
   "cell_type": "code",
   "execution_count": 99,
   "metadata": {
    "collapsed": false,
    "slideshow": {
     "slide_type": "fragment"
    }
   },
   "outputs": [
    {
     "data": {
      "text/plain": [
       "0    4\n",
       "1    0\n",
       "2    3\n",
       "3    1\n",
       "4    2\n",
       "dtype: int64"
      ]
     },
     "execution_count": 99,
     "metadata": {},
     "output_type": "execute_result"
    }
   ],
   "source": [
    "# somearray: [5, 8, 9, 5, 0]\n",
    "somearray.argsort()"
   ]
  },
  {
   "cell_type": "code",
   "execution_count": 100,
   "metadata": {
    "collapsed": false,
    "scrolled": true,
    "slideshow": {
     "slide_type": "slide"
    }
   },
   "outputs": [
    {
     "data": {
      "text/html": [
       "<div>\n",
       "<style scoped>\n",
       "    .dataframe tbody tr th:only-of-type {\n",
       "        vertical-align: middle;\n",
       "    }\n",
       "\n",
       "    .dataframe tbody tr th {\n",
       "        vertical-align: top;\n",
       "    }\n",
       "\n",
       "    .dataframe thead th {\n",
       "        text-align: right;\n",
       "    }\n",
       "</style>\n",
       "<table border=\"1\" class=\"dataframe\">\n",
       "  <thead>\n",
       "    <tr style=\"text-align: right;\">\n",
       "      <th></th>\n",
       "      <th>PERSON_ID</th>\n",
       "      <th>DISPLAY_LAST_COMMA_FIRST</th>\n",
       "      <th>DISPLAY_FIRST_LAST</th>\n",
       "      <th>ROSTERSTATUS</th>\n",
       "      <th>FROM_YEAR</th>\n",
       "      <th>TO_YEAR</th>\n",
       "      <th>PLAYERCODE</th>\n",
       "      <th>TEAM_ID</th>\n",
       "      <th>TEAM_CITY</th>\n",
       "      <th>TEAM_NAME</th>\n",
       "      <th>TEAM_ABBREVIATION</th>\n",
       "      <th>TEAM_CODE</th>\n",
       "      <th>GAMES_PLAYED_FLAG</th>\n",
       "    </tr>\n",
       "  </thead>\n",
       "  <tbody>\n",
       "    <tr>\n",
       "      <th>0</th>\n",
       "      <td>76001</td>\n",
       "      <td>Abdelnaby, Alaa</td>\n",
       "      <td>Alaa Abdelnaby</td>\n",
       "      <td>0</td>\n",
       "      <td>1990</td>\n",
       "      <td>1994</td>\n",
       "      <td>HISTADD_alaa_abdelnaby</td>\n",
       "      <td>0</td>\n",
       "      <td></td>\n",
       "      <td></td>\n",
       "      <td></td>\n",
       "      <td></td>\n",
       "      <td>Y</td>\n",
       "    </tr>\n",
       "    <tr>\n",
       "      <th>1</th>\n",
       "      <td>76002</td>\n",
       "      <td>Abdul-Aziz, Zaid</td>\n",
       "      <td>Zaid Abdul-Aziz</td>\n",
       "      <td>0</td>\n",
       "      <td>1968</td>\n",
       "      <td>1977</td>\n",
       "      <td>HISTADD_zaid_abdul-aziz</td>\n",
       "      <td>0</td>\n",
       "      <td></td>\n",
       "      <td></td>\n",
       "      <td></td>\n",
       "      <td></td>\n",
       "      <td>Y</td>\n",
       "    </tr>\n",
       "    <tr>\n",
       "      <th>2</th>\n",
       "      <td>76003</td>\n",
       "      <td>Abdul-Jabbar, Kareem</td>\n",
       "      <td>Kareem Abdul-Jabbar</td>\n",
       "      <td>0</td>\n",
       "      <td>1969</td>\n",
       "      <td>1988</td>\n",
       "      <td>HISTADD_kareem_abdul-jabbar</td>\n",
       "      <td>0</td>\n",
       "      <td></td>\n",
       "      <td></td>\n",
       "      <td></td>\n",
       "      <td></td>\n",
       "      <td>Y</td>\n",
       "    </tr>\n",
       "    <tr>\n",
       "      <th>3</th>\n",
       "      <td>51</td>\n",
       "      <td>Abdul-Rauf, Mahmoud</td>\n",
       "      <td>Mahmoud Abdul-Rauf</td>\n",
       "      <td>0</td>\n",
       "      <td>1990</td>\n",
       "      <td>2000</td>\n",
       "      <td>mahmoud_abdul-rauf</td>\n",
       "      <td>0</td>\n",
       "      <td></td>\n",
       "      <td></td>\n",
       "      <td></td>\n",
       "      <td></td>\n",
       "      <td>Y</td>\n",
       "    </tr>\n",
       "    <tr>\n",
       "      <th>4</th>\n",
       "      <td>1505</td>\n",
       "      <td>Abdul-Wahad, Tariq</td>\n",
       "      <td>Tariq Abdul-Wahad</td>\n",
       "      <td>0</td>\n",
       "      <td>1997</td>\n",
       "      <td>2003</td>\n",
       "      <td>tariq_abdul-wahad</td>\n",
       "      <td>0</td>\n",
       "      <td></td>\n",
       "      <td></td>\n",
       "      <td></td>\n",
       "      <td></td>\n",
       "      <td>Y</td>\n",
       "    </tr>\n",
       "    <tr>\n",
       "      <th>5</th>\n",
       "      <td>949</td>\n",
       "      <td>Abdur-Rahim, Shareef</td>\n",
       "      <td>Shareef Abdur-Rahim</td>\n",
       "      <td>0</td>\n",
       "      <td>1996</td>\n",
       "      <td>2007</td>\n",
       "      <td>shareef_abdur-rahim</td>\n",
       "      <td>0</td>\n",
       "      <td></td>\n",
       "      <td></td>\n",
       "      <td></td>\n",
       "      <td></td>\n",
       "      <td>Y</td>\n",
       "    </tr>\n",
       "    <tr>\n",
       "      <th>6</th>\n",
       "      <td>76005</td>\n",
       "      <td>Abernethy, Tom</td>\n",
       "      <td>Tom Abernethy</td>\n",
       "      <td>0</td>\n",
       "      <td>1976</td>\n",
       "      <td>1980</td>\n",
       "      <td>HISTADD_tom_abernethy</td>\n",
       "      <td>0</td>\n",
       "      <td></td>\n",
       "      <td></td>\n",
       "      <td></td>\n",
       "      <td></td>\n",
       "      <td>Y</td>\n",
       "    </tr>\n",
       "    <tr>\n",
       "      <th>7</th>\n",
       "      <td>76006</td>\n",
       "      <td>Able, Forest</td>\n",
       "      <td>Forest Able</td>\n",
       "      <td>0</td>\n",
       "      <td>1956</td>\n",
       "      <td>1956</td>\n",
       "      <td>HISTADD_frosty_able</td>\n",
       "      <td>0</td>\n",
       "      <td></td>\n",
       "      <td></td>\n",
       "      <td></td>\n",
       "      <td></td>\n",
       "      <td>Y</td>\n",
       "    </tr>\n",
       "    <tr>\n",
       "      <th>8</th>\n",
       "      <td>76007</td>\n",
       "      <td>Abramovic, John</td>\n",
       "      <td>John Abramovic</td>\n",
       "      <td>0</td>\n",
       "      <td>1946</td>\n",
       "      <td>1947</td>\n",
       "      <td>HISTADD_brooms_abramovic</td>\n",
       "      <td>0</td>\n",
       "      <td></td>\n",
       "      <td></td>\n",
       "      <td></td>\n",
       "      <td></td>\n",
       "      <td>Y</td>\n",
       "    </tr>\n",
       "    <tr>\n",
       "      <th>9</th>\n",
       "      <td>203518</td>\n",
       "      <td>Abrines, Alex</td>\n",
       "      <td>Alex Abrines</td>\n",
       "      <td>1</td>\n",
       "      <td>2016</td>\n",
       "      <td>2018</td>\n",
       "      <td>alex_abrines</td>\n",
       "      <td>1610612760</td>\n",
       "      <td>Oklahoma City</td>\n",
       "      <td>Thunder</td>\n",
       "      <td>OKC</td>\n",
       "      <td>thunder</td>\n",
       "      <td>Y</td>\n",
       "    </tr>\n",
       "  </tbody>\n",
       "</table>\n",
       "</div>"
      ],
      "text/plain": [
       "   PERSON_ID DISPLAY_LAST_COMMA_FIRST   DISPLAY_FIRST_LAST  ROSTERSTATUS  \\\n",
       "0      76001          Abdelnaby, Alaa       Alaa Abdelnaby             0   \n",
       "1      76002         Abdul-Aziz, Zaid      Zaid Abdul-Aziz             0   \n",
       "2      76003     Abdul-Jabbar, Kareem  Kareem Abdul-Jabbar             0   \n",
       "3         51      Abdul-Rauf, Mahmoud   Mahmoud Abdul-Rauf             0   \n",
       "4       1505       Abdul-Wahad, Tariq    Tariq Abdul-Wahad             0   \n",
       "5        949     Abdur-Rahim, Shareef  Shareef Abdur-Rahim             0   \n",
       "6      76005           Abernethy, Tom        Tom Abernethy             0   \n",
       "7      76006             Able, Forest          Forest Able             0   \n",
       "8      76007          Abramovic, John       John Abramovic             0   \n",
       "9     203518            Abrines, Alex         Alex Abrines             1   \n",
       "\n",
       "  FROM_YEAR TO_YEAR                   PLAYERCODE     TEAM_ID      TEAM_CITY  \\\n",
       "0      1990    1994       HISTADD_alaa_abdelnaby           0                  \n",
       "1      1968    1977      HISTADD_zaid_abdul-aziz           0                  \n",
       "2      1969    1988  HISTADD_kareem_abdul-jabbar           0                  \n",
       "3      1990    2000           mahmoud_abdul-rauf           0                  \n",
       "4      1997    2003            tariq_abdul-wahad           0                  \n",
       "5      1996    2007          shareef_abdur-rahim           0                  \n",
       "6      1976    1980        HISTADD_tom_abernethy           0                  \n",
       "7      1956    1956          HISTADD_frosty_able           0                  \n",
       "8      1946    1947     HISTADD_brooms_abramovic           0                  \n",
       "9      2016    2018                 alex_abrines  1610612760  Oklahoma City   \n",
       "\n",
       "  TEAM_NAME TEAM_ABBREVIATION TEAM_CODE GAMES_PLAYED_FLAG  \n",
       "0                                                       Y  \n",
       "1                                                       Y  \n",
       "2                                                       Y  \n",
       "3                                                       Y  \n",
       "4                                                       Y  \n",
       "5                                                       Y  \n",
       "6                                                       Y  \n",
       "7                                                       Y  \n",
       "8                                                       Y  \n",
       "9   Thunder               OKC   thunder                 Y  "
      ]
     },
     "execution_count": 100,
     "metadata": {},
     "output_type": "execute_result"
    }
   ],
   "source": [
    "# copy players data frame\n",
    "pc = players.copy()\n",
    "pc.head(10)"
   ]
  },
  {
   "cell_type": "code",
   "execution_count": 101,
   "metadata": {
    "collapsed": false,
    "slideshow": {
     "slide_type": "fragment"
    }
   },
   "outputs": [
    {
     "data": {
      "text/plain": [
       "RangeIndex(start=0, stop=4391, step=1)"
      ]
     },
     "execution_count": 101,
     "metadata": {},
     "output_type": "execute_result"
    }
   ],
   "source": [
    "# rownames are of type index\n",
    "pc.index"
   ]
  },
  {
   "cell_type": "code",
   "execution_count": 102,
   "metadata": {
    "collapsed": false,
    "slideshow": {
     "slide_type": "fragment"
    }
   },
   "outputs": [
    {
     "data": {
      "text/plain": [
       "Index(['PERSON_ID', 'DISPLAY_LAST_COMMA_FIRST', 'DISPLAY_FIRST_LAST',\n",
       "       'ROSTERSTATUS', 'FROM_YEAR', 'TO_YEAR', 'PLAYERCODE', 'TEAM_ID',\n",
       "       'TEAM_CITY', 'TEAM_NAME', 'TEAM_ABBREVIATION', 'TEAM_CODE',\n",
       "       'GAMES_PLAYED_FLAG'],\n",
       "      dtype='object')"
      ]
     },
     "execution_count": 102,
     "metadata": {},
     "output_type": "execute_result"
    }
   ],
   "source": [
    "# column names are of type index\n",
    "pc.columns"
   ]
  },
  {
   "cell_type": "markdown",
   "metadata": {
    "slideshow": {
     "slide_type": "slide"
    }
   },
   "source": [
    "### Indexing\n",
    "\n",
    "- `Index` can be used to subset `Series` and `DataFrames`"
   ]
  },
  {
   "cell_type": "markdown",
   "metadata": {
    "slideshow": {
     "slide_type": "fragment"
    }
   },
   "source": [
    "- https://pandas.pydata.org/pandas-docs/stable/indexing.html#different-choices-for-indexing."
   ]
  },
  {
   "cell_type": "markdown",
   "metadata": {
    "slideshow": {
     "slide_type": "fragment"
    }
   },
   "source": [
    "- `.loc` is primarily for using labels and booleans:  \n",
    "    e.g., column and row indices, comparison operators, etc"
   ]
  },
  {
   "cell_type": "code",
   "execution_count": 103,
   "metadata": {
    "collapsed": false,
    "slideshow": {
     "slide_type": "fragment"
    }
   },
   "outputs": [
    {
     "data": {
      "text/plain": [
       "PERSON_ID                                    76001\n",
       "DISPLAY_LAST_COMMA_FIRST           Abdelnaby, Alaa\n",
       "DISPLAY_FIRST_LAST                  Alaa Abdelnaby\n",
       "ROSTERSTATUS                                     0\n",
       "FROM_YEAR                                     1990\n",
       "TO_YEAR                                       1994\n",
       "PLAYERCODE                  HISTADD_alaa_abdelnaby\n",
       "TEAM_ID                                          0\n",
       "TEAM_CITY                                         \n",
       "TEAM_NAME                                         \n",
       "TEAM_ABBREVIATION                                 \n",
       "TEAM_CODE                                         \n",
       "GAMES_PLAYED_FLAG                                Y\n",
       "Name: 0, dtype: object"
      ]
     },
     "execution_count": 103,
     "metadata": {},
     "output_type": "execute_result"
    }
   ],
   "source": [
    "# index can be used to subset data\n",
    "pc.loc[0]"
   ]
  },
  {
   "cell_type": "markdown",
   "metadata": {
    "slideshow": {
     "slide_type": "slide"
    }
   },
   "source": [
    "- `.iloc` is primarily for using integer positions: i.e., like you would matrices"
   ]
  },
  {
   "cell_type": "code",
   "execution_count": 104,
   "metadata": {
    "collapsed": false,
    "slideshow": {
     "slide_type": "fragment"
    }
   },
   "outputs": [
    {
     "data": {
      "text/plain": [
       "PERSON_ID                                78650\n",
       "DISPLAY_LAST_COMMA_FIRST           Zunic, Matt\n",
       "DISPLAY_FIRST_LAST                  Matt Zunic\n",
       "ROSTERSTATUS                                 0\n",
       "FROM_YEAR                                 1948\n",
       "TO_YEAR                                   1948\n",
       "PLAYERCODE                  HISTADD_matt_zunic\n",
       "TEAM_ID                                      0\n",
       "TEAM_CITY                                     \n",
       "TEAM_NAME                                     \n",
       "TEAM_ABBREVIATION                             \n",
       "TEAM_CODE                                     \n",
       "GAMES_PLAYED_FLAG                            Y\n",
       "Name: 4390, dtype: object"
      ]
     },
     "execution_count": 104,
     "metadata": {},
     "output_type": "execute_result"
    }
   ],
   "source": [
    "# index can be used to subset data\n",
    "pc.iloc[-1]"
   ]
  },
  {
   "cell_type": "markdown",
   "metadata": {
    "slideshow": {
     "slide_type": "fragment"
    }
   },
   "source": [
    "More on indexing later"
   ]
  },
  {
   "cell_type": "markdown",
   "metadata": {
    "slideshow": {
     "slide_type": "slide"
    }
   },
   "source": [
    "## Series\n",
    "\n",
    "- Series are arrays with item names"
   ]
  },
  {
   "cell_type": "code",
   "execution_count": 105,
   "metadata": {
    "collapsed": false,
    "slideshow": {
     "slide_type": "fragment"
    }
   },
   "outputs": [
    {
     "data": {
      "text/plain": [
       "0    1\n",
       "1    2\n",
       "2    3\n",
       "dtype: int64"
      ]
     },
     "execution_count": 105,
     "metadata": {},
     "output_type": "execute_result"
    }
   ],
   "source": [
    "# list to Series\n",
    "tmp = pd.Series([1, 2, 3])\n",
    "tmp"
   ]
  },
  {
   "cell_type": "code",
   "execution_count": 106,
   "metadata": {
    "collapsed": false,
    "slideshow": {
     "slide_type": "fragment"
    }
   },
   "outputs": [
    {
     "data": {
      "text/plain": [
       "[1, 2, 3]"
      ]
     },
     "execution_count": 106,
     "metadata": {},
     "output_type": "execute_result"
    }
   ],
   "source": [
    "# Series to list\n",
    "tmp.to_list()"
   ]
  },
  {
   "cell_type": "code",
   "execution_count": 107,
   "metadata": {
    "collapsed": false,
    "slideshow": {
     "slide_type": "fragment"
    }
   },
   "outputs": [
    {
     "data": {
      "text/plain": [
       "{0: 1, 1: 2, 2: 3}"
      ]
     },
     "execution_count": 107,
     "metadata": {},
     "output_type": "execute_result"
    }
   ],
   "source": [
    "# Series to dict\n",
    "tmp.to_dict() # similar to converting NBA JSON data to data frame"
   ]
  },
  {
   "cell_type": "code",
   "execution_count": 108,
   "metadata": {
    "collapsed": false,
    "slideshow": {
     "slide_type": "slide"
    }
   },
   "outputs": [
    {
     "data": {
      "text/plain": [
       "RangeIndex(start=0, stop=3, step=1)"
      ]
     },
     "execution_count": 108,
     "metadata": {},
     "output_type": "execute_result"
    }
   ],
   "source": [
    "tmp.index # Series have index as item names"
   ]
  },
  {
   "cell_type": "code",
   "execution_count": 109,
   "metadata": {
    "collapsed": false,
    "slideshow": {
     "slide_type": "fragment"
    }
   },
   "outputs": [
    {
     "data": {
      "text/plain": [
       "one      1\n",
       "two      2\n",
       "three    3\n",
       "dtype: int64"
      ]
     },
     "execution_count": 109,
     "metadata": {},
     "output_type": "execute_result"
    }
   ],
   "source": [
    "tmp.index = ['one', 'two', 'three'] # new index can be set\n",
    "tmp"
   ]
  },
  {
   "cell_type": "code",
   "execution_count": 110,
   "metadata": {
    "collapsed": false,
    "slideshow": {
     "slide_type": "fragment"
    }
   },
   "outputs": [
    {
     "data": {
      "text/plain": [
       "Index(['one', 'two', 'three'], dtype='object')"
      ]
     },
     "execution_count": 110,
     "metadata": {},
     "output_type": "execute_result"
    }
   ],
   "source": [
    "tmp.index # Series have index as item names"
   ]
  },
  {
   "cell_type": "code",
   "execution_count": 111,
   "metadata": {
    "collapsed": false,
    "slideshow": {
     "slide_type": "fragment"
    }
   },
   "outputs": [
    {
     "data": {
      "text/plain": [
       "{'one': 1, 'two': 2, 'three': 3}"
      ]
     },
     "execution_count": 111,
     "metadata": {},
     "output_type": "execute_result"
    }
   ],
   "source": [
    "tmp.to_dict() # python dictionary"
   ]
  },
  {
   "cell_type": "markdown",
   "metadata": {
    "slideshow": {
     "slide_type": "slide"
    }
   },
   "source": [
    "### `dtype` \n",
    "\n",
    "- `dtype: int64` indicates `Series` contain integers"
   ]
  },
  {
   "cell_type": "markdown",
   "metadata": {
    "slideshow": {
     "slide_type": "fragment"
    }
   },
   "source": [
    "- Example: change to ordered category `dtype`:"
   ]
  },
  {
   "cell_type": "code",
   "execution_count": 112,
   "metadata": {
    "collapsed": false,
    "slideshow": {
     "slide_type": "fragment"
    }
   },
   "outputs": [
    {
     "data": {
      "text/plain": [
       "one      1.0\n",
       "two      2.0\n",
       "three    3.0\n",
       "dtype: float64"
      ]
     },
     "execution_count": 112,
     "metadata": {},
     "output_type": "execute_result"
    }
   ],
   "source": [
    "tmp.astype(float) # dtype to floating point number"
   ]
  },
  {
   "cell_type": "code",
   "execution_count": 113,
   "metadata": {
    "collapsed": false,
    "slideshow": {
     "slide_type": "fragment"
    }
   },
   "outputs": [
    {
     "data": {
      "text/plain": [
       "one      1\n",
       "two      2\n",
       "three    3\n",
       "dtype: category\n",
       "Categories (3, int64): [1 < 2 < 3]"
      ]
     },
     "execution_count": 113,
     "metadata": {},
     "output_type": "execute_result"
    }
   ],
   "source": [
    "tmp.astype(pd.CategoricalDtype(ordered=True)) # dtype to ordered categorical variable"
   ]
  },
  {
   "cell_type": "markdown",
   "metadata": {
    "slideshow": {
     "slide_type": "fragment"
    }
   },
   "source": [
    "- [`Series.astype()` documentation](http://pandas.pydata.org/pandas-docs/version/0.24/reference/api/pandas.Series.astype.html#pandas.Series.astype)"
   ]
  },
  {
   "cell_type": "markdown",
   "metadata": {
    "slideshow": {
     "slide_type": "slide"
    }
   },
   "source": [
    "## `DataFrame`\n",
    "\n",
    "- `DataFrame` is a collection of `Series`"
   ]
  },
  {
   "cell_type": "code",
   "execution_count": 114,
   "metadata": {
    "collapsed": false,
    "slideshow": {
     "slide_type": "fragment"
    }
   },
   "outputs": [
    {
     "data": {
      "text/html": [
       "<div>\n",
       "<style scoped>\n",
       "    .dataframe tbody tr th:only-of-type {\n",
       "        vertical-align: middle;\n",
       "    }\n",
       "\n",
       "    .dataframe tbody tr th {\n",
       "        vertical-align: top;\n",
       "    }\n",
       "\n",
       "    .dataframe thead th {\n",
       "        text-align: right;\n",
       "    }\n",
       "</style>\n",
       "<table border=\"1\" class=\"dataframe\">\n",
       "  <thead>\n",
       "    <tr style=\"text-align: right;\">\n",
       "      <th></th>\n",
       "      <th>LEAGUE_ID</th>\n",
       "      <th>TEAM_ID</th>\n",
       "      <th>MIN_YEAR</th>\n",
       "      <th>MAX_YEAR</th>\n",
       "      <th>ABBREVIATION</th>\n",
       "    </tr>\n",
       "  </thead>\n",
       "  <tbody>\n",
       "    <tr>\n",
       "      <th>0</th>\n",
       "      <td>00</td>\n",
       "      <td>1610612737</td>\n",
       "      <td>1949</td>\n",
       "      <td>2018</td>\n",
       "      <td>ATL</td>\n",
       "    </tr>\n",
       "    <tr>\n",
       "      <th>1</th>\n",
       "      <td>00</td>\n",
       "      <td>1610612738</td>\n",
       "      <td>1946</td>\n",
       "      <td>2018</td>\n",
       "      <td>BOS</td>\n",
       "    </tr>\n",
       "    <tr>\n",
       "      <th>2</th>\n",
       "      <td>00</td>\n",
       "      <td>1610612739</td>\n",
       "      <td>1970</td>\n",
       "      <td>2018</td>\n",
       "      <td>CLE</td>\n",
       "    </tr>\n",
       "    <tr>\n",
       "      <th>3</th>\n",
       "      <td>00</td>\n",
       "      <td>1610612740</td>\n",
       "      <td>2002</td>\n",
       "      <td>2018</td>\n",
       "      <td>NOP</td>\n",
       "    </tr>\n",
       "    <tr>\n",
       "      <th>4</th>\n",
       "      <td>00</td>\n",
       "      <td>1610612741</td>\n",
       "      <td>1966</td>\n",
       "      <td>2018</td>\n",
       "      <td>CHI</td>\n",
       "    </tr>\n",
       "  </tbody>\n",
       "</table>\n",
       "</div>"
      ],
      "text/plain": [
       "  LEAGUE_ID     TEAM_ID MIN_YEAR MAX_YEAR ABBREVIATION\n",
       "0        00  1610612737     1949     2018          ATL\n",
       "1        00  1610612738     1946     2018          BOS\n",
       "2        00  1610612739     1970     2018          CLE\n",
       "3        00  1610612740     2002     2018          NOP\n",
       "4        00  1610612741     1966     2018          CHI"
      ]
     },
     "execution_count": 114,
     "metadata": {},
     "output_type": "execute_result"
    }
   ],
   "source": [
    "teamcopy = teams.copy()\n",
    "teamcopy.head()"
   ]
  },
  {
   "cell_type": "markdown",
   "metadata": {
    "slideshow": {
     "slide_type": "fragment"
    }
   },
   "source": [
    "- A column can be an index"
   ]
  },
  {
   "cell_type": "code",
   "execution_count": 115,
   "metadata": {
    "collapsed": false,
    "slideshow": {
     "slide_type": "fragment"
    }
   },
   "outputs": [
    {
     "data": {
      "text/html": [
       "<div>\n",
       "<style scoped>\n",
       "    .dataframe tbody tr th:only-of-type {\n",
       "        vertical-align: middle;\n",
       "    }\n",
       "\n",
       "    .dataframe tbody tr th {\n",
       "        vertical-align: top;\n",
       "    }\n",
       "\n",
       "    .dataframe thead th {\n",
       "        text-align: right;\n",
       "    }\n",
       "</style>\n",
       "<table border=\"1\" class=\"dataframe\">\n",
       "  <thead>\n",
       "    <tr style=\"text-align: right;\">\n",
       "      <th></th>\n",
       "      <th>LEAGUE_ID</th>\n",
       "      <th>TEAM_ID</th>\n",
       "      <th>MIN_YEAR</th>\n",
       "      <th>MAX_YEAR</th>\n",
       "    </tr>\n",
       "    <tr>\n",
       "      <th>ABBREVIATION</th>\n",
       "      <th></th>\n",
       "      <th></th>\n",
       "      <th></th>\n",
       "      <th></th>\n",
       "    </tr>\n",
       "  </thead>\n",
       "  <tbody>\n",
       "    <tr>\n",
       "      <th>ATL</th>\n",
       "      <td>00</td>\n",
       "      <td>1610612737</td>\n",
       "      <td>1949</td>\n",
       "      <td>2018</td>\n",
       "    </tr>\n",
       "    <tr>\n",
       "      <th>BOS</th>\n",
       "      <td>00</td>\n",
       "      <td>1610612738</td>\n",
       "      <td>1946</td>\n",
       "      <td>2018</td>\n",
       "    </tr>\n",
       "    <tr>\n",
       "      <th>CLE</th>\n",
       "      <td>00</td>\n",
       "      <td>1610612739</td>\n",
       "      <td>1970</td>\n",
       "      <td>2018</td>\n",
       "    </tr>\n",
       "    <tr>\n",
       "      <th>NOP</th>\n",
       "      <td>00</td>\n",
       "      <td>1610612740</td>\n",
       "      <td>2002</td>\n",
       "      <td>2018</td>\n",
       "    </tr>\n",
       "    <tr>\n",
       "      <th>CHI</th>\n",
       "      <td>00</td>\n",
       "      <td>1610612741</td>\n",
       "      <td>1966</td>\n",
       "      <td>2018</td>\n",
       "    </tr>\n",
       "  </tbody>\n",
       "</table>\n",
       "</div>"
      ],
      "text/plain": [
       "             LEAGUE_ID     TEAM_ID MIN_YEAR MAX_YEAR\n",
       "ABBREVIATION                                        \n",
       "ATL                 00  1610612737     1949     2018\n",
       "BOS                 00  1610612738     1946     2018\n",
       "CLE                 00  1610612739     1970     2018\n",
       "NOP                 00  1610612740     2002     2018\n",
       "CHI                 00  1610612741     1966     2018"
      ]
     },
     "execution_count": 115,
     "metadata": {},
     "output_type": "execute_result"
    }
   ],
   "source": [
    "teamcopy.set_index('ABBREVIATION').head()"
   ]
  },
  {
   "cell_type": "code",
   "execution_count": 116,
   "metadata": {
    "collapsed": false,
    "scrolled": true,
    "slideshow": {
     "slide_type": "fragment"
    }
   },
   "outputs": [
    {
     "data": {
      "text/html": [
       "<div>\n",
       "<style scoped>\n",
       "    .dataframe tbody tr th:only-of-type {\n",
       "        vertical-align: middle;\n",
       "    }\n",
       "\n",
       "    .dataframe tbody tr th {\n",
       "        vertical-align: top;\n",
       "    }\n",
       "\n",
       "    .dataframe thead th {\n",
       "        text-align: right;\n",
       "    }\n",
       "</style>\n",
       "<table border=\"1\" class=\"dataframe\">\n",
       "  <thead>\n",
       "    <tr style=\"text-align: right;\">\n",
       "      <th></th>\n",
       "      <th>LEAGUE_ID</th>\n",
       "      <th>TEAM_ID</th>\n",
       "      <th>MIN_YEAR</th>\n",
       "      <th>MAX_YEAR</th>\n",
       "    </tr>\n",
       "    <tr>\n",
       "      <th>ABBREVIATION</th>\n",
       "      <th></th>\n",
       "      <th></th>\n",
       "      <th></th>\n",
       "      <th></th>\n",
       "    </tr>\n",
       "  </thead>\n",
       "  <tbody>\n",
       "    <tr>\n",
       "      <th>ATL</th>\n",
       "      <td>00</td>\n",
       "      <td>1610612737</td>\n",
       "      <td>1949</td>\n",
       "      <td>2018</td>\n",
       "    </tr>\n",
       "    <tr>\n",
       "      <th>BOS</th>\n",
       "      <td>00</td>\n",
       "      <td>1610612738</td>\n",
       "      <td>1946</td>\n",
       "      <td>2018</td>\n",
       "    </tr>\n",
       "    <tr>\n",
       "      <th>CLE</th>\n",
       "      <td>00</td>\n",
       "      <td>1610612739</td>\n",
       "      <td>1970</td>\n",
       "      <td>2018</td>\n",
       "    </tr>\n",
       "    <tr>\n",
       "      <th>NOP</th>\n",
       "      <td>00</td>\n",
       "      <td>1610612740</td>\n",
       "      <td>2002</td>\n",
       "      <td>2018</td>\n",
       "    </tr>\n",
       "    <tr>\n",
       "      <th>CHI</th>\n",
       "      <td>00</td>\n",
       "      <td>1610612741</td>\n",
       "      <td>1966</td>\n",
       "      <td>2018</td>\n",
       "    </tr>\n",
       "  </tbody>\n",
       "</table>\n",
       "</div>"
      ],
      "text/plain": [
       "             LEAGUE_ID     TEAM_ID MIN_YEAR MAX_YEAR\n",
       "ABBREVIATION                                        \n",
       "ATL                 00  1610612737     1949     2018\n",
       "BOS                 00  1610612738     1946     2018\n",
       "CLE                 00  1610612739     1970     2018\n",
       "NOP                 00  1610612740     2002     2018\n",
       "CHI                 00  1610612741     1966     2018"
      ]
     },
     "execution_count": 116,
     "metadata": {},
     "output_type": "execute_result"
    }
   ],
   "source": [
    "teamcopy.set_index('ABBREVIATION', inplace=True) # change index and save\n",
    "teamcopy.head()"
   ]
  },
  {
   "cell_type": "markdown",
   "metadata": {
    "slideshow": {
     "slide_type": "slide"
    }
   },
   "source": [
    "### Subsetting rows conditionally"
   ]
  },
  {
   "cell_type": "code",
   "execution_count": 117,
   "metadata": {
    "collapsed": false,
    "slideshow": {
     "slide_type": "fragment"
    }
   },
   "outputs": [
    {
     "data": {
      "text/html": [
       "<div>\n",
       "<style scoped>\n",
       "    .dataframe tbody tr th:only-of-type {\n",
       "        vertical-align: middle;\n",
       "    }\n",
       "\n",
       "    .dataframe tbody tr th {\n",
       "        vertical-align: top;\n",
       "    }\n",
       "\n",
       "    .dataframe thead th {\n",
       "        text-align: right;\n",
       "    }\n",
       "</style>\n",
       "<table border=\"1\" class=\"dataframe\">\n",
       "  <thead>\n",
       "    <tr style=\"text-align: right;\">\n",
       "      <th></th>\n",
       "      <th>PERSON_ID</th>\n",
       "      <th>DISPLAY_LAST_COMMA_FIRST</th>\n",
       "      <th>DISPLAY_FIRST_LAST</th>\n",
       "      <th>ROSTERSTATUS</th>\n",
       "      <th>FROM_YEAR</th>\n",
       "      <th>TO_YEAR</th>\n",
       "      <th>PLAYERCODE</th>\n",
       "      <th>TEAM_ID</th>\n",
       "      <th>TEAM_CITY</th>\n",
       "      <th>TEAM_NAME</th>\n",
       "      <th>TEAM_ABBREVIATION</th>\n",
       "      <th>TEAM_CODE</th>\n",
       "      <th>GAMES_PLAYED_FLAG</th>\n",
       "    </tr>\n",
       "  </thead>\n",
       "  <tbody>\n",
       "    <tr>\n",
       "      <th>0</th>\n",
       "      <td>76001</td>\n",
       "      <td>Abdelnaby, Alaa</td>\n",
       "      <td>Alaa Abdelnaby</td>\n",
       "      <td>0</td>\n",
       "      <td>1990</td>\n",
       "      <td>1994</td>\n",
       "      <td>HISTADD_alaa_abdelnaby</td>\n",
       "      <td>0</td>\n",
       "      <td></td>\n",
       "      <td></td>\n",
       "      <td></td>\n",
       "      <td></td>\n",
       "      <td>Y</td>\n",
       "    </tr>\n",
       "    <tr>\n",
       "      <th>1</th>\n",
       "      <td>76002</td>\n",
       "      <td>Abdul-Aziz, Zaid</td>\n",
       "      <td>Zaid Abdul-Aziz</td>\n",
       "      <td>0</td>\n",
       "      <td>1968</td>\n",
       "      <td>1977</td>\n",
       "      <td>HISTADD_zaid_abdul-aziz</td>\n",
       "      <td>0</td>\n",
       "      <td></td>\n",
       "      <td></td>\n",
       "      <td></td>\n",
       "      <td></td>\n",
       "      <td>Y</td>\n",
       "    </tr>\n",
       "    <tr>\n",
       "      <th>2</th>\n",
       "      <td>76003</td>\n",
       "      <td>Abdul-Jabbar, Kareem</td>\n",
       "      <td>Kareem Abdul-Jabbar</td>\n",
       "      <td>0</td>\n",
       "      <td>1969</td>\n",
       "      <td>1988</td>\n",
       "      <td>HISTADD_kareem_abdul-jabbar</td>\n",
       "      <td>0</td>\n",
       "      <td></td>\n",
       "      <td></td>\n",
       "      <td></td>\n",
       "      <td></td>\n",
       "      <td>Y</td>\n",
       "    </tr>\n",
       "    <tr>\n",
       "      <th>3</th>\n",
       "      <td>51</td>\n",
       "      <td>Abdul-Rauf, Mahmoud</td>\n",
       "      <td>Mahmoud Abdul-Rauf</td>\n",
       "      <td>0</td>\n",
       "      <td>1990</td>\n",
       "      <td>2000</td>\n",
       "      <td>mahmoud_abdul-rauf</td>\n",
       "      <td>0</td>\n",
       "      <td></td>\n",
       "      <td></td>\n",
       "      <td></td>\n",
       "      <td></td>\n",
       "      <td>Y</td>\n",
       "    </tr>\n",
       "    <tr>\n",
       "      <th>4</th>\n",
       "      <td>1505</td>\n",
       "      <td>Abdul-Wahad, Tariq</td>\n",
       "      <td>Tariq Abdul-Wahad</td>\n",
       "      <td>0</td>\n",
       "      <td>1997</td>\n",
       "      <td>2003</td>\n",
       "      <td>tariq_abdul-wahad</td>\n",
       "      <td>0</td>\n",
       "      <td></td>\n",
       "      <td></td>\n",
       "      <td></td>\n",
       "      <td></td>\n",
       "      <td>Y</td>\n",
       "    </tr>\n",
       "    <tr>\n",
       "      <th>5</th>\n",
       "      <td>949</td>\n",
       "      <td>Abdur-Rahim, Shareef</td>\n",
       "      <td>Shareef Abdur-Rahim</td>\n",
       "      <td>0</td>\n",
       "      <td>1996</td>\n",
       "      <td>2007</td>\n",
       "      <td>shareef_abdur-rahim</td>\n",
       "      <td>0</td>\n",
       "      <td></td>\n",
       "      <td></td>\n",
       "      <td></td>\n",
       "      <td></td>\n",
       "      <td>Y</td>\n",
       "    </tr>\n",
       "    <tr>\n",
       "      <th>6</th>\n",
       "      <td>76005</td>\n",
       "      <td>Abernethy, Tom</td>\n",
       "      <td>Tom Abernethy</td>\n",
       "      <td>0</td>\n",
       "      <td>1976</td>\n",
       "      <td>1980</td>\n",
       "      <td>HISTADD_tom_abernethy</td>\n",
       "      <td>0</td>\n",
       "      <td></td>\n",
       "      <td></td>\n",
       "      <td></td>\n",
       "      <td></td>\n",
       "      <td>Y</td>\n",
       "    </tr>\n",
       "    <tr>\n",
       "      <th>7</th>\n",
       "      <td>76006</td>\n",
       "      <td>Able, Forest</td>\n",
       "      <td>Forest Able</td>\n",
       "      <td>0</td>\n",
       "      <td>1956</td>\n",
       "      <td>1956</td>\n",
       "      <td>HISTADD_frosty_able</td>\n",
       "      <td>0</td>\n",
       "      <td></td>\n",
       "      <td></td>\n",
       "      <td></td>\n",
       "      <td></td>\n",
       "      <td>Y</td>\n",
       "    </tr>\n",
       "    <tr>\n",
       "      <th>8</th>\n",
       "      <td>76007</td>\n",
       "      <td>Abramovic, John</td>\n",
       "      <td>John Abramovic</td>\n",
       "      <td>0</td>\n",
       "      <td>1946</td>\n",
       "      <td>1947</td>\n",
       "      <td>HISTADD_brooms_abramovic</td>\n",
       "      <td>0</td>\n",
       "      <td></td>\n",
       "      <td></td>\n",
       "      <td></td>\n",
       "      <td></td>\n",
       "      <td>Y</td>\n",
       "    </tr>\n",
       "    <tr>\n",
       "      <th>9</th>\n",
       "      <td>203518</td>\n",
       "      <td>Abrines, Alex</td>\n",
       "      <td>Alex Abrines</td>\n",
       "      <td>1</td>\n",
       "      <td>2016</td>\n",
       "      <td>2018</td>\n",
       "      <td>alex_abrines</td>\n",
       "      <td>1610612760</td>\n",
       "      <td>Oklahoma City</td>\n",
       "      <td>Thunder</td>\n",
       "      <td>OKC</td>\n",
       "      <td>thunder</td>\n",
       "      <td>Y</td>\n",
       "    </tr>\n",
       "    <tr>\n",
       "      <th>10</th>\n",
       "      <td>101165</td>\n",
       "      <td>Acker, Alex</td>\n",
       "      <td>Alex Acker</td>\n",
       "      <td>0</td>\n",
       "      <td>2005</td>\n",
       "      <td>2008</td>\n",
       "      <td>alex_acker</td>\n",
       "      <td>0</td>\n",
       "      <td></td>\n",
       "      <td></td>\n",
       "      <td></td>\n",
       "      <td></td>\n",
       "      <td>Y</td>\n",
       "    </tr>\n",
       "    <tr>\n",
       "      <th>11</th>\n",
       "      <td>76008</td>\n",
       "      <td>Ackerman, Donald</td>\n",
       "      <td>Donald Ackerman</td>\n",
       "      <td>0</td>\n",
       "      <td>1953</td>\n",
       "      <td>1953</td>\n",
       "      <td>HISTADD_buddy_ackerman</td>\n",
       "      <td>0</td>\n",
       "      <td></td>\n",
       "      <td></td>\n",
       "      <td></td>\n",
       "      <td></td>\n",
       "      <td>Y</td>\n",
       "    </tr>\n",
       "    <tr>\n",
       "      <th>12</th>\n",
       "      <td>76009</td>\n",
       "      <td>Acres, Mark</td>\n",
       "      <td>Mark Acres</td>\n",
       "      <td>0</td>\n",
       "      <td>1987</td>\n",
       "      <td>1992</td>\n",
       "      <td>HISTADD_mark_acres</td>\n",
       "      <td>0</td>\n",
       "      <td></td>\n",
       "      <td></td>\n",
       "      <td></td>\n",
       "      <td></td>\n",
       "      <td>Y</td>\n",
       "    </tr>\n",
       "    <tr>\n",
       "      <th>13</th>\n",
       "      <td>76010</td>\n",
       "      <td>Acton, Charles</td>\n",
       "      <td>Charles Acton</td>\n",
       "      <td>0</td>\n",
       "      <td>1967</td>\n",
       "      <td>1967</td>\n",
       "      <td>HISTADD_bud_acton</td>\n",
       "      <td>0</td>\n",
       "      <td></td>\n",
       "      <td></td>\n",
       "      <td></td>\n",
       "      <td></td>\n",
       "      <td>Y</td>\n",
       "    </tr>\n",
       "    <tr>\n",
       "      <th>14</th>\n",
       "      <td>203112</td>\n",
       "      <td>Acy, Quincy</td>\n",
       "      <td>Quincy Acy</td>\n",
       "      <td>1</td>\n",
       "      <td>2012</td>\n",
       "      <td>2018</td>\n",
       "      <td>quincy_acy</td>\n",
       "      <td>1610612751</td>\n",
       "      <td>Brooklyn</td>\n",
       "      <td>Nets</td>\n",
       "      <td>BKN</td>\n",
       "      <td>nets</td>\n",
       "      <td>Y</td>\n",
       "    </tr>\n",
       "  </tbody>\n",
       "</table>\n",
       "</div>"
      ],
      "text/plain": [
       "    PERSON_ID DISPLAY_LAST_COMMA_FIRST   DISPLAY_FIRST_LAST  ROSTERSTATUS  \\\n",
       "0       76001          Abdelnaby, Alaa       Alaa Abdelnaby             0   \n",
       "1       76002         Abdul-Aziz, Zaid      Zaid Abdul-Aziz             0   \n",
       "2       76003     Abdul-Jabbar, Kareem  Kareem Abdul-Jabbar             0   \n",
       "3          51      Abdul-Rauf, Mahmoud   Mahmoud Abdul-Rauf             0   \n",
       "4        1505       Abdul-Wahad, Tariq    Tariq Abdul-Wahad             0   \n",
       "5         949     Abdur-Rahim, Shareef  Shareef Abdur-Rahim             0   \n",
       "6       76005           Abernethy, Tom        Tom Abernethy             0   \n",
       "7       76006             Able, Forest          Forest Able             0   \n",
       "8       76007          Abramovic, John       John Abramovic             0   \n",
       "9      203518            Abrines, Alex         Alex Abrines             1   \n",
       "10     101165              Acker, Alex           Alex Acker             0   \n",
       "11      76008         Ackerman, Donald      Donald Ackerman             0   \n",
       "12      76009              Acres, Mark           Mark Acres             0   \n",
       "13      76010           Acton, Charles        Charles Acton             0   \n",
       "14     203112              Acy, Quincy           Quincy Acy             1   \n",
       "\n",
       "   FROM_YEAR TO_YEAR                   PLAYERCODE     TEAM_ID      TEAM_CITY  \\\n",
       "0       1990    1994       HISTADD_alaa_abdelnaby           0                  \n",
       "1       1968    1977      HISTADD_zaid_abdul-aziz           0                  \n",
       "2       1969    1988  HISTADD_kareem_abdul-jabbar           0                  \n",
       "3       1990    2000           mahmoud_abdul-rauf           0                  \n",
       "4       1997    2003            tariq_abdul-wahad           0                  \n",
       "5       1996    2007          shareef_abdur-rahim           0                  \n",
       "6       1976    1980        HISTADD_tom_abernethy           0                  \n",
       "7       1956    1956          HISTADD_frosty_able           0                  \n",
       "8       1946    1947     HISTADD_brooms_abramovic           0                  \n",
       "9       2016    2018                 alex_abrines  1610612760  Oklahoma City   \n",
       "10      2005    2008                   alex_acker           0                  \n",
       "11      1953    1953       HISTADD_buddy_ackerman           0                  \n",
       "12      1987    1992           HISTADD_mark_acres           0                  \n",
       "13      1967    1967            HISTADD_bud_acton           0                  \n",
       "14      2012    2018                   quincy_acy  1610612751       Brooklyn   \n",
       "\n",
       "   TEAM_NAME TEAM_ABBREVIATION TEAM_CODE GAMES_PLAYED_FLAG  \n",
       "0                                                        Y  \n",
       "1                                                        Y  \n",
       "2                                                        Y  \n",
       "3                                                        Y  \n",
       "4                                                        Y  \n",
       "5                                                        Y  \n",
       "6                                                        Y  \n",
       "7                                                        Y  \n",
       "8                                                        Y  \n",
       "9    Thunder               OKC   thunder                 Y  \n",
       "10                                                       Y  \n",
       "11                                                       Y  \n",
       "12                                                       Y  \n",
       "13                                                       Y  \n",
       "14      Nets               BKN      nets                 Y  "
      ]
     },
     "execution_count": 117,
     "metadata": {},
     "output_type": "execute_result"
    }
   ],
   "source": [
    "playercopy = players.copy()\n",
    "playercopy.head(15)"
   ]
  },
  {
   "cell_type": "code",
   "execution_count": 118,
   "metadata": {
    "collapsed": false,
    "slideshow": {
     "slide_type": "fragment"
    }
   },
   "outputs": [
    {
     "data": {
      "text/html": [
       "<div>\n",
       "<style scoped>\n",
       "    .dataframe tbody tr th:only-of-type {\n",
       "        vertical-align: middle;\n",
       "    }\n",
       "\n",
       "    .dataframe tbody tr th {\n",
       "        vertical-align: top;\n",
       "    }\n",
       "\n",
       "    .dataframe thead th {\n",
       "        text-align: right;\n",
       "    }\n",
       "</style>\n",
       "<table border=\"1\" class=\"dataframe\">\n",
       "  <thead>\n",
       "    <tr style=\"text-align: right;\">\n",
       "      <th></th>\n",
       "      <th>PERSON_ID</th>\n",
       "      <th>DISPLAY_LAST_COMMA_FIRST</th>\n",
       "      <th>DISPLAY_FIRST_LAST</th>\n",
       "      <th>ROSTERSTATUS</th>\n",
       "      <th>FROM_YEAR</th>\n",
       "      <th>TO_YEAR</th>\n",
       "      <th>PLAYERCODE</th>\n",
       "      <th>TEAM_ID</th>\n",
       "      <th>TEAM_CITY</th>\n",
       "      <th>TEAM_NAME</th>\n",
       "      <th>TEAM_ABBREVIATION</th>\n",
       "      <th>TEAM_CODE</th>\n",
       "      <th>GAMES_PLAYED_FLAG</th>\n",
       "    </tr>\n",
       "  </thead>\n",
       "  <tbody>\n",
       "    <tr>\n",
       "      <th>9</th>\n",
       "      <td>203518</td>\n",
       "      <td>Abrines, Alex</td>\n",
       "      <td>Alex Abrines</td>\n",
       "      <td>1</td>\n",
       "      <td>2016</td>\n",
       "      <td>2018</td>\n",
       "      <td>alex_abrines</td>\n",
       "      <td>1610612760</td>\n",
       "      <td>Oklahoma City</td>\n",
       "      <td>Thunder</td>\n",
       "      <td>OKC</td>\n",
       "      <td>thunder</td>\n",
       "      <td>Y</td>\n",
       "    </tr>\n",
       "    <tr>\n",
       "      <th>14</th>\n",
       "      <td>203112</td>\n",
       "      <td>Acy, Quincy</td>\n",
       "      <td>Quincy Acy</td>\n",
       "      <td>1</td>\n",
       "      <td>2012</td>\n",
       "      <td>2018</td>\n",
       "      <td>quincy_acy</td>\n",
       "      <td>1610612751</td>\n",
       "      <td>Brooklyn</td>\n",
       "      <td>Nets</td>\n",
       "      <td>BKN</td>\n",
       "      <td>nets</td>\n",
       "      <td>Y</td>\n",
       "    </tr>\n",
       "    <tr>\n",
       "      <th>21</th>\n",
       "      <td>203500</td>\n",
       "      <td>Adams, Steven</td>\n",
       "      <td>Steven Adams</td>\n",
       "      <td>1</td>\n",
       "      <td>2013</td>\n",
       "      <td>2018</td>\n",
       "      <td>steven_adams</td>\n",
       "      <td>1610612760</td>\n",
       "      <td>Oklahoma City</td>\n",
       "      <td>Thunder</td>\n",
       "      <td>OKC</td>\n",
       "      <td>thunder</td>\n",
       "      <td>Y</td>\n",
       "    </tr>\n",
       "    <tr>\n",
       "      <th>23</th>\n",
       "      <td>1628389</td>\n",
       "      <td>Adebayo, Bam</td>\n",
       "      <td>Bam Adebayo</td>\n",
       "      <td>1</td>\n",
       "      <td>2017</td>\n",
       "      <td>2018</td>\n",
       "      <td>bam_adebayo</td>\n",
       "      <td>1610612748</td>\n",
       "      <td>Miami</td>\n",
       "      <td>Heat</td>\n",
       "      <td>MIA</td>\n",
       "      <td>heat</td>\n",
       "      <td>Y</td>\n",
       "    </tr>\n",
       "    <tr>\n",
       "      <th>27</th>\n",
       "      <td>201167</td>\n",
       "      <td>Afflalo, Arron</td>\n",
       "      <td>Arron Afflalo</td>\n",
       "      <td>1</td>\n",
       "      <td>2007</td>\n",
       "      <td>2017</td>\n",
       "      <td>arron_afflalo</td>\n",
       "      <td>1610612753</td>\n",
       "      <td>Orlando</td>\n",
       "      <td>Magic</td>\n",
       "      <td>ORL</td>\n",
       "      <td>magic</td>\n",
       "      <td>Y</td>\n",
       "    </tr>\n",
       "  </tbody>\n",
       "</table>\n",
       "</div>"
      ],
      "text/plain": [
       "    PERSON_ID DISPLAY_LAST_COMMA_FIRST DISPLAY_FIRST_LAST  ROSTERSTATUS  \\\n",
       "9      203518            Abrines, Alex       Alex Abrines             1   \n",
       "14     203112              Acy, Quincy         Quincy Acy             1   \n",
       "21     203500            Adams, Steven       Steven Adams             1   \n",
       "23    1628389             Adebayo, Bam        Bam Adebayo             1   \n",
       "27     201167           Afflalo, Arron      Arron Afflalo             1   \n",
       "\n",
       "   FROM_YEAR TO_YEAR     PLAYERCODE     TEAM_ID      TEAM_CITY TEAM_NAME  \\\n",
       "9       2016    2018   alex_abrines  1610612760  Oklahoma City   Thunder   \n",
       "14      2012    2018     quincy_acy  1610612751       Brooklyn      Nets   \n",
       "21      2013    2018   steven_adams  1610612760  Oklahoma City   Thunder   \n",
       "23      2017    2018    bam_adebayo  1610612748          Miami      Heat   \n",
       "27      2007    2017  arron_afflalo  1610612753        Orlando     Magic   \n",
       "\n",
       "   TEAM_ABBREVIATION TEAM_CODE GAMES_PLAYED_FLAG  \n",
       "9                OKC   thunder                 Y  \n",
       "14               BKN      nets                 Y  \n",
       "21               OKC   thunder                 Y  \n",
       "23               MIA      heat                 Y  \n",
       "27               ORL     magic                 Y  "
      ]
     },
     "execution_count": 118,
     "metadata": {},
     "output_type": "execute_result"
    }
   ],
   "source": [
    "playercopy = playercopy[playercopy.TEAM_ABBREVIATION!=\"\"]  # subset teams with TEAM_ABBREVIATION\n",
    "playercopy.head() "
   ]
  },
  {
   "cell_type": "markdown",
   "metadata": {
    "slideshow": {
     "slide_type": "slide"
    }
   },
   "source": [
    "### Setting `Index`"
   ]
  },
  {
   "cell_type": "code",
   "execution_count": 119,
   "metadata": {
    "collapsed": false,
    "slideshow": {
     "slide_type": "fragment"
    }
   },
   "outputs": [
    {
     "data": {
      "text/html": [
       "<div>\n",
       "<style scoped>\n",
       "    .dataframe tbody tr th:only-of-type {\n",
       "        vertical-align: middle;\n",
       "    }\n",
       "\n",
       "    .dataframe tbody tr th {\n",
       "        vertical-align: top;\n",
       "    }\n",
       "\n",
       "    .dataframe thead th {\n",
       "        text-align: right;\n",
       "    }\n",
       "</style>\n",
       "<table border=\"1\" class=\"dataframe\">\n",
       "  <thead>\n",
       "    <tr style=\"text-align: right;\">\n",
       "      <th></th>\n",
       "      <th>PERSON_ID</th>\n",
       "      <th>DISPLAY_LAST_COMMA_FIRST</th>\n",
       "      <th>DISPLAY_FIRST_LAST</th>\n",
       "      <th>ROSTERSTATUS</th>\n",
       "      <th>FROM_YEAR</th>\n",
       "      <th>TO_YEAR</th>\n",
       "      <th>PLAYERCODE</th>\n",
       "      <th>TEAM_ID</th>\n",
       "      <th>TEAM_CITY</th>\n",
       "      <th>TEAM_NAME</th>\n",
       "      <th>TEAM_CODE</th>\n",
       "      <th>GAMES_PLAYED_FLAG</th>\n",
       "    </tr>\n",
       "    <tr>\n",
       "      <th>TEAM_ABBREVIATION</th>\n",
       "      <th></th>\n",
       "      <th></th>\n",
       "      <th></th>\n",
       "      <th></th>\n",
       "      <th></th>\n",
       "      <th></th>\n",
       "      <th></th>\n",
       "      <th></th>\n",
       "      <th></th>\n",
       "      <th></th>\n",
       "      <th></th>\n",
       "      <th></th>\n",
       "    </tr>\n",
       "  </thead>\n",
       "  <tbody>\n",
       "    <tr>\n",
       "      <th>OKC</th>\n",
       "      <td>203518</td>\n",
       "      <td>Abrines, Alex</td>\n",
       "      <td>Alex Abrines</td>\n",
       "      <td>1</td>\n",
       "      <td>2016</td>\n",
       "      <td>2018</td>\n",
       "      <td>alex_abrines</td>\n",
       "      <td>1610612760</td>\n",
       "      <td>Oklahoma City</td>\n",
       "      <td>Thunder</td>\n",
       "      <td>thunder</td>\n",
       "      <td>Y</td>\n",
       "    </tr>\n",
       "    <tr>\n",
       "      <th>BKN</th>\n",
       "      <td>203112</td>\n",
       "      <td>Acy, Quincy</td>\n",
       "      <td>Quincy Acy</td>\n",
       "      <td>1</td>\n",
       "      <td>2012</td>\n",
       "      <td>2018</td>\n",
       "      <td>quincy_acy</td>\n",
       "      <td>1610612751</td>\n",
       "      <td>Brooklyn</td>\n",
       "      <td>Nets</td>\n",
       "      <td>nets</td>\n",
       "      <td>Y</td>\n",
       "    </tr>\n",
       "    <tr>\n",
       "      <th>OKC</th>\n",
       "      <td>203500</td>\n",
       "      <td>Adams, Steven</td>\n",
       "      <td>Steven Adams</td>\n",
       "      <td>1</td>\n",
       "      <td>2013</td>\n",
       "      <td>2018</td>\n",
       "      <td>steven_adams</td>\n",
       "      <td>1610612760</td>\n",
       "      <td>Oklahoma City</td>\n",
       "      <td>Thunder</td>\n",
       "      <td>thunder</td>\n",
       "      <td>Y</td>\n",
       "    </tr>\n",
       "    <tr>\n",
       "      <th>MIA</th>\n",
       "      <td>1628389</td>\n",
       "      <td>Adebayo, Bam</td>\n",
       "      <td>Bam Adebayo</td>\n",
       "      <td>1</td>\n",
       "      <td>2017</td>\n",
       "      <td>2018</td>\n",
       "      <td>bam_adebayo</td>\n",
       "      <td>1610612748</td>\n",
       "      <td>Miami</td>\n",
       "      <td>Heat</td>\n",
       "      <td>heat</td>\n",
       "      <td>Y</td>\n",
       "    </tr>\n",
       "    <tr>\n",
       "      <th>ORL</th>\n",
       "      <td>201167</td>\n",
       "      <td>Afflalo, Arron</td>\n",
       "      <td>Arron Afflalo</td>\n",
       "      <td>1</td>\n",
       "      <td>2007</td>\n",
       "      <td>2017</td>\n",
       "      <td>arron_afflalo</td>\n",
       "      <td>1610612753</td>\n",
       "      <td>Orlando</td>\n",
       "      <td>Magic</td>\n",
       "      <td>magic</td>\n",
       "      <td>Y</td>\n",
       "    </tr>\n",
       "  </tbody>\n",
       "</table>\n",
       "</div>"
      ],
      "text/plain": [
       "                   PERSON_ID DISPLAY_LAST_COMMA_FIRST DISPLAY_FIRST_LAST  \\\n",
       "TEAM_ABBREVIATION                                                          \n",
       "OKC                   203518            Abrines, Alex       Alex Abrines   \n",
       "BKN                   203112              Acy, Quincy         Quincy Acy   \n",
       "OKC                   203500            Adams, Steven       Steven Adams   \n",
       "MIA                  1628389             Adebayo, Bam        Bam Adebayo   \n",
       "ORL                   201167           Afflalo, Arron      Arron Afflalo   \n",
       "\n",
       "                   ROSTERSTATUS FROM_YEAR TO_YEAR     PLAYERCODE     TEAM_ID  \\\n",
       "TEAM_ABBREVIATION                                                              \n",
       "OKC                           1      2016    2018   alex_abrines  1610612760   \n",
       "BKN                           1      2012    2018     quincy_acy  1610612751   \n",
       "OKC                           1      2013    2018   steven_adams  1610612760   \n",
       "MIA                           1      2017    2018    bam_adebayo  1610612748   \n",
       "ORL                           1      2007    2017  arron_afflalo  1610612753   \n",
       "\n",
       "                       TEAM_CITY TEAM_NAME TEAM_CODE GAMES_PLAYED_FLAG  \n",
       "TEAM_ABBREVIATION                                                       \n",
       "OKC                Oklahoma City   Thunder   thunder                 Y  \n",
       "BKN                     Brooklyn      Nets      nets                 Y  \n",
       "OKC                Oklahoma City   Thunder   thunder                 Y  \n",
       "MIA                        Miami      Heat      heat                 Y  \n",
       "ORL                      Orlando     Magic     magic                 Y  "
      ]
     },
     "execution_count": 119,
     "metadata": {},
     "output_type": "execute_result"
    }
   ],
   "source": [
    "temp = playercopy.set_index('TEAM_ABBREVIATION')\n",
    "temp.head()"
   ]
  },
  {
   "cell_type": "code",
   "execution_count": 120,
   "metadata": {
    "collapsed": false,
    "slideshow": {
     "slide_type": "fragment"
    }
   },
   "outputs": [
    {
     "data": {
      "text/html": [
       "<div>\n",
       "<style scoped>\n",
       "    .dataframe tbody tr th:only-of-type {\n",
       "        vertical-align: middle;\n",
       "    }\n",
       "\n",
       "    .dataframe tbody tr th {\n",
       "        vertical-align: top;\n",
       "    }\n",
       "\n",
       "    .dataframe thead th {\n",
       "        text-align: right;\n",
       "    }\n",
       "</style>\n",
       "<table border=\"1\" class=\"dataframe\">\n",
       "  <thead>\n",
       "    <tr style=\"text-align: right;\">\n",
       "      <th></th>\n",
       "      <th>PERSON_ID</th>\n",
       "      <th>DISPLAY_LAST_COMMA_FIRST</th>\n",
       "      <th>DISPLAY_FIRST_LAST</th>\n",
       "      <th>ROSTERSTATUS</th>\n",
       "      <th>FROM_YEAR</th>\n",
       "      <th>TO_YEAR</th>\n",
       "      <th>PLAYERCODE</th>\n",
       "      <th>TEAM_ID</th>\n",
       "      <th>TEAM_CITY</th>\n",
       "      <th>TEAM_NAME</th>\n",
       "      <th>TEAM_CODE</th>\n",
       "      <th>GAMES_PLAYED_FLAG</th>\n",
       "    </tr>\n",
       "    <tr>\n",
       "      <th>TEAM_ABBREVIATION</th>\n",
       "      <th></th>\n",
       "      <th></th>\n",
       "      <th></th>\n",
       "      <th></th>\n",
       "      <th></th>\n",
       "      <th></th>\n",
       "      <th></th>\n",
       "      <th></th>\n",
       "      <th></th>\n",
       "      <th></th>\n",
       "      <th></th>\n",
       "      <th></th>\n",
       "    </tr>\n",
       "  </thead>\n",
       "  <tbody>\n",
       "    <tr>\n",
       "      <th>OKC</th>\n",
       "      <td>203518</td>\n",
       "      <td>Abrines, Alex</td>\n",
       "      <td>Alex Abrines</td>\n",
       "      <td>1</td>\n",
       "      <td>2016</td>\n",
       "      <td>2018</td>\n",
       "      <td>alex_abrines</td>\n",
       "      <td>1610612760</td>\n",
       "      <td>Oklahoma City</td>\n",
       "      <td>Thunder</td>\n",
       "      <td>thunder</td>\n",
       "      <td>Y</td>\n",
       "    </tr>\n",
       "    <tr>\n",
       "      <th>OKC</th>\n",
       "      <td>203500</td>\n",
       "      <td>Adams, Steven</td>\n",
       "      <td>Steven Adams</td>\n",
       "      <td>1</td>\n",
       "      <td>2013</td>\n",
       "      <td>2018</td>\n",
       "      <td>steven_adams</td>\n",
       "      <td>1610612760</td>\n",
       "      <td>Oklahoma City</td>\n",
       "      <td>Thunder</td>\n",
       "      <td>thunder</td>\n",
       "      <td>Y</td>\n",
       "    </tr>\n",
       "    <tr>\n",
       "      <th>OKC</th>\n",
       "      <td>2546</td>\n",
       "      <td>Anthony, Carmelo</td>\n",
       "      <td>Carmelo Anthony</td>\n",
       "      <td>1</td>\n",
       "      <td>2003</td>\n",
       "      <td>2018</td>\n",
       "      <td>carmelo_anthony</td>\n",
       "      <td>1610612760</td>\n",
       "      <td>Oklahoma City</td>\n",
       "      <td>Thunder</td>\n",
       "      <td>thunder</td>\n",
       "      <td>Y</td>\n",
       "    </tr>\n",
       "    <tr>\n",
       "      <th>OKC</th>\n",
       "      <td>201147</td>\n",
       "      <td>Brewer, Corey</td>\n",
       "      <td>Corey Brewer</td>\n",
       "      <td>1</td>\n",
       "      <td>2007</td>\n",
       "      <td>2018</td>\n",
       "      <td>corey_brewer</td>\n",
       "      <td>1610612760</td>\n",
       "      <td>Oklahoma City</td>\n",
       "      <td>Thunder</td>\n",
       "      <td>thunder</td>\n",
       "      <td>Y</td>\n",
       "    </tr>\n",
       "    <tr>\n",
       "      <th>OKC</th>\n",
       "      <td>2555</td>\n",
       "      <td>Collison, Nick</td>\n",
       "      <td>Nick Collison</td>\n",
       "      <td>1</td>\n",
       "      <td>2003</td>\n",
       "      <td>2017</td>\n",
       "      <td>nick_collison</td>\n",
       "      <td>1610612760</td>\n",
       "      <td>Oklahoma City</td>\n",
       "      <td>Thunder</td>\n",
       "      <td>thunder</td>\n",
       "      <td>Y</td>\n",
       "    </tr>\n",
       "  </tbody>\n",
       "</table>\n",
       "</div>"
      ],
      "text/plain": [
       "                   PERSON_ID DISPLAY_LAST_COMMA_FIRST DISPLAY_FIRST_LAST  \\\n",
       "TEAM_ABBREVIATION                                                          \n",
       "OKC                   203518            Abrines, Alex       Alex Abrines   \n",
       "OKC                   203500            Adams, Steven       Steven Adams   \n",
       "OKC                     2546         Anthony, Carmelo    Carmelo Anthony   \n",
       "OKC                   201147            Brewer, Corey       Corey Brewer   \n",
       "OKC                     2555           Collison, Nick      Nick Collison   \n",
       "\n",
       "                   ROSTERSTATUS FROM_YEAR TO_YEAR       PLAYERCODE  \\\n",
       "TEAM_ABBREVIATION                                                    \n",
       "OKC                           1      2016    2018     alex_abrines   \n",
       "OKC                           1      2013    2018     steven_adams   \n",
       "OKC                           1      2003    2018  carmelo_anthony   \n",
       "OKC                           1      2007    2018     corey_brewer   \n",
       "OKC                           1      2003    2017    nick_collison   \n",
       "\n",
       "                      TEAM_ID      TEAM_CITY TEAM_NAME TEAM_CODE  \\\n",
       "TEAM_ABBREVIATION                                                  \n",
       "OKC                1610612760  Oklahoma City   Thunder   thunder   \n",
       "OKC                1610612760  Oklahoma City   Thunder   thunder   \n",
       "OKC                1610612760  Oklahoma City   Thunder   thunder   \n",
       "OKC                1610612760  Oklahoma City   Thunder   thunder   \n",
       "OKC                1610612760  Oklahoma City   Thunder   thunder   \n",
       "\n",
       "                  GAMES_PLAYED_FLAG  \n",
       "TEAM_ABBREVIATION                    \n",
       "OKC                               Y  \n",
       "OKC                               Y  \n",
       "OKC                               Y  \n",
       "OKC                               Y  \n",
       "OKC                               Y  "
      ]
     },
     "execution_count": 120,
     "metadata": {},
     "output_type": "execute_result"
    }
   ],
   "source": [
    "temp.loc['OKC'].head() # row index is not unique"
   ]
  },
  {
   "cell_type": "code",
   "execution_count": 121,
   "metadata": {
    "collapsed": false,
    "slideshow": {
     "slide_type": "fragment"
    }
   },
   "outputs": [
    {
     "data": {
      "text/html": [
       "<div>\n",
       "<style scoped>\n",
       "    .dataframe tbody tr th:only-of-type {\n",
       "        vertical-align: middle;\n",
       "    }\n",
       "\n",
       "    .dataframe tbody tr th {\n",
       "        vertical-align: top;\n",
       "    }\n",
       "\n",
       "    .dataframe thead th {\n",
       "        text-align: right;\n",
       "    }\n",
       "</style>\n",
       "<table border=\"1\" class=\"dataframe\">\n",
       "  <thead>\n",
       "    <tr style=\"text-align: right;\">\n",
       "      <th></th>\n",
       "      <th>TEAM_ABBREVIATION</th>\n",
       "      <th>PERSON_ID</th>\n",
       "      <th>DISPLAY_LAST_COMMA_FIRST</th>\n",
       "      <th>DISPLAY_FIRST_LAST</th>\n",
       "      <th>ROSTERSTATUS</th>\n",
       "      <th>FROM_YEAR</th>\n",
       "      <th>TO_YEAR</th>\n",
       "      <th>PLAYERCODE</th>\n",
       "      <th>TEAM_ID</th>\n",
       "      <th>TEAM_CITY</th>\n",
       "      <th>TEAM_NAME</th>\n",
       "      <th>TEAM_CODE</th>\n",
       "      <th>GAMES_PLAYED_FLAG</th>\n",
       "    </tr>\n",
       "  </thead>\n",
       "  <tbody>\n",
       "    <tr>\n",
       "      <th>0</th>\n",
       "      <td>OKC</td>\n",
       "      <td>203518</td>\n",
       "      <td>Abrines, Alex</td>\n",
       "      <td>Alex Abrines</td>\n",
       "      <td>1</td>\n",
       "      <td>2016</td>\n",
       "      <td>2018</td>\n",
       "      <td>alex_abrines</td>\n",
       "      <td>1610612760</td>\n",
       "      <td>Oklahoma City</td>\n",
       "      <td>Thunder</td>\n",
       "      <td>thunder</td>\n",
       "      <td>Y</td>\n",
       "    </tr>\n",
       "    <tr>\n",
       "      <th>1</th>\n",
       "      <td>BKN</td>\n",
       "      <td>203112</td>\n",
       "      <td>Acy, Quincy</td>\n",
       "      <td>Quincy Acy</td>\n",
       "      <td>1</td>\n",
       "      <td>2012</td>\n",
       "      <td>2018</td>\n",
       "      <td>quincy_acy</td>\n",
       "      <td>1610612751</td>\n",
       "      <td>Brooklyn</td>\n",
       "      <td>Nets</td>\n",
       "      <td>nets</td>\n",
       "      <td>Y</td>\n",
       "    </tr>\n",
       "    <tr>\n",
       "      <th>2</th>\n",
       "      <td>OKC</td>\n",
       "      <td>203500</td>\n",
       "      <td>Adams, Steven</td>\n",
       "      <td>Steven Adams</td>\n",
       "      <td>1</td>\n",
       "      <td>2013</td>\n",
       "      <td>2018</td>\n",
       "      <td>steven_adams</td>\n",
       "      <td>1610612760</td>\n",
       "      <td>Oklahoma City</td>\n",
       "      <td>Thunder</td>\n",
       "      <td>thunder</td>\n",
       "      <td>Y</td>\n",
       "    </tr>\n",
       "    <tr>\n",
       "      <th>3</th>\n",
       "      <td>MIA</td>\n",
       "      <td>1628389</td>\n",
       "      <td>Adebayo, Bam</td>\n",
       "      <td>Bam Adebayo</td>\n",
       "      <td>1</td>\n",
       "      <td>2017</td>\n",
       "      <td>2018</td>\n",
       "      <td>bam_adebayo</td>\n",
       "      <td>1610612748</td>\n",
       "      <td>Miami</td>\n",
       "      <td>Heat</td>\n",
       "      <td>heat</td>\n",
       "      <td>Y</td>\n",
       "    </tr>\n",
       "    <tr>\n",
       "      <th>4</th>\n",
       "      <td>ORL</td>\n",
       "      <td>201167</td>\n",
       "      <td>Afflalo, Arron</td>\n",
       "      <td>Arron Afflalo</td>\n",
       "      <td>1</td>\n",
       "      <td>2007</td>\n",
       "      <td>2017</td>\n",
       "      <td>arron_afflalo</td>\n",
       "      <td>1610612753</td>\n",
       "      <td>Orlando</td>\n",
       "      <td>Magic</td>\n",
       "      <td>magic</td>\n",
       "      <td>Y</td>\n",
       "    </tr>\n",
       "  </tbody>\n",
       "</table>\n",
       "</div>"
      ],
      "text/plain": [
       "  TEAM_ABBREVIATION  PERSON_ID DISPLAY_LAST_COMMA_FIRST DISPLAY_FIRST_LAST  \\\n",
       "0               OKC     203518            Abrines, Alex       Alex Abrines   \n",
       "1               BKN     203112              Acy, Quincy         Quincy Acy   \n",
       "2               OKC     203500            Adams, Steven       Steven Adams   \n",
       "3               MIA    1628389             Adebayo, Bam        Bam Adebayo   \n",
       "4               ORL     201167           Afflalo, Arron      Arron Afflalo   \n",
       "\n",
       "   ROSTERSTATUS FROM_YEAR TO_YEAR     PLAYERCODE     TEAM_ID      TEAM_CITY  \\\n",
       "0             1      2016    2018   alex_abrines  1610612760  Oklahoma City   \n",
       "1             1      2012    2018     quincy_acy  1610612751       Brooklyn   \n",
       "2             1      2013    2018   steven_adams  1610612760  Oklahoma City   \n",
       "3             1      2017    2018    bam_adebayo  1610612748          Miami   \n",
       "4             1      2007    2017  arron_afflalo  1610612753        Orlando   \n",
       "\n",
       "  TEAM_NAME TEAM_CODE GAMES_PLAYED_FLAG  \n",
       "0   Thunder   thunder                 Y  \n",
       "1      Nets      nets                 Y  \n",
       "2   Thunder   thunder                 Y  \n",
       "3      Heat      heat                 Y  \n",
       "4     Magic     magic                 Y  "
      ]
     },
     "execution_count": 121,
     "metadata": {},
     "output_type": "execute_result"
    }
   ],
   "source": [
    "temp.reset_index(inplace=True) # return row index to row numbers\n",
    "temp.head()"
   ]
  },
  {
   "cell_type": "markdown",
   "metadata": {
    "slideshow": {
     "slide_type": "slide"
    }
   },
   "source": [
    "### Getting columns\n",
    "\n",
    "- One way to grab a column:  \n",
    "    `teamcopy['MIN_YEAR']`"
   ]
  },
  {
   "cell_type": "markdown",
   "metadata": {
    "slideshow": {
     "slide_type": "fragment"
    }
   },
   "source": [
    "- *Dot notation* is easier to read (IMO):  \n",
    "    `teamcopy.MIN_YEAR`"
   ]
  },
  {
   "cell_type": "code",
   "execution_count": 122,
   "metadata": {
    "collapsed": false,
    "slideshow": {
     "slide_type": "fragment"
    }
   },
   "outputs": [
    {
     "data": {
      "text/plain": [
       "True"
      ]
     },
     "execution_count": 122,
     "metadata": {},
     "output_type": "execute_result"
    }
   ],
   "source": [
    "all(teamcopy['MIN_YEAR'] == teamcopy.MIN_YEAR)"
   ]
  },
  {
   "cell_type": "markdown",
   "metadata": {
    "slideshow": {
     "slide_type": "slide"
    }
   },
   "source": [
    "### Changing `dtype` of columns"
   ]
  },
  {
   "cell_type": "code",
   "execution_count": 123,
   "metadata": {
    "collapsed": false,
    "slideshow": {
     "slide_type": "fragment"
    }
   },
   "outputs": [
    {
     "name": "stdout",
     "output_type": "stream",
     "text": [
      "old dtype: object\n"
     ]
    }
   ],
   "source": [
    "teamcopy = teams.copy()\n",
    "print('old dtype:', teamcopy.MAX_YEAR.dtype)"
   ]
  },
  {
   "cell_type": "code",
   "execution_count": 124,
   "metadata": {
    "collapsed": false,
    "slideshow": {
     "slide_type": "fragment"
    }
   },
   "outputs": [
    {
     "name": "stdout",
     "output_type": "stream",
     "text": [
      "new dtype: int64\n"
     ]
    }
   ],
   "source": [
    "teamcopy.ABBREVIATION = teamcopy.ABBREVIATION.astype('category')\n",
    "teamcopy.TEAM_ID      = teamcopy.TEAM_ID.astype('category')\n",
    "teamcopy.MIN_YEAR     = teamcopy.MIN_YEAR.astype('int')\n",
    "teamcopy.MAX_YEAR     = teamcopy.MAX_YEAR.astype('int')\n",
    "print('new dtype:', teamcopy.MAX_YEAR.dtype)\n",
    "\n",
    "playercopy.TEAM_ABBREVIATION = playercopy.TEAM_ABBREVIATION.astype('category')\n",
    "playercopy.TEAM_ID           = playercopy.TEAM_ID.astype('category')"
   ]
  },
  {
   "cell_type": "markdown",
   "metadata": {
    "slideshow": {
     "slide_type": "slide"
    }
   },
   "source": [
    "### Setting new columns"
   ]
  },
  {
   "cell_type": "code",
   "execution_count": 125,
   "metadata": {
    "collapsed": false,
    "slideshow": {
     "slide_type": "fragment"
    }
   },
   "outputs": [
    {
     "name": "stderr",
     "output_type": "stream",
     "text": [
      "/opt/conda/lib/python3.6/site-packages/ipykernel_launcher.py:2: UserWarning: Pandas doesn't allow columns to be created via a new attribute name - see https://pandas.pydata.org/pandas-docs/stable/indexing.html#attribute-access\n",
      "  \n"
     ]
    },
    {
     "data": {
      "text/html": [
       "<div>\n",
       "<style scoped>\n",
       "    .dataframe tbody tr th:only-of-type {\n",
       "        vertical-align: middle;\n",
       "    }\n",
       "\n",
       "    .dataframe tbody tr th {\n",
       "        vertical-align: top;\n",
       "    }\n",
       "\n",
       "    .dataframe thead th {\n",
       "        text-align: right;\n",
       "    }\n",
       "</style>\n",
       "<table border=\"1\" class=\"dataframe\">\n",
       "  <thead>\n",
       "    <tr style=\"text-align: right;\">\n",
       "      <th></th>\n",
       "      <th>LEAGUE_ID</th>\n",
       "      <th>TEAM_ID</th>\n",
       "      <th>MIN_YEAR</th>\n",
       "      <th>MAX_YEAR</th>\n",
       "      <th>ABBREVIATION</th>\n",
       "      <th>new_column_1</th>\n",
       "    </tr>\n",
       "  </thead>\n",
       "  <tbody>\n",
       "    <tr>\n",
       "      <th>0</th>\n",
       "      <td>00</td>\n",
       "      <td>1610612737</td>\n",
       "      <td>1949</td>\n",
       "      <td>2018</td>\n",
       "      <td>ATL</td>\n",
       "      <td>2018</td>\n",
       "    </tr>\n",
       "    <tr>\n",
       "      <th>1</th>\n",
       "      <td>00</td>\n",
       "      <td>1610612738</td>\n",
       "      <td>1946</td>\n",
       "      <td>2018</td>\n",
       "      <td>BOS</td>\n",
       "      <td>2018</td>\n",
       "    </tr>\n",
       "    <tr>\n",
       "      <th>2</th>\n",
       "      <td>00</td>\n",
       "      <td>1610612739</td>\n",
       "      <td>1970</td>\n",
       "      <td>2018</td>\n",
       "      <td>CLE</td>\n",
       "      <td>2018</td>\n",
       "    </tr>\n",
       "    <tr>\n",
       "      <th>3</th>\n",
       "      <td>00</td>\n",
       "      <td>1610612740</td>\n",
       "      <td>2002</td>\n",
       "      <td>2018</td>\n",
       "      <td>NOP</td>\n",
       "      <td>2018</td>\n",
       "    </tr>\n",
       "    <tr>\n",
       "      <th>4</th>\n",
       "      <td>00</td>\n",
       "      <td>1610612741</td>\n",
       "      <td>1966</td>\n",
       "      <td>2018</td>\n",
       "      <td>CHI</td>\n",
       "      <td>2018</td>\n",
       "    </tr>\n",
       "  </tbody>\n",
       "</table>\n",
       "</div>"
      ],
      "text/plain": [
       "  LEAGUE_ID     TEAM_ID  MIN_YEAR  MAX_YEAR ABBREVIATION  new_column_1\n",
       "0        00  1610612737      1949      2018          ATL          2018\n",
       "1        00  1610612738      1946      2018          BOS          2018\n",
       "2        00  1610612739      1970      2018          CLE          2018\n",
       "3        00  1610612740      2002      2018          NOP          2018\n",
       "4        00  1610612741      1966      2018          CHI          2018"
      ]
     },
     "execution_count": 125,
     "metadata": {},
     "output_type": "execute_result"
    }
   ],
   "source": [
    "teamcopy['new_column_1'] = teamcopy.MAX_YEAR # works fine\n",
    "teamcopy.new_column_2 = teamcopy.MAX_YEAR # does nothing\n",
    "teamcopy.head()"
   ]
  },
  {
   "cell_type": "markdown",
   "metadata": {
    "slideshow": {
     "slide_type": "fragment"
    }
   },
   "source": [
    "- Existing columns can be set with dot notation"
   ]
  },
  {
   "cell_type": "code",
   "execution_count": 126,
   "metadata": {
    "collapsed": false,
    "slideshow": {
     "slide_type": "fragment"
    }
   },
   "outputs": [
    {
     "data": {
      "text/html": [
       "<div>\n",
       "<style scoped>\n",
       "    .dataframe tbody tr th:only-of-type {\n",
       "        vertical-align: middle;\n",
       "    }\n",
       "\n",
       "    .dataframe tbody tr th {\n",
       "        vertical-align: top;\n",
       "    }\n",
       "\n",
       "    .dataframe thead th {\n",
       "        text-align: right;\n",
       "    }\n",
       "</style>\n",
       "<table border=\"1\" class=\"dataframe\">\n",
       "  <thead>\n",
       "    <tr style=\"text-align: right;\">\n",
       "      <th></th>\n",
       "      <th>LEAGUE_ID</th>\n",
       "      <th>TEAM_ID</th>\n",
       "      <th>MIN_YEAR</th>\n",
       "      <th>MAX_YEAR</th>\n",
       "      <th>ABBREVIATION</th>\n",
       "      <th>new_column_1</th>\n",
       "    </tr>\n",
       "  </thead>\n",
       "  <tbody>\n",
       "    <tr>\n",
       "      <th>0</th>\n",
       "      <td>00</td>\n",
       "      <td>1610612737</td>\n",
       "      <td>1949</td>\n",
       "      <td>2018</td>\n",
       "      <td>ATL</td>\n",
       "      <td>ZZ</td>\n",
       "    </tr>\n",
       "    <tr>\n",
       "      <th>1</th>\n",
       "      <td>00</td>\n",
       "      <td>1610612738</td>\n",
       "      <td>1946</td>\n",
       "      <td>2018</td>\n",
       "      <td>BOS</td>\n",
       "      <td>ZZ</td>\n",
       "    </tr>\n",
       "    <tr>\n",
       "      <th>2</th>\n",
       "      <td>00</td>\n",
       "      <td>1610612739</td>\n",
       "      <td>1970</td>\n",
       "      <td>2018</td>\n",
       "      <td>CLE</td>\n",
       "      <td>ZZ</td>\n",
       "    </tr>\n",
       "    <tr>\n",
       "      <th>3</th>\n",
       "      <td>00</td>\n",
       "      <td>1610612740</td>\n",
       "      <td>2002</td>\n",
       "      <td>2018</td>\n",
       "      <td>NOP</td>\n",
       "      <td>ZZ</td>\n",
       "    </tr>\n",
       "    <tr>\n",
       "      <th>4</th>\n",
       "      <td>00</td>\n",
       "      <td>1610612741</td>\n",
       "      <td>1966</td>\n",
       "      <td>2018</td>\n",
       "      <td>CHI</td>\n",
       "      <td>ZZ</td>\n",
       "    </tr>\n",
       "  </tbody>\n",
       "</table>\n",
       "</div>"
      ],
      "text/plain": [
       "  LEAGUE_ID     TEAM_ID  MIN_YEAR  MAX_YEAR ABBREVIATION new_column_1\n",
       "0        00  1610612737      1949      2018          ATL           ZZ\n",
       "1        00  1610612738      1946      2018          BOS           ZZ\n",
       "2        00  1610612739      1970      2018          CLE           ZZ\n",
       "3        00  1610612740      2002      2018          NOP           ZZ\n",
       "4        00  1610612741      1966      2018          CHI           ZZ"
      ]
     },
     "execution_count": 126,
     "metadata": {},
     "output_type": "execute_result"
    }
   ],
   "source": [
    "teamcopy.new_column_1 = 'ZZ'\n",
    "teamcopy.head()"
   ]
  },
  {
   "cell_type": "code",
   "execution_count": 127,
   "metadata": {
    "collapsed": true,
    "slideshow": {
     "slide_type": "fragment"
    }
   },
   "outputs": [],
   "source": [
    "teamcopy.drop('new_column_1', axis=1, inplace=True) # drop column"
   ]
  },
  {
   "cell_type": "markdown",
   "metadata": {
    "slideshow": {
     "slide_type": "slide"
    }
   },
   "source": [
    "### Condition based slicing\n",
    "\n",
    "Subset just the current teams"
   ]
  },
  {
   "cell_type": "code",
   "execution_count": 128,
   "metadata": {
    "collapsed": false,
    "slideshow": {
     "slide_type": "fragment"
    }
   },
   "outputs": [
    {
     "data": {
      "text/html": [
       "<div>\n",
       "<style scoped>\n",
       "    .dataframe tbody tr th:only-of-type {\n",
       "        vertical-align: middle;\n",
       "    }\n",
       "\n",
       "    .dataframe tbody tr th {\n",
       "        vertical-align: top;\n",
       "    }\n",
       "\n",
       "    .dataframe thead th {\n",
       "        text-align: right;\n",
       "    }\n",
       "</style>\n",
       "<table border=\"1\" class=\"dataframe\">\n",
       "  <thead>\n",
       "    <tr style=\"text-align: right;\">\n",
       "      <th></th>\n",
       "      <th>LEAGUE_ID</th>\n",
       "      <th>TEAM_ID</th>\n",
       "      <th>MIN_YEAR</th>\n",
       "      <th>MAX_YEAR</th>\n",
       "      <th>ABBREVIATION</th>\n",
       "    </tr>\n",
       "  </thead>\n",
       "  <tbody>\n",
       "    <tr>\n",
       "      <th>0</th>\n",
       "      <td>00</td>\n",
       "      <td>1610612737</td>\n",
       "      <td>1949</td>\n",
       "      <td>2018</td>\n",
       "      <td>ATL</td>\n",
       "    </tr>\n",
       "    <tr>\n",
       "      <th>1</th>\n",
       "      <td>00</td>\n",
       "      <td>1610612738</td>\n",
       "      <td>1946</td>\n",
       "      <td>2018</td>\n",
       "      <td>BOS</td>\n",
       "    </tr>\n",
       "    <tr>\n",
       "      <th>2</th>\n",
       "      <td>00</td>\n",
       "      <td>1610612739</td>\n",
       "      <td>1970</td>\n",
       "      <td>2018</td>\n",
       "      <td>CLE</td>\n",
       "    </tr>\n",
       "    <tr>\n",
       "      <th>3</th>\n",
       "      <td>00</td>\n",
       "      <td>1610612740</td>\n",
       "      <td>2002</td>\n",
       "      <td>2018</td>\n",
       "      <td>NOP</td>\n",
       "    </tr>\n",
       "    <tr>\n",
       "      <th>4</th>\n",
       "      <td>00</td>\n",
       "      <td>1610612741</td>\n",
       "      <td>1966</td>\n",
       "      <td>2018</td>\n",
       "      <td>CHI</td>\n",
       "    </tr>\n",
       "  </tbody>\n",
       "</table>\n",
       "</div>"
      ],
      "text/plain": [
       "  LEAGUE_ID     TEAM_ID  MIN_YEAR  MAX_YEAR ABBREVIATION\n",
       "0        00  1610612737      1949      2018          ATL\n",
       "1        00  1610612738      1946      2018          BOS\n",
       "2        00  1610612739      1970      2018          CLE\n",
       "3        00  1610612740      2002      2018          NOP\n",
       "4        00  1610612741      1966      2018          CHI"
      ]
     },
     "execution_count": 128,
     "metadata": {},
     "output_type": "execute_result"
    }
   ],
   "source": [
    "teamcopy = teamcopy[~pd.isna(teamcopy.ABBREVIATION)] # subset rows with team abbreviation\n",
    "teamcopy.head()"
   ]
  },
  {
   "cell_type": "code",
   "execution_count": 129,
   "metadata": {
    "collapsed": false,
    "slideshow": {
     "slide_type": "fragment"
    }
   },
   "outputs": [
    {
     "data": {
      "text/html": [
       "<div>\n",
       "<style scoped>\n",
       "    .dataframe tbody tr th:only-of-type {\n",
       "        vertical-align: middle;\n",
       "    }\n",
       "\n",
       "    .dataframe tbody tr th {\n",
       "        vertical-align: top;\n",
       "    }\n",
       "\n",
       "    .dataframe thead th {\n",
       "        text-align: right;\n",
       "    }\n",
       "</style>\n",
       "<table border=\"1\" class=\"dataframe\">\n",
       "  <thead>\n",
       "    <tr style=\"text-align: right;\">\n",
       "      <th></th>\n",
       "      <th>LEAGUE_ID</th>\n",
       "      <th>TEAM_ID</th>\n",
       "      <th>MIN_YEAR</th>\n",
       "      <th>MAX_YEAR</th>\n",
       "      <th>ABBREVIATION</th>\n",
       "    </tr>\n",
       "  </thead>\n",
       "  <tbody>\n",
       "    <tr>\n",
       "      <th>2</th>\n",
       "      <td>00</td>\n",
       "      <td>1610612739</td>\n",
       "      <td>1970</td>\n",
       "      <td>2018</td>\n",
       "      <td>CLE</td>\n",
       "    </tr>\n",
       "    <tr>\n",
       "      <th>4</th>\n",
       "      <td>00</td>\n",
       "      <td>1610612741</td>\n",
       "      <td>1966</td>\n",
       "      <td>2018</td>\n",
       "      <td>CHI</td>\n",
       "    </tr>\n",
       "    <tr>\n",
       "      <th>28</th>\n",
       "      <td>00</td>\n",
       "      <td>1610612766</td>\n",
       "      <td>1988</td>\n",
       "      <td>2018</td>\n",
       "      <td>CHA</td>\n",
       "    </tr>\n",
       "  </tbody>\n",
       "</table>\n",
       "</div>"
      ],
      "text/plain": [
       "   LEAGUE_ID     TEAM_ID  MIN_YEAR  MAX_YEAR ABBREVIATION\n",
       "2         00  1610612739      1970      2018          CLE\n",
       "4         00  1610612741      1966      2018          CHI\n",
       "28        00  1610612766      1988      2018          CHA"
      ]
     },
     "execution_count": 129,
     "metadata": {},
     "output_type": "execute_result"
    }
   ],
   "source": [
    "tmp = teamcopy.ABBREVIATION.str.contains('^C') # str method can apply string function\n",
    "Cteams = teamcopy.loc[tmp]\n",
    "Cteams"
   ]
  },
  {
   "cell_type": "markdown",
   "metadata": {
    "slideshow": {
     "slide_type": "slide"
    }
   },
   "source": [
    "### `loc` vs `iloc` indexing"
   ]
  },
  {
   "cell_type": "code",
   "execution_count": 130,
   "metadata": {
    "collapsed": false,
    "slideshow": {
     "slide_type": "fragment"
    }
   },
   "outputs": [
    {
     "data": {
      "text/html": [
       "<div>\n",
       "<style scoped>\n",
       "    .dataframe tbody tr th:only-of-type {\n",
       "        vertical-align: middle;\n",
       "    }\n",
       "\n",
       "    .dataframe tbody tr th {\n",
       "        vertical-align: top;\n",
       "    }\n",
       "\n",
       "    .dataframe thead th {\n",
       "        text-align: right;\n",
       "    }\n",
       "</style>\n",
       "<table border=\"1\" class=\"dataframe\">\n",
       "  <thead>\n",
       "    <tr style=\"text-align: right;\">\n",
       "      <th></th>\n",
       "      <th>LEAGUE_ID</th>\n",
       "      <th>TEAM_ID</th>\n",
       "      <th>MIN_YEAR</th>\n",
       "      <th>MAX_YEAR</th>\n",
       "      <th>ABBREVIATION</th>\n",
       "    </tr>\n",
       "  </thead>\n",
       "  <tbody>\n",
       "    <tr>\n",
       "      <th>2</th>\n",
       "      <td>00</td>\n",
       "      <td>1610612739</td>\n",
       "      <td>1970</td>\n",
       "      <td>2018</td>\n",
       "      <td>CLE</td>\n",
       "    </tr>\n",
       "    <tr>\n",
       "      <th>4</th>\n",
       "      <td>00</td>\n",
       "      <td>1610612741</td>\n",
       "      <td>1966</td>\n",
       "      <td>2018</td>\n",
       "      <td>CHI</td>\n",
       "    </tr>\n",
       "    <tr>\n",
       "      <th>28</th>\n",
       "      <td>00</td>\n",
       "      <td>1610612766</td>\n",
       "      <td>1988</td>\n",
       "      <td>2018</td>\n",
       "      <td>CHA</td>\n",
       "    </tr>\n",
       "  </tbody>\n",
       "</table>\n",
       "</div>"
      ],
      "text/plain": [
       "   LEAGUE_ID     TEAM_ID  MIN_YEAR  MAX_YEAR ABBREVIATION\n",
       "2         00  1610612739      1970      2018          CLE\n",
       "4         00  1610612741      1966      2018          CHI\n",
       "28        00  1610612766      1988      2018          CHA"
      ]
     },
     "execution_count": 130,
     "metadata": {},
     "output_type": "execute_result"
    }
   ],
   "source": [
    "Cteams"
   ]
  },
  {
   "cell_type": "markdown",
   "metadata": {
    "slideshow": {
     "slide_type": "fragment"
    }
   },
   "source": [
    "- `iloc` is row number (unrelated to index)"
   ]
  },
  {
   "cell_type": "code",
   "execution_count": 131,
   "metadata": {
    "collapsed": false,
    "slideshow": {
     "slide_type": "fragment"
    }
   },
   "outputs": [
    {
     "data": {
      "text/plain": [
       "LEAGUE_ID               00\n",
       "TEAM_ID         1610612766\n",
       "MIN_YEAR              1988\n",
       "MAX_YEAR              2018\n",
       "ABBREVIATION           CHA\n",
       "Name: 28, dtype: object"
      ]
     },
     "execution_count": 131,
     "metadata": {},
     "output_type": "execute_result"
    }
   ],
   "source": [
    "Cteams.iloc[2]"
   ]
  },
  {
   "cell_type": "markdown",
   "metadata": {
    "slideshow": {
     "slide_type": "fragment"
    }
   },
   "source": [
    "- `loc` is row name (by index)"
   ]
  },
  {
   "cell_type": "code",
   "execution_count": 132,
   "metadata": {
    "collapsed": false,
    "slideshow": {
     "slide_type": "fragment"
    }
   },
   "outputs": [
    {
     "data": {
      "text/plain": [
       "LEAGUE_ID               00\n",
       "TEAM_ID         1610612739\n",
       "MIN_YEAR              1970\n",
       "MAX_YEAR              2018\n",
       "ABBREVIATION           CLE\n",
       "Name: 2, dtype: object"
      ]
     },
     "execution_count": 132,
     "metadata": {},
     "output_type": "execute_result"
    }
   ],
   "source": [
    "Cteams.loc[2]"
   ]
  },
  {
   "cell_type": "markdown",
   "metadata": {
    "slideshow": {
     "slide_type": "slide"
    }
   },
   "source": [
    "### Example usage\n",
    "\n",
    "- Do I have players from all teams? (set comparisons)"
   ]
  },
  {
   "cell_type": "code",
   "execution_count": 133,
   "metadata": {
    "collapsed": false,
    "slideshow": {
     "slide_type": "fragment"
    }
   },
   "outputs": [
    {
     "data": {
      "text/plain": [
       "True"
      ]
     },
     "execution_count": 133,
     "metadata": {},
     "output_type": "execute_result"
    }
   ],
   "source": [
    "set(teamcopy.ABBREVIATION.unique()) == set(playercopy.TEAM_ABBREVIATION.unique())"
   ]
  },
  {
   "cell_type": "markdown",
   "metadata": {
    "slideshow": {
     "slide_type": "fragment"
    }
   },
   "source": [
    "- List players groupped by teams (groupby)"
   ]
  },
  {
   "cell_type": "code",
   "execution_count": 134,
   "metadata": {
    "collapsed": false,
    "slideshow": {
     "slide_type": "fragment"
    }
   },
   "outputs": [
    {
     "name": "stdout",
     "output_type": "stream",
     "text": [
      "iterable object: <pandas.core.groupby.generic.DataFrameGroupBy object at 0x7efc2108e860> \n",
      "\n",
      "\n",
      "*** 76ers\n",
      "Anderson, Justin; Bayless, Jerryd; Belinelli, Marco; Covington, Robert; Embiid, Joel; Fultz, Markelle; Holmes, Richaun; Ilyasova, Ersan; Jackson, Demetrius; Johnson, Amir; Korkmaz, Furkan; Luwawu-Cabarrot, Timothe; McConnell, T.J.; Redick, JJ; Saric, Dario; Simmons, Ben \n",
      "\n",
      "*** Bucks\n",
      "Antetokounmpo, Giannis; Bledsoe, Eric; Brogdon, Malcolm; Brown, Sterling; Dellavedova, Matthew; Henson, John; Jennings, Brandon; Maker, Thon; Middleton, Khris; Muhammad, Shabazz; Munford, Xavier; Parker, Jabari; Plumlee, Marshall; Snell, Tony; Terry, Jason; Wilson, D.J.; Zeller, Tyler \n",
      "\n",
      "*** Bulls\n",
      "Arcidiacono, Ryan; Asik, Omer; Blakeney, Antonio; Dunn, Kris; Eddie, Jarell; Felicio, Cristiano; Grant, Jerian; Holiday, Justin; Kilpatrick, Sean; LaVine, Zach; Lopez, Robin; Markkanen, Lauri; Nwaba, David; Payne, Cameron; Portis, Bobby; Valentine, Denzel; Vonleh, Noah; Zipser, Paul \n",
      "\n",
      "*** Cavaliers\n",
      "Calderon, Jose; Clarkson, Jordan; Green, Jeff; Hill, George; Hood, Rodney; James, LeBron; Korver, Kyle; Love, Kevin; Nance Jr., Larry; Osman, Cedi; Perkins, Kendrick; Smith, JR; Thompson, Tristan; White, Okaro; Zizic, Ante \n",
      "\n",
      "*** Celtics\n",
      "Allen, Kadeem; Baynes, Aron; Bird, Jabari; Brown, Jaylen; Gibson, Jonathan; Hayward, Gordon; Horford, Al; Irving, Kyrie; Larkin, Shane; Monroe, Greg; Morris, Marcus; Nader, Abdel; Ojeleye, Semi; Rozier, Terry; Silas, Xavier; Smart, Marcus; Tatum, Jayson; Theis, Daniel; Yabusele, Guerschon \n",
      "\n",
      "*** Clippers\n",
      "Beverley, Patrick; Bradley, Avery; Dekker, Sam; Evans, Jawun; Gallinari, Danilo; Harrell, Montrezl; Harris, Tobias; Johnson, Wesley; Jordan, DeAndre; Marjanovic, Boban; Rivers, Austin; Teodosic, Milos; Thornwell, Sindarius; Wallace, Tyrone; Williams, C.J.; Williams, Lou \n",
      "\n",
      "*** Grizzlies\n",
      "Brooks, Dillon; Brooks, MarShon; Chalmers, Mario; Conley, Mike; Davis, Deyonta; Evans, Tyreke; Gasol, Marc; Green, JaMychal; Harrison, Andrew; Henry, Myke; Martin, Jarell; McLemore, Ben; Parsons, Chandler; Rabb, Ivan; Selden, Wayne; Simmons, Kobi; Teague, Marquis; Weber, Briante \n",
      "\n",
      "*** Hawks\n",
      "Bazemore, Kent; Bembry, DeAndre'; Cavanaugh, Tyler; Cleveland, Antonius; Collins, John; Dedmon, Dewayne; Delaney, Malcolm; Dorsey, Tyler; Evans, Jeremy; Lee, Damion; Magette, Josh; Morris, Jaylen; Muscala, Mike; Plumlee, Miles; Prince, Taurean; Schroder, Dennis; Taylor, Isaiah; White III, Andrew \n",
      "\n",
      "*** Heat\n",
      "Adebayo, Bam; Babbitt, Luke; Dragic, Goran; Ellington, Wayne; Haslem, Udonis; Johnson, James; Johnson, Tyler; Jones Jr., Derrick; McGruder, Rodney; Mickey, Jordan; Olynyk, Kelly; Richardson, Josh; Wade, Dwyane; Waiters, Dion; Walton Jr., Derrick; Whiteside, Hassan; Winslow, Justise \n",
      "\n",
      "*** Hornets\n",
      "Bacon, Dwayne; Batum, Nicolas; Carter-Williams, Michael; Graham, Treveon; Hernangomez, Willy; Howard, Dwight; Kaminsky, Frank; Kidd-Gilchrist, Michael; Lamb, Jeremy; Mathiang, Mangok; Monk, Malik; Paige, Marcus; Stone, Julyan; Walker, Kemba; Williams, Marvin; Zeller, Cody \n",
      "\n",
      "*** Jazz\n",
      "Bradley, Tony; Burks, Alec; Crowder, Jae; Exum, Dante; Favors, Derrick; Gobert, Rudy; Ingles, Joe; Jerebko, Jonas; McCree, Erik; Mitchell, Donovan; Neto, Raul; Niang, Georges; O'Neale, Royce; Rubio, Ricky; Sefolosha, Thabo; Stockton, David; Udoh, Ekpe \n",
      "\n",
      "*** Kings\n",
      "Bogdanovic, Bogdan; Caboclo, Bruno; Carter, Vince; Cauley-Stein, Willie; Cooley, Jack; Fox, De'Aaron; Giles III, Harry; Hayes, Nigel; Hield, Buddy; Jackson, Justin; Koufos, Kosta; Labissiere, Skal; Mason, Frank; Randolph, Zach; Sampson, JaKarr; Shumpert, Iman; Temple, Garrett \n",
      "\n",
      "*** Knicks\n",
      "Baker, Ron; Beasley, Michael; Burke, Trey; Dotson, Damyean; Hardaway Jr., Tim; Hicks, Isaiah; Jack, Jarrett; Kanter, Enes; Kornet, Luke; Lee, Courtney; Mudiay, Emmanuel; Noah, Joakim; Ntilikina, Frank; O'Quinn, Kyle; Porzingis, Kristaps; Thomas, Lance; Williams, Troy \n",
      "\n",
      "*** Lakers\n",
      "Ball, Lonzo; Bryant, Thomas; Caldwell-Pope, Kentavious; Caruso, Alex; Deng, Luol; Ennis, Tyler; Frye, Channing; Hart, Josh; Ingram, Andre; Ingram, Brandon; Kuzma, Kyle; Lopez, Brook; Payton II, Gary; Randle, Julius; Thomas, Isaiah; Wear, Travis; Zubac, Ivica \n",
      "\n",
      "*** Magic\n",
      "Afflalo, Arron; Artis, Jamel; Augustin, D.J.; Birch, Khem; Biyombo, Bismack; Fournier, Evan; Gordon, Aaron; Hezonja, Mario; Isaac, Jonathan; Iwundu, Wes; Purvis, Rodney; Ross, Terrence; Simmons, Jonathon; Speights, Marreese; Vucevic, Nikola \n",
      "\n",
      "*** Mavericks\n",
      "Barea, J.J.; Barnes, Harrison; Collinsworth, Kyle; Curry, Seth; Ferrell, Yogi; Finney-Smith, Dorian; Harrison, Aaron; Jones, Jalen; Kleber, Maxi; Matthews, Wesley; McDermott, Doug; Mejri, Salah; Motley, Johnathan; Noel, Nerlens; Nowitzki, Dirk; Powell, Dwight; Smith Jr., Dennis \n",
      "\n",
      "*** Nets\n",
      "Acy, Quincy; Allen, Jarrett; Carroll, DeMarre; Crabbe, Allen; Cunningham, Dante; Dinwiddie, Spencer; Doyle, Milton; Harris, Joe; Hollis-Jefferson, Rondae; LeVert, Caris; Lin, Jeremy; Mozgov, Timofey; Okafor, Jahlil; Russell, D'Angelo; Stauskas, Nik; Webb III, James; Whitehead, Isaiah \n",
      "\n",
      "*** Nuggets\n",
      "Arthur, Darrell; Barton, Will; Beasley, Malik; Chandler, Wilson; Craig, Torrey; Faried, Kenneth; Harris, Devin; Harris, Gary; Hernangomez, Juancho; Jefferson, Richard; Jokic, Nikola; Lydon, Tyler; Lyles, Trey; Millsap, Paul; Morris, Monte; Murray, Jamal; Plumlee, Mason \n",
      "\n",
      "*** Pacers\n",
      "Anigbogu, Ike; Bogdanovic, Bojan; Booker, Trevor; Collison, Darren; Jefferson, Al; Joseph, Cory; Leaf, TJ; Moore, Ben; Oladipo, Victor; Poythress, Alex; Robinson III, Glenn; Sabonis, Domantas; Stephenson, Lance; Sumner, Edmond; Turner, Myles; Young, Joe; Young, Thaddeus \n",
      "\n",
      "*** Pelicans\n",
      "Ajinca, Alexis; Clark, Ian; Cooke, Charles; Cousins, DeMarcus; Crawford, Jordan; Davis, Anthony; Diallo, Cheick; Drew II, Larry; Hill, Solomon; Holiday, Jrue; Jackson, Frank; Liggins, DeAndre; Miller, Darius; Mirotic, Nikola; Moore, E'Twaun; Okafor, Emeka; Rondo, Rajon \n",
      "\n",
      "*** Pistons\n",
      "Bullock, Reggie; Buycks, Dwight; Drummond, Andre; Ellenson, Henry; Ennis III, James; Felder, Kay; Galloway, Langston; Griffin, Blake; Hearn, Reggie; Jackson, Reggie; Johnson, Stanley; Kennard, Luke; Leuer, Jon; Moreland, Eric; Nelson, Jameer; Smith, Ish; Tolliver, Anthony \n",
      "\n",
      "*** Raptors\n",
      "Anunoby, OG; Brown, Lorenzo; DeRozan, DeMar; Ibaka, Serge; Lowry, Kyle; McKinnie, Alfonzo; Miles, CJ; Miller, Malcolm; Nogueira, Lucas; Poeltl, Jakob; Powell, Norman; Richardson, Malachi; Siakam, Pascal; Valanciunas, Jonas; VanVleet, Fred; Wright, Delon \n",
      "\n",
      "*** Rockets\n",
      "Anderson, Ryan; Ariza, Trevor; Black, Tarik; Brown, Markel; Capela, Clint; Gordon, Eric; Green, Gerald; Harden, James; Nene; Hunter, RJ; Jackson, Aaron; Johnson, Joe; Mbah a Moute, Luc; Onuaku, Chinanu; Paul, Chris; Zhou Qi; Tucker, PJ \n",
      "\n",
      "*** Spurs\n",
      "Aldridge, LaMarcus; Anderson, Kyle; Bertans, Davis; Costello, Matt; Forbes, Bryn; Gasol, Pau; Gay, Rudy; Ginobili, Manu; Green, Danny; Hilliard, Darrun; Lauvergne, Joffrey; Leonard, Kawhi; Mills, Patty; Murray, Dejounte; Parker, Tony; Paul, Brandon; White, Derrick \n",
      "\n",
      "*** Suns\n",
      "Bender, Dragan; Booker, Devin; Chandler, Tyson; Chriss, Marquese; Daniels, Troy; Dudley, Jared; Harrison, Shaquille; House Jr., Danuel; Jackson, Josh; Knight, Brandon; Len, Alex; Payton, Elfrid; Peters, Alec; Reed, Davon; Ulis, Tyler; Warren, T.J.; Williams, Alan \n",
      "\n",
      "*** Thunder\n",
      "Abrines, Alex; Adams, Steven; Anthony, Carmelo; Brewer, Corey; Collison, Nick; Dozier, PJ; Felton, Raymond; Ferguson, Terrance; George, Paul; Grant, Jerami; Hamilton, Daniel; Huestis, Josh; Johnson, Dakari; Patterson, Patrick; Roberson, Andre; Singler, Kyle; Westbrook, Russell \n",
      "\n",
      "*** Timberwolves\n",
      "Aldrich, Cole; Bjelica, Nemanja; Brooks, Aaron; Brown, Anthony; Butler, Jimmy; Crawford, Jamal; Dieng, Gorgui; Georges-Hunt, Marcus; Gibson, Taj; Jefferson, Amile; Jones, Tyus; Patton, Justin; Rose, Derrick; Teague, Jeff; Towns, Karl-Anthony; Wiggins, Andrew \n",
      "\n",
      "*** Trail Blazers\n",
      "Aminu, Al-Farouq; Baldwin IV, Wade; Collins, Zach; Connaughton, Pat; Davis, Ed; Harkless, Maurice; Layman, Jake; Leonard, Meyers; Lillard, Damian; McCollum, CJ; Napier, Shabazz; Nurkic, Jusuf; Papagiannis, Georgios; Swanigan, Caleb; Turner, Evan; Wilcox, CJ \n",
      "\n",
      "*** Warriors\n",
      "Bell, Jordan; Cook, Quinn; Curry, Stephen; Durant, Kevin; Green, Draymond; Iguodala, Andre; Jones, Damian; Livingston, Shaun; Looney, Kevon; McCaw, Patrick; McGee, JaVale; Pachulia, Zaza; Thompson, Klay; West, David; Young, Nick \n",
      "\n",
      "*** Wizards\n",
      "Beal, Bradley; Frazier, Tim; Gortat, Marcin; Lawson, Ty; Mahinmi, Ian; McCullough, Chris; Meeks, Jodie; Morris, Markieff; Oubre Jr., Kelly; Porter Jr., Otto; Robinson, Devin; Satoransky, Tomas; Scott, Mike; Sessions, Ramon; Smith, Jason; Wall, John \n",
      "\n"
     ]
    }
   ],
   "source": [
    "print('iterable object:', playercopy.groupby('TEAM_CODE'), '\\n\\n')\n",
    "for t, p in playercopy.groupby('TEAM_NAME'):\n",
    "    print(\"***\", t)\n",
    "    print('; '.join(p.DISPLAY_LAST_COMMA_FIRST.values), '\\n')"
   ]
  },
  {
   "cell_type": "markdown",
   "metadata": {
    "slideshow": {
     "slide_type": "slide"
    }
   },
   "source": [
    "### Pandas (often) shows you views\n",
    "\n",
    "- Python objects are often just _views_ of another instance"
   ]
  },
  {
   "cell_type": "markdown",
   "metadata": {
    "slideshow": {
     "slide_type": "fragment"
    }
   },
   "source": [
    "- In R, (almost) every assignment copies values"
   ]
  },
  {
   "cell_type": "markdown",
   "metadata": {
    "slideshow": {
     "slide_type": "fragment"
    }
   },
   "source": [
    "- Following says these are the same objects in memory:"
   ]
  },
  {
   "cell_type": "code",
   "execution_count": 135,
   "metadata": {
    "collapsed": false,
    "slideshow": {
     "slide_type": "-"
    }
   },
   "outputs": [
    {
     "name": "stdout",
     "output_type": "stream",
     "text": [
      "True\n"
     ]
    }
   ],
   "source": [
    "temp = teams\n",
    "print(id(temp) == id(teams))"
   ]
  },
  {
   "cell_type": "markdown",
   "metadata": {
    "slideshow": {
     "slide_type": "fragment"
    }
   },
   "source": [
    "- If you change one, you see the change in the other:"
   ]
  },
  {
   "cell_type": "code",
   "execution_count": 136,
   "metadata": {
    "collapsed": false,
    "slideshow": {
     "slide_type": "-"
    }
   },
   "outputs": [
    {
     "name": "stdout",
     "output_type": "stream",
     "text": [
      "id of s1: 139621351091784\n",
      "id of s2: 139621351091784\n",
      "s1 is s2: True\n"
     ]
    }
   ],
   "source": [
    "s1 = pd.Series([0.25, 0.5, 0.75, 1.0], index=['a', 'b', 'c', 'd'])\n",
    "s2 = s1\n",
    "print(\"id of s1:\", id(s1))\n",
    "print(\"id of s2:\", id(s2))\n",
    "print(\"s1 is s2:\", s1 is s2)"
   ]
  },
  {
   "cell_type": "code",
   "execution_count": 137,
   "metadata": {
    "collapsed": false,
    "slideshow": {
     "slide_type": "fragment"
    }
   },
   "outputs": [
    {
     "name": "stdout",
     "output_type": "stream",
     "text": [
      "s1 changed: 10000.0\n",
      "s2 also   : 10000.0\n"
     ]
    }
   ],
   "source": [
    "s1[0] = 10000\n",
    "\n",
    "print(\"s1 changed:\", s1[0])\n",
    "print(\"s2 also   :\", s2[0])\n",
    "#print(\"s1 is s2:\", s1[0] is s2[0])"
   ]
  },
  {
   "cell_type": "markdown",
   "metadata": {
    "slideshow": {
     "slide_type": "slide"
    }
   },
   "source": [
    "Needs to be copied in order to make an independent variable."
   ]
  },
  {
   "cell_type": "code",
   "execution_count": 138,
   "metadata": {
    "collapsed": false,
    "slideshow": {
     "slide_type": "-"
    }
   },
   "outputs": [
    {
     "data": {
      "text/plain": [
       "False"
      ]
     },
     "execution_count": 138,
     "metadata": {},
     "output_type": "execute_result"
    }
   ],
   "source": [
    "abbr = teams.ABBREVIATION.copy()\n",
    "abbr is teams.ABBREVIATION"
   ]
  }
 ],
 "metadata": {
  "celltoolbar": "Slideshow",
  "kernelspec": {
   "display_name": "Python [default]",
   "language": "python",
   "name": "python3"
  },
  "language_info": {
   "codemirror_mode": {
    "name": "ipython",
    "version": 3
   },
   "file_extension": ".py",
   "mimetype": "text/x-python",
   "name": "python",
   "nbconvert_exporter": "python",
   "pygments_lexer": "ipython3",
   "version": "3.5.4"
  }
 },
 "nbformat": 4,
 "nbformat_minor": 2
}
