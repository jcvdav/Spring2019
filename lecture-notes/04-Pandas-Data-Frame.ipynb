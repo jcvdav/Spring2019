{
 "cells": [
  {
   "cell_type": "markdown",
   "metadata": {
    "colab_type": "text",
    "id": "i7s3A7RuEEVw",
    "slideshow": {
     "slide_type": "slide"
    }
   },
   "source": [
    "# Side comment: Programming style"
   ]
  },
  {
   "cell_type": "markdown",
   "metadata": {
    "colab_type": "text",
    "id": "Cz6s0-6CEEVx",
    "slideshow": {
     "slide_type": "fragment"
    }
   },
   "source": [
    "- Programming language is really like a language"
   ]
  },
  {
   "cell_type": "markdown",
   "metadata": {
    "colab_type": "text",
    "id": "x35t1yoTEEVz",
    "slideshow": {
     "slide_type": "fragment"
    }
   },
   "source": [
    "- Always think about good programming style"
   ]
  },
  {
   "cell_type": "markdown",
   "metadata": {
    "colab_type": "text",
    "id": "NOEoOpDHEEV0",
    "slideshow": {
     "slide_type": "fragment"
    }
   },
   "source": [
    "- Better way to do the same thing"
   ]
  },
  {
   "cell_type": "markdown",
   "metadata": {
    "colab_type": "text",
    "id": "I0fDYZTzEEV1",
    "slideshow": {
     "slide_type": "fragment"
    }
   },
   "source": [
    "- Better how? e.g., easier to read, concise, efficient (computationally), etc."
   ]
  },
  {
   "cell_type": "markdown",
   "metadata": {
    "colab_type": "text",
    "id": "GfKAZoaqEEV2",
    "slideshow": {
     "slide_type": "fragment"
    }
   },
   "source": [
    "- Practice makes you better"
   ]
  },
  {
   "cell_type": "markdown",
   "metadata": {
    "colab_type": "text",
    "id": "N_XmsCRUEEV3",
    "slideshow": {
     "slide_type": "slide"
    }
   },
   "source": [
    "For example, there are guides and articles such as these:\n",
    "- http://docs.python-guide.org/en/latest/writing/style/#short-ways-to-manipulate-lists\n",
    "- https://google.github.io/styleguide/pyguide.html?showone=List_Comprehensions#List_Comprehensions\n",
    "- https://google.github.io/styleguide/pyguide.html?showone=Naming#Naming\n",
    "- https://www.python.org/dev/peps/pep-0008/"
   ]
  },
  {
   "cell_type": "code",
   "execution_count": 1,
   "metadata": {
    "colab": {},
    "colab_type": "code",
    "id": "rWyOqIANEEV4",
    "outputId": "1118346b-84ea-4048-8ee3-24b1496de139",
    "slideshow": {
     "slide_type": "slide"
    }
   },
   "outputs": [
    {
     "name": "stdout",
     "output_type": "stream",
     "text": [
      "The Zen of Python, by Tim Peters\n",
      "\n",
      "Beautiful is better than ugly.\n",
      "Explicit is better than implicit.\n",
      "Simple is better than complex.\n",
      "Complex is better than complicated.\n",
      "Flat is better than nested.\n",
      "Sparse is better than dense.\n",
      "Readability counts.\n",
      "Special cases aren't special enough to break the rules.\n",
      "Although practicality beats purity.\n",
      "Errors should never pass silently.\n",
      "Unless explicitly silenced.\n",
      "In the face of ambiguity, refuse the temptation to guess.\n",
      "There should be one-- and preferably only one --obvious way to do it.\n",
      "Although that way may not be obvious at first unless you're Dutch.\n",
      "Now is better than never.\n",
      "Although never is often better than *right* now.\n",
      "If the implementation is hard to explain, it's a bad idea.\n",
      "If the implementation is easy to explain, it may be a good idea.\n",
      "Namespaces are one honking great idea -- let's do more of those!\n"
     ]
    }
   ],
   "source": [
    "import this"
   ]
  },
  {
   "cell_type": "markdown",
   "metadata": {
    "colab_type": "text",
    "id": "xyArlULpEEV_",
    "slideshow": {
     "slide_type": "fragment"
    }
   },
   "source": [
    "Above easter egg is from Zen of Python: https://www.python.org/dev/peps/pep-0020/. \n",
    "\n",
    "- https://www.quora.com/What-do-different-aphorisms-in-The-Zen-of-Python-mean \n",
    "- 20th aphorism?:https://www.reddit.com/r/Python/comments/3cjhlo/this_disobeys_the_zen_of_python/"
   ]
  },
  {
   "cell_type": "markdown",
   "metadata": {
    "colab_type": "text",
    "id": "4KRV6_reEEWA",
    "slideshow": {
     "slide_type": "slide"
    }
   },
   "source": [
    "# Pandas"
   ]
  },
  {
   "cell_type": "markdown",
   "metadata": {
    "colab_type": "text",
    "id": "DhanfXxaEEWB",
    "slideshow": {
     "slide_type": "fragment"
    }
   },
   "source": [
    "- Pandas package is like data frames package for R"
   ]
  },
  {
   "cell_type": "markdown",
   "metadata": {
    "colab_type": "text",
    "id": "uFL_IQ7fEEWD",
    "slideshow": {
     "slide_type": "fragment"
    }
   },
   "source": [
    "- Extensive set of functions ([Chapter 3 in PDSH](https://jakevdp.github.io/PythonDataScienceHandbook/03.00-introduction-to-pandas.html) using Colab)"
   ]
  },
  {
   "cell_type": "markdown",
   "metadata": {
    "colab_type": "text",
    "id": "4OQyL6OMEEWE",
    "slideshow": {
     "slide_type": "fragment"
    }
   },
   "source": [
    "- [Pandas official website](https://pandas.pydata.org)"
   ]
  },
  {
   "cell_type": "markdown",
   "metadata": {
    "colab_type": "text",
    "id": "TBWHKpfvEEWF",
    "slideshow": {
     "slide_type": "fragment"
    }
   },
   "source": [
    "- [Latest stable release documentation](http://pandas.pydata.org/pandas-docs/stable/api.html)."
   ]
  },
  {
   "cell_type": "markdown",
   "metadata": {
    "colab_type": "text",
    "id": "u6sK0VzIEEWG",
    "slideshow": {
     "slide_type": "fragment"
    }
   },
   "source": [
    "- Use correct documentation version"
   ]
  },
  {
   "cell_type": "code",
   "execution_count": 2,
   "metadata": {
    "colab": {},
    "colab_type": "code",
    "id": "qXVcvhWBEEWH",
    "outputId": "b73104bb-1ded-435d-ec22-c448fee24fbc",
    "slideshow": {
     "slide_type": "fragment"
    }
   },
   "outputs": [
    {
     "data": {
      "text/plain": [
       "'0.24.2'"
      ]
     },
     "execution_count": 2,
     "metadata": {},
     "output_type": "execute_result"
    }
   ],
   "source": [
    "import pandas as pd\n",
    "\n",
    "pd.__version__"
   ]
  },
  {
   "cell_type": "markdown",
   "metadata": {
    "colab_type": "text",
    "id": "fnEnoBqWEEWM",
    "slideshow": {
     "slide_type": "slide"
    }
   },
   "source": [
    "## Practice with NBA data"
   ]
  },
  {
   "cell_type": "code",
   "execution_count": 3,
   "metadata": {
    "colab": {},
    "colab_type": "code",
    "id": "kvFFEzSeEEWN",
    "slideshow": {
     "slide_type": "fragment"
    }
   },
   "outputs": [],
   "source": [
    "def get_nba_data(endpt, params, return_url=False):\n",
    "\n",
    "    ## endpt: https://github.com/seemethere/nba_py/wiki/stats.nba.com-Endpoint-Documentation\n",
    "    ## params: dictionary of parameters: i.e., {'LeagueID':'00'}\n",
    "    \n",
    "    from pandas import DataFrame\n",
    "    from urllib.parse import urlencode\n",
    "    import json\n",
    "    \n",
    "    useragent = \"\\\"Mozilla/5.0 (Macintosh; Intel Mac OS X 10_11_2) AppleWebKit/601.3.9 (KHTML, like Gecko) Version/9.0.2 Safari/601.3.9\\\"\"\n",
    "    dataurl = \"\\\"\" + \"http://stats.nba.com/stats/\" + endpt + \"?\" + urlencode(params) + \"\\\"\"\n",
    "    \n",
    "    # for debugging: just return the url\n",
    "    if return_url:\n",
    "        return(dataurl)\n",
    "    \n",
    "    jsonstr = !wget -q -O - --user-agent={useragent} {dataurl}\n",
    "    \n",
    "    data = json.loads(jsonstr[0])\n",
    "    \n",
    "    h = data['resultSets'][0]['headers']\n",
    "    d = data['resultSets'][0]['rowSet']\n",
    "    \n",
    "    return(DataFrame(d, columns=h))"
   ]
  },
  {
   "cell_type": "code",
   "execution_count": 4,
   "metadata": {
    "colab": {},
    "colab_type": "code",
    "id": "eW5zoqAqEEWQ",
    "slideshow": {
     "slide_type": "slide"
    }
   },
   "outputs": [],
   "source": [
    "## get all teams\n",
    "params = {'LeagueID':'00'}\n",
    "# teams = get_nba_data('commonTeamYears', params)  # if NBA does not cooperate\n",
    "teams = pd.read_pickle('data/commonTeamYears.pkl').dropna()\n",
    "\n",
    "## get all players\n",
    "params = {'LeagueID':'00', 'Season': '2017-18', 'IsOnlyCurrentSeason': '0'}\n",
    "# players = get_nba_data('commonallplayers', params) # if NBA does not cooperate\n",
    "players = pd.read_pickle('data/commonallplayers.pkl').dropna()"
   ]
  },
  {
   "cell_type": "markdown",
   "metadata": {
    "colab_type": "text",
    "id": "9BtdIBG6EEWT",
    "slideshow": {
     "slide_type": "slide"
    }
   },
   "source": [
    "## Pandas Series \n",
    "\n",
    "The section on `Series` is here: http://pandas.pydata.org/pandas-docs/stable/api.html#series. These are available by placing a dot after the object.\n",
    "\n",
    "### Data frames are made of Series\n",
    "Pandas data frames are different objects:"
   ]
  },
  {
   "cell_type": "code",
   "execution_count": 5,
   "metadata": {
    "colab": {},
    "colab_type": "code",
    "id": "NTnk3-wREEWU",
    "outputId": "78deb040-58e2-42a8-c40a-8e2f42eaec72",
    "slideshow": {
     "slide_type": "fragment"
    }
   },
   "outputs": [
    {
     "name": "stdout",
     "output_type": "stream",
     "text": [
      "data frame object   : <class 'pandas.core.frame.DataFrame'>\n",
      "data multirow object: <class 'pandas.core.frame.DataFrame'>\n",
      "data row object     : <class 'pandas.core.series.Series'>\n",
      "data column object  : <class 'pandas.core.series.Series'>\n"
     ]
    }
   ],
   "source": [
    "print(\"data frame object   :\", type(teams))\n",
    "print(\"data multirow object:\", type(teams.iloc[0:3]))\n",
    "print(\"data row object     :\", type(teams.iloc[0]))\n",
    "print(\"data column object  :\", type(teams.ABBREVIATION))"
   ]
  },
  {
   "cell_type": "markdown",
   "metadata": {
    "colab_type": "text",
    "id": "rwKK4nBhEEWY",
    "slideshow": {
     "slide_type": "slide"
    }
   },
   "source": [
    "- Rows/columns of pandas data frame are `Series` objects"
   ]
  },
  {
   "cell_type": "markdown",
   "metadata": {
    "colab_type": "text",
    "id": "R7obZnfEEEWa",
    "slideshow": {
     "slide_type": "fragment"
    }
   },
   "source": [
    "- In R, rows would be a smaller data frame"
   ]
  },
  {
   "cell_type": "markdown",
   "metadata": {
    "colab_type": "text",
    "id": "Eh2TuLw1EEWb",
    "slideshow": {
     "slide_type": "fragment"
    }
   },
   "source": [
    "- Methods for `Series` and `DataFrame` are different"
   ]
  },
  {
   "cell_type": "markdown",
   "metadata": {
    "colab_type": "text",
    "id": "wJSih2SyEEWc",
    "slideshow": {
     "slide_type": "fragment"
    }
   },
   "source": [
    "- There are categories of functions that are applicable to certain object types:"
   ]
  },
  {
   "cell_type": "markdown",
   "metadata": {
    "colab_type": "text",
    "id": "gpZbStfdEEWd",
    "slideshow": {
     "slide_type": "fragment"
    }
   },
   "source": [
    "- Pandas general functions: http://pandas.pydata.org/pandas-docs/stable/api.html#general-functions   \n",
    "    e.g., [`pandas.melt()`](http://pandas.pydata.org/pandas-docs/stable/generated/pandas.melt.html#pandas-melt) take `DataFrame` as input. "
   ]
  },
  {
   "cell_type": "markdown",
   "metadata": {
    "colab_type": "text",
    "id": "bhJizMFYEEWe",
    "slideshow": {
     "slide_type": "fragment"
    }
   },
   "source": [
    "- Series methods: http://pandas.pydata.org/pandas-docs/stable/api.html#series"
   ]
  },
  {
   "cell_type": "markdown",
   "metadata": {
    "colab_type": "text",
    "id": "FE48oQzHEEWg",
    "slideshow": {
     "slide_type": "fragment"
    }
   },
   "source": [
    "- DataFrame methods: http://pandas.pydata.org/pandas-docs/stable/api.html#dataframe"
   ]
  },
  {
   "cell_type": "markdown",
   "metadata": {
    "colab_type": "text",
    "id": "QJ1rPmCLEEWh",
    "slideshow": {
     "slide_type": "slide"
    }
   },
   "source": [
    "### `Series` \n",
    "\n",
    "- [http://pandas.pydata.org/pandas-docs/stable/api.html#series](http://pandas.pydata.org/pandas-docs/stable/api.html#series)"
   ]
  },
  {
   "cell_type": "code",
   "execution_count": 6,
   "metadata": {
    "colab": {},
    "colab_type": "code",
    "id": "NvkbAuErEEWi",
    "outputId": "25b59120-bd67-4835-9c00-3f2c4b1e3905",
    "slideshow": {
     "slide_type": "fragment"
    }
   },
   "outputs": [
    {
     "data": {
      "text/plain": [
       "0    1\n",
       "1    2\n",
       "2    3\n",
       "dtype: int64"
      ]
     },
     "execution_count": 6,
     "metadata": {},
     "output_type": "execute_result"
    }
   ],
   "source": [
    "pd.Series([1, 2, 3])"
   ]
  },
  {
   "cell_type": "code",
   "execution_count": 7,
   "metadata": {
    "colab": {},
    "colab_type": "code",
    "id": "S7D7bUdgEEWm",
    "outputId": "228393f1-faf5-41c3-80d1-c478cb1c0bb3",
    "slideshow": {
     "slide_type": "fragment"
    }
   },
   "outputs": [
    {
     "data": {
      "text/plain": [
       "a    1\n",
       "b    2\n",
       "c    3\n",
       "dtype: int64"
      ]
     },
     "execution_count": 7,
     "metadata": {},
     "output_type": "execute_result"
    }
   ],
   "source": [
    "pd.Series([1, 2, 3], index=['a', 'b', 'c'])"
   ]
  },
  {
   "cell_type": "code",
   "execution_count": 8,
   "metadata": {
    "colab": {},
    "colab_type": "code",
    "id": "NgR2v3U3EEWs",
    "outputId": "ada07817-5ec8-40f2-b815-1e770213b0e8",
    "slideshow": {
     "slide_type": "slide"
    }
   },
   "outputs": [
    {
     "data": {
      "text/html": [
       "<div>\n",
       "<style scoped>\n",
       "    .dataframe tbody tr th:only-of-type {\n",
       "        vertical-align: middle;\n",
       "    }\n",
       "\n",
       "    .dataframe tbody tr th {\n",
       "        vertical-align: top;\n",
       "    }\n",
       "\n",
       "    .dataframe thead th {\n",
       "        text-align: right;\n",
       "    }\n",
       "</style>\n",
       "<table border=\"1\" class=\"dataframe\">\n",
       "  <thead>\n",
       "    <tr style=\"text-align: right;\">\n",
       "      <th></th>\n",
       "      <th>LEAGUE_ID</th>\n",
       "      <th>TEAM_ID</th>\n",
       "      <th>MIN_YEAR</th>\n",
       "      <th>MAX_YEAR</th>\n",
       "      <th>ABBREVIATION</th>\n",
       "    </tr>\n",
       "  </thead>\n",
       "  <tbody>\n",
       "    <tr>\n",
       "      <th>0</th>\n",
       "      <td>00</td>\n",
       "      <td>1610612737</td>\n",
       "      <td>1949</td>\n",
       "      <td>2018</td>\n",
       "      <td>ATL</td>\n",
       "    </tr>\n",
       "    <tr>\n",
       "      <th>1</th>\n",
       "      <td>00</td>\n",
       "      <td>1610612738</td>\n",
       "      <td>1946</td>\n",
       "      <td>2018</td>\n",
       "      <td>BOS</td>\n",
       "    </tr>\n",
       "    <tr>\n",
       "      <th>2</th>\n",
       "      <td>00</td>\n",
       "      <td>1610612739</td>\n",
       "      <td>1970</td>\n",
       "      <td>2018</td>\n",
       "      <td>CLE</td>\n",
       "    </tr>\n",
       "    <tr>\n",
       "      <th>3</th>\n",
       "      <td>00</td>\n",
       "      <td>1610612740</td>\n",
       "      <td>2002</td>\n",
       "      <td>2018</td>\n",
       "      <td>NOP</td>\n",
       "    </tr>\n",
       "    <tr>\n",
       "      <th>4</th>\n",
       "      <td>00</td>\n",
       "      <td>1610612741</td>\n",
       "      <td>1966</td>\n",
       "      <td>2018</td>\n",
       "      <td>CHI</td>\n",
       "    </tr>\n",
       "  </tbody>\n",
       "</table>\n",
       "</div>"
      ],
      "text/plain": [
       "  LEAGUE_ID     TEAM_ID MIN_YEAR MAX_YEAR ABBREVIATION\n",
       "0        00  1610612737     1949     2018          ATL\n",
       "1        00  1610612738     1946     2018          BOS\n",
       "2        00  1610612739     1970     2018          CLE\n",
       "3        00  1610612740     2002     2018          NOP\n",
       "4        00  1610612741     1966     2018          CHI"
      ]
     },
     "execution_count": 8,
     "metadata": {},
     "output_type": "execute_result"
    }
   ],
   "source": [
    "teams.head()"
   ]
  },
  {
   "cell_type": "code",
   "execution_count": 9,
   "metadata": {
    "colab": {},
    "colab_type": "code",
    "id": "Wx-Xl8nyEEWx",
    "slideshow": {
     "slide_type": "fragment"
    }
   },
   "outputs": [],
   "source": [
    "abbr = teams.ABBREVIATION.copy()"
   ]
  },
  {
   "cell_type": "markdown",
   "metadata": {
    "colab_type": "text",
    "id": "NaJWmVckEEW5",
    "slideshow": {
     "slide_type": "slide"
    }
   },
   "source": [
    "#### `Series` to `list`\n",
    "\n",
    "- `Series` can be converted to `list`"
   ]
  },
  {
   "cell_type": "code",
   "execution_count": 10,
   "metadata": {
    "colab": {},
    "colab_type": "code",
    "id": "lxHneNodEEW8",
    "outputId": "68aaa49f-2b65-4bab-c3d8-a418cd83d1de",
    "slideshow": {
     "slide_type": "fragment"
    }
   },
   "outputs": [
    {
     "data": {
      "text/plain": [
       "['ATL', 'BOS', 'CLE', 'NOP', 'CHI']"
      ]
     },
     "execution_count": 10,
     "metadata": {},
     "output_type": "execute_result"
    }
   ],
   "source": [
    "abbr.head().to_list()"
   ]
  },
  {
   "cell_type": "markdown",
   "metadata": {
    "colab_type": "text",
    "id": "A5lHY-B9EEXA",
    "slideshow": {
     "slide_type": "fragment"
    }
   },
   "source": [
    "- `list` can be converted to `Series`"
   ]
  },
  {
   "cell_type": "code",
   "execution_count": 11,
   "metadata": {
    "colab": {},
    "colab_type": "code",
    "id": "HAXtD316EEXH",
    "outputId": "d8c1a0c4-0079-47b7-8a9b-2bd975cf85e1",
    "slideshow": {
     "slide_type": "fragment"
    }
   },
   "outputs": [
    {
     "data": {
      "text/plain": [
       "0    ATL\n",
       "1    BOS\n",
       "2    CLE\n",
       "3    NOP\n",
       "4    CHI\n",
       "dtype: object"
      ]
     },
     "execution_count": 11,
     "metadata": {},
     "output_type": "execute_result"
    }
   ],
   "source": [
    "tmp = abbr.head().to_list()\n",
    "pd.Series(tmp)"
   ]
  },
  {
   "cell_type": "markdown",
   "metadata": {
    "colab_type": "text",
    "id": "KoMP-YagEEXL",
    "slideshow": {
     "slide_type": "slide"
    }
   },
   "source": [
    "#### `Series` to `dict`\n",
    "\n",
    "- `Series` can be converted to `dict`"
   ]
  },
  {
   "cell_type": "code",
   "execution_count": 12,
   "metadata": {
    "colab": {},
    "colab_type": "code",
    "id": "CvcRYgaMEEXM",
    "outputId": "30d48e80-73ae-4353-acdd-e9e91024a67c",
    "slideshow": {
     "slide_type": "fragment"
    }
   },
   "outputs": [
    {
     "data": {
      "text/plain": [
       "{0: 'ATL', 1: 'BOS', 2: 'CLE', 3: 'NOP', 4: 'CHI'}"
      ]
     },
     "execution_count": 12,
     "metadata": {},
     "output_type": "execute_result"
    }
   ],
   "source": [
    "abbr.head().to_dict()"
   ]
  },
  {
   "cell_type": "markdown",
   "metadata": {
    "colab_type": "text",
    "id": "6Xzk0m5LEEXP",
    "slideshow": {
     "slide_type": "fragment"
    }
   },
   "source": [
    "- `dict` can be convered to `Series`"
   ]
  },
  {
   "cell_type": "code",
   "execution_count": 13,
   "metadata": {
    "colab": {},
    "colab_type": "code",
    "id": "NweJH6eLEEXQ",
    "outputId": "6e766fee-2a8d-41a0-9d06-88bc3e5ab0c8",
    "slideshow": {
     "slide_type": "fragment"
    }
   },
   "outputs": [
    {
     "data": {
      "text/plain": [
       "0    ATL\n",
       "1    BOS\n",
       "2    CLE\n",
       "3    NOP\n",
       "4    CHI\n",
       "dtype: object"
      ]
     },
     "execution_count": 13,
     "metadata": {},
     "output_type": "execute_result"
    }
   ],
   "source": [
    "tmp = abbr.head().to_dict()\n",
    "pd.Series(tmp)"
   ]
  },
  {
   "cell_type": "markdown",
   "metadata": {
    "colab_type": "text",
    "id": "uA7D2myUEEXU",
    "slideshow": {
     "slide_type": "slide"
    }
   },
   "source": [
    "#### Other `Series` methods\n",
    "\n",
    "- More `Series` methods: [Chapter 3 in PDSH](https://jakevdp.github.io/PythonDataScienceHandbook/03.00-introduction-to-pandas.html). "
   ]
  },
  {
   "cell_type": "markdown",
   "metadata": {
    "colab_type": "text",
    "id": "yOeDUGHrEEXV",
    "slideshow": {
     "slide_type": "fragment"
    }
   },
   "source": [
    "- `Series` documentation is here: http://pandas.pydata.org/pandas-docs/stable/api.html#series"
   ]
  },
  {
   "cell_type": "markdown",
   "metadata": {
    "colab_type": "text",
    "id": "oi20mvddEEXV",
    "slideshow": {
     "slide_type": "fragment"
    }
   },
   "source": [
    "- Reading documentation is a critical skill (hint for the midterm)"
   ]
  },
  {
   "cell_type": "code",
   "execution_count": 14,
   "metadata": {
    "colab": {},
    "colab_type": "code",
    "id": "N3F9g8PoEEXW",
    "outputId": "d6440d18-1e0b-4d06-deb4-d83920f83c9e",
    "slideshow": {
     "slide_type": "fragment"
    }
   },
   "outputs": [
    {
     "data": {
      "text/plain": [
       "array(['ATL', 'BOS', 'CLE', 'NOP', 'CHI', 'DAL', 'DEN', 'GSW', 'HOU',\n",
       "       'LAC', 'LAL', 'MIA', 'MIN', 'BKN', 'NYK', 'ORL', 'IND', 'PHI',\n",
       "       'PHX', 'POR', 'SAC', 'SAS', 'OKC', 'MIL', 'UTA', 'MEM', 'WAS',\n",
       "       'DET', 'CHA', 'TOR'], dtype=object)"
      ]
     },
     "execution_count": 14,
     "metadata": {},
     "output_type": "execute_result"
    }
   ],
   "source": [
    "abbr.unique()"
   ]
  },
  {
   "cell_type": "markdown",
   "metadata": {
    "colab_type": "text",
    "id": "iGXHw_d0EEXZ",
    "slideshow": {
     "slide_type": "slide"
    }
   },
   "source": [
    "- Example: [`str`](http://pandas.pydata.org/pandas-docs/stable/api.html#string-handling) allow functions to be applied to each value as strings\n",
    "- Search for patterns: search for team names that end with `S`: "
   ]
  },
  {
   "cell_type": "code",
   "execution_count": 15,
   "metadata": {
    "colab": {},
    "colab_type": "code",
    "id": "7rufAzIWEEXa",
    "outputId": "38bc315e-125f-4988-aa9a-a95f8d8fb82c",
    "slideshow": {
     "slide_type": "fragment"
    }
   },
   "outputs": [
    {
     "data": {
      "text/plain": [
       "0    False\n",
       "1     True\n",
       "2    False\n",
       "3    False\n",
       "4    False\n",
       "Name: ABBREVIATION, dtype: bool"
      ]
     },
     "execution_count": 15,
     "metadata": {},
     "output_type": "execute_result"
    }
   ],
   "source": [
    "abbr.head().str.contains('S$') # $ marks end of string"
   ]
  },
  {
   "cell_type": "markdown",
   "metadata": {
    "colab_type": "text",
    "id": "HloFG_8IEEXf",
    "slideshow": {
     "slide_type": "fragment"
    }
   },
   "source": [
    "__Exercise__: how would you use this to pick out team names that end with S? Can you use the resulting boolean `Series`?"
   ]
  },
  {
   "cell_type": "code",
   "execution_count": 16,
   "metadata": {
    "colab": {},
    "colab_type": "code",
    "id": "QATzjn3AEEXg",
    "slideshow": {
     "slide_type": "fragment"
    }
   },
   "outputs": [],
   "source": [
    "# indx = ...\n",
    "# abbr..."
   ]
  },
  {
   "cell_type": "markdown",
   "metadata": {
    "colab_type": "text",
    "id": "ivKMsEOsEEXi",
    "slideshow": {
     "slide_type": "slide"
    }
   },
   "source": [
    "__Exercise__: what is `dir()` function?"
   ]
  },
  {
   "cell_type": "code",
   "execution_count": 17,
   "metadata": {
    "colab": {},
    "colab_type": "code",
    "id": "QkK4RivnEEXj",
    "slideshow": {
     "slide_type": "fragment"
    }
   },
   "outputs": [],
   "source": [
    "# dir(abbr)"
   ]
  },
  {
   "cell_type": "markdown",
   "metadata": {
    "colab_type": "text",
    "id": "MZlPBIdvEEXo",
    "slideshow": {
     "slide_type": "slide"
    }
   },
   "source": [
    "## Data Frames\n"
   ]
  },
  {
   "cell_type": "markdown",
   "metadata": {
    "colab_type": "text",
    "id": "4een1IXvEEXp",
    "slideshow": {
     "slide_type": "fragment"
    }
   },
   "source": [
    "- Following ways to call columns are equivalent "
   ]
  },
  {
   "cell_type": "code",
   "execution_count": 18,
   "metadata": {
    "colab": {},
    "colab_type": "code",
    "id": "7SSnegZfEEXr",
    "outputId": "7adbf049-01e9-4c91-cbcf-0e646a7df09b",
    "slideshow": {
     "slide_type": "fragment"
    }
   },
   "outputs": [
    {
     "name": "stdout",
     "output_type": "stream",
     "text": [
      "0    1949\n",
      "1    1946\n",
      "2    1970\n",
      "3    2002\n",
      "4    1966\n",
      "Name: MIN_YEAR, dtype: object\n",
      "0    1949\n",
      "1    1946\n",
      "2    1970\n",
      "3    2002\n",
      "4    1966\n",
      "Name: MIN_YEAR, dtype: object\n"
     ]
    }
   ],
   "source": [
    "temp = teams.copy()\n",
    "\n",
    "print(temp['MIN_YEAR'].head()) # can call columns whose name is in string variable\n",
    "print(temp.MIN_YEAR.head())    # easier to read"
   ]
  },
  {
   "cell_type": "code",
   "execution_count": 19,
   "metadata": {
    "colab": {},
    "colab_type": "code",
    "id": "PkMmL3j5EEXu",
    "outputId": "d803e143-ecda-44f0-9750-a0d12cd6ae4e",
    "slideshow": {
     "slide_type": "fragment"
    }
   },
   "outputs": [
    {
     "data": {
      "text/plain": [
       "True"
      ]
     },
     "execution_count": 19,
     "metadata": {},
     "output_type": "execute_result"
    }
   ],
   "source": [
    "all(temp['MIN_YEAR'] == temp.MIN_YEAR) # checking all elements are equal"
   ]
  },
  {
   "cell_type": "markdown",
   "metadata": {
    "colab_type": "text",
    "id": "Xz1kg6QxEEXx",
    "slideshow": {
     "slide_type": "slide"
    }
   },
   "source": [
    "### Creating columns\n",
    "\n",
    "- Dot notation cannot be used to create new column"
   ]
  },
  {
   "cell_type": "code",
   "execution_count": 20,
   "metadata": {
    "colab": {},
    "colab_type": "code",
    "id": "tq6X5z6bEEXy",
    "outputId": "232624a9-29c9-4da4-c984-6848f5c604c5",
    "slideshow": {
     "slide_type": "fragment"
    }
   },
   "outputs": [
    {
     "name": "stderr",
     "output_type": "stream",
     "text": [
      "/opt/conda/lib/python3.7/site-packages/ipykernel_launcher.py:2: UserWarning: Pandas doesn't allow columns to be created via a new attribute name - see https://pandas.pydata.org/pandas-docs/stable/indexing.html#attribute-access\n",
      "  \n"
     ]
    },
    {
     "data": {
      "text/html": [
       "<div>\n",
       "<style scoped>\n",
       "    .dataframe tbody tr th:only-of-type {\n",
       "        vertical-align: middle;\n",
       "    }\n",
       "\n",
       "    .dataframe tbody tr th {\n",
       "        vertical-align: top;\n",
       "    }\n",
       "\n",
       "    .dataframe thead th {\n",
       "        text-align: right;\n",
       "    }\n",
       "</style>\n",
       "<table border=\"1\" class=\"dataframe\">\n",
       "  <thead>\n",
       "    <tr style=\"text-align: right;\">\n",
       "      <th></th>\n",
       "      <th>LEAGUE_ID</th>\n",
       "      <th>TEAM_ID</th>\n",
       "      <th>MIN_YEAR</th>\n",
       "      <th>MAX_YEAR</th>\n",
       "      <th>ABBREVIATION</th>\n",
       "      <th>new_column_1</th>\n",
       "    </tr>\n",
       "  </thead>\n",
       "  <tbody>\n",
       "    <tr>\n",
       "      <th>0</th>\n",
       "      <td>00</td>\n",
       "      <td>1610612737</td>\n",
       "      <td>1949</td>\n",
       "      <td>2018</td>\n",
       "      <td>ATL</td>\n",
       "      <td>2018</td>\n",
       "    </tr>\n",
       "    <tr>\n",
       "      <th>1</th>\n",
       "      <td>00</td>\n",
       "      <td>1610612738</td>\n",
       "      <td>1946</td>\n",
       "      <td>2018</td>\n",
       "      <td>BOS</td>\n",
       "      <td>2018</td>\n",
       "    </tr>\n",
       "    <tr>\n",
       "      <th>2</th>\n",
       "      <td>00</td>\n",
       "      <td>1610612739</td>\n",
       "      <td>1970</td>\n",
       "      <td>2018</td>\n",
       "      <td>CLE</td>\n",
       "      <td>2018</td>\n",
       "    </tr>\n",
       "    <tr>\n",
       "      <th>3</th>\n",
       "      <td>00</td>\n",
       "      <td>1610612740</td>\n",
       "      <td>2002</td>\n",
       "      <td>2018</td>\n",
       "      <td>NOP</td>\n",
       "      <td>2018</td>\n",
       "    </tr>\n",
       "    <tr>\n",
       "      <th>4</th>\n",
       "      <td>00</td>\n",
       "      <td>1610612741</td>\n",
       "      <td>1966</td>\n",
       "      <td>2018</td>\n",
       "      <td>CHI</td>\n",
       "      <td>2018</td>\n",
       "    </tr>\n",
       "  </tbody>\n",
       "</table>\n",
       "</div>"
      ],
      "text/plain": [
       "  LEAGUE_ID     TEAM_ID MIN_YEAR MAX_YEAR ABBREVIATION new_column_1\n",
       "0        00  1610612737     1949     2018          ATL         2018\n",
       "1        00  1610612738     1946     2018          BOS         2018\n",
       "2        00  1610612739     1970     2018          CLE         2018\n",
       "3        00  1610612740     2002     2018          NOP         2018\n",
       "4        00  1610612741     1966     2018          CHI         2018"
      ]
     },
     "execution_count": 20,
     "metadata": {},
     "output_type": "execute_result"
    }
   ],
   "source": [
    "temp['new_column_1'] = temp.MAX_YEAR\n",
    "temp.new_column_2 = temp.MAX_YEAR    # does not work\n",
    "temp.head()"
   ]
  },
  {
   "cell_type": "markdown",
   "metadata": {
    "colab_type": "text",
    "id": "x9TgJiQwEEX1",
    "slideshow": {
     "slide_type": "fragment"
    }
   },
   "source": [
    "- Existing column can be set with dot notation"
   ]
  },
  {
   "cell_type": "code",
   "execution_count": 21,
   "metadata": {
    "colab": {},
    "colab_type": "code",
    "id": "PNXI6VceEEX1",
    "outputId": "f29004e6-a74d-4610-d169-77e0dad3b38b",
    "slideshow": {
     "slide_type": "fragment"
    }
   },
   "outputs": [
    {
     "data": {
      "text/html": [
       "<div>\n",
       "<style scoped>\n",
       "    .dataframe tbody tr th:only-of-type {\n",
       "        vertical-align: middle;\n",
       "    }\n",
       "\n",
       "    .dataframe tbody tr th {\n",
       "        vertical-align: top;\n",
       "    }\n",
       "\n",
       "    .dataframe thead th {\n",
       "        text-align: right;\n",
       "    }\n",
       "</style>\n",
       "<table border=\"1\" class=\"dataframe\">\n",
       "  <thead>\n",
       "    <tr style=\"text-align: right;\">\n",
       "      <th></th>\n",
       "      <th>LEAGUE_ID</th>\n",
       "      <th>TEAM_ID</th>\n",
       "      <th>MIN_YEAR</th>\n",
       "      <th>MAX_YEAR</th>\n",
       "      <th>ABBREVIATION</th>\n",
       "      <th>new_column_1</th>\n",
       "    </tr>\n",
       "  </thead>\n",
       "  <tbody>\n",
       "    <tr>\n",
       "      <th>0</th>\n",
       "      <td>ZZ</td>\n",
       "      <td>1610612737</td>\n",
       "      <td>1949</td>\n",
       "      <td>2018</td>\n",
       "      <td>ATL</td>\n",
       "      <td>2018</td>\n",
       "    </tr>\n",
       "    <tr>\n",
       "      <th>1</th>\n",
       "      <td>ZZ</td>\n",
       "      <td>1610612738</td>\n",
       "      <td>1946</td>\n",
       "      <td>2018</td>\n",
       "      <td>BOS</td>\n",
       "      <td>2018</td>\n",
       "    </tr>\n",
       "    <tr>\n",
       "      <th>2</th>\n",
       "      <td>ZZ</td>\n",
       "      <td>1610612739</td>\n",
       "      <td>1970</td>\n",
       "      <td>2018</td>\n",
       "      <td>CLE</td>\n",
       "      <td>2018</td>\n",
       "    </tr>\n",
       "    <tr>\n",
       "      <th>3</th>\n",
       "      <td>ZZ</td>\n",
       "      <td>1610612740</td>\n",
       "      <td>2002</td>\n",
       "      <td>2018</td>\n",
       "      <td>NOP</td>\n",
       "      <td>2018</td>\n",
       "    </tr>\n",
       "    <tr>\n",
       "      <th>4</th>\n",
       "      <td>ZZ</td>\n",
       "      <td>1610612741</td>\n",
       "      <td>1966</td>\n",
       "      <td>2018</td>\n",
       "      <td>CHI</td>\n",
       "      <td>2018</td>\n",
       "    </tr>\n",
       "  </tbody>\n",
       "</table>\n",
       "</div>"
      ],
      "text/plain": [
       "  LEAGUE_ID     TEAM_ID MIN_YEAR MAX_YEAR ABBREVIATION new_column_1\n",
       "0        ZZ  1610612737     1949     2018          ATL         2018\n",
       "1        ZZ  1610612738     1946     2018          BOS         2018\n",
       "2        ZZ  1610612739     1970     2018          CLE         2018\n",
       "3        ZZ  1610612740     2002     2018          NOP         2018\n",
       "4        ZZ  1610612741     1966     2018          CHI         2018"
      ]
     },
     "execution_count": 21,
     "metadata": {},
     "output_type": "execute_result"
    }
   ],
   "source": [
    "temp.LEAGUE_ID = 'ZZ'\n",
    "temp.head()"
   ]
  },
  {
   "cell_type": "markdown",
   "metadata": {
    "colab_type": "text",
    "id": "7a9_h-GqEEX5",
    "slideshow": {
     "slide_type": "slide"
    }
   },
   "source": [
    "### Data Frame, Series, dtype\n",
    "\n",
    "This is different than R data frame in that columns in R data frames have their data types: e.g., `factor`, `integer`, `numeric`, etc. Pandas data frame columns are *all* `Series` with different dtypes. With column types not specified, everything is of dtype `object`:"
   ]
  },
  {
   "cell_type": "code",
   "execution_count": 22,
   "metadata": {
    "colab": {},
    "colab_type": "code",
    "id": "oz1x17jsEEX6",
    "outputId": "e00b6710-0dd3-4692-bd3c-44b00ae85410",
    "slideshow": {
     "slide_type": "fragment"
    }
   },
   "outputs": [
    {
     "name": "stdout",
     "output_type": "stream",
     "text": [
      "object\n"
     ]
    }
   ],
   "source": [
    "print(teams.ABBREVIATION.dtype)"
   ]
  },
  {
   "cell_type": "code",
   "execution_count": 23,
   "metadata": {
    "colab": {},
    "colab_type": "code",
    "id": "INpcpcj0EEX9",
    "outputId": "07e4c2bb-6c8f-4855-adea-60cda6199f97",
    "slideshow": {
     "slide_type": "fragment"
    }
   },
   "outputs": [
    {
     "data": {
      "text/plain": [
       "0    ATL\n",
       "1    BOS\n",
       "2    CLE\n",
       "3    NOP\n",
       "4    CHI\n",
       "Name: ABBREVIATION, dtype: category\n",
       "Categories (30, object): [ATL, BKN, BOS, CHA, ..., SAS, TOR, UTA, WAS]"
      ]
     },
     "execution_count": 23,
     "metadata": {},
     "output_type": "execute_result"
    }
   ],
   "source": [
    "teams.ABBREVIATION = teams.ABBREVIATION.astype('category')\n",
    "teams.TEAM_ID      = teams.TEAM_ID.astype('category')\n",
    "teams.MIN_YEAR     = teams.MIN_YEAR.astype('int')\n",
    "teams.MAX_YEAR     = teams.MAX_YEAR.astype('int')\n",
    "teams.head().ABBREVIATION"
   ]
  },
  {
   "cell_type": "markdown",
   "metadata": {
    "colab_type": "text",
    "id": "aSJfOtMBEEYA",
    "slideshow": {
     "slide_type": "slide"
    }
   },
   "source": [
    "Note that `object` is a general term"
   ]
  },
  {
   "cell_type": "code",
   "execution_count": 24,
   "metadata": {
    "colab": {},
    "colab_type": "code",
    "id": "GnezM3T6EEYB",
    "outputId": "c43777c3-52e0-4d8a-f00c-bd7c51a8285c",
    "slideshow": {
     "slide_type": "fragment"
    }
   },
   "outputs": [
    {
     "name": "stdout",
     "output_type": "stream",
     "text": [
      "type: <class 'pandas.core.series.Series'>\n",
      "object: LEAGUE_ID               00\n",
      "TEAM_ID         1610612737\n",
      "MIN_YEAR              1949\n",
      "MAX_YEAR              2018\n",
      "ABBREVIATION           ATL\n",
      "Name: 0, dtype: object\n"
     ]
    }
   ],
   "source": [
    "print(\"type:\", type(teams.iloc[0]))\n",
    "print(\"object:\", teams.iloc[0])"
   ]
  },
  {
   "cell_type": "markdown",
   "metadata": {
    "colab_type": "text",
    "id": "CX5YqvYKEEYE",
    "slideshow": {
     "slide_type": "slide"
    }
   },
   "source": [
    "### Condition based slicing\n",
    "\n",
    "Subset just the current teams"
   ]
  },
  {
   "cell_type": "code",
   "execution_count": 25,
   "metadata": {
    "colab": {},
    "colab_type": "code",
    "id": "YG83MWTYEEYF",
    "outputId": "d5dd12dd-6b2e-474d-eba2-d81b35cdc621",
    "slideshow": {
     "slide_type": "fragment"
    }
   },
   "outputs": [
    {
     "data": {
      "text/html": [
       "<div>\n",
       "<style scoped>\n",
       "    .dataframe tbody tr th:only-of-type {\n",
       "        vertical-align: middle;\n",
       "    }\n",
       "\n",
       "    .dataframe tbody tr th {\n",
       "        vertical-align: top;\n",
       "    }\n",
       "\n",
       "    .dataframe thead th {\n",
       "        text-align: right;\n",
       "    }\n",
       "</style>\n",
       "<table border=\"1\" class=\"dataframe\">\n",
       "  <thead>\n",
       "    <tr style=\"text-align: right;\">\n",
       "      <th></th>\n",
       "      <th>LEAGUE_ID</th>\n",
       "      <th>TEAM_ID</th>\n",
       "      <th>MIN_YEAR</th>\n",
       "      <th>MAX_YEAR</th>\n",
       "      <th>ABBREVIATION</th>\n",
       "    </tr>\n",
       "  </thead>\n",
       "  <tbody>\n",
       "    <tr>\n",
       "      <th>0</th>\n",
       "      <td>00</td>\n",
       "      <td>1610612737</td>\n",
       "      <td>1949</td>\n",
       "      <td>2018</td>\n",
       "      <td>ATL</td>\n",
       "    </tr>\n",
       "    <tr>\n",
       "      <th>1</th>\n",
       "      <td>00</td>\n",
       "      <td>1610612738</td>\n",
       "      <td>1946</td>\n",
       "      <td>2018</td>\n",
       "      <td>BOS</td>\n",
       "    </tr>\n",
       "    <tr>\n",
       "      <th>2</th>\n",
       "      <td>00</td>\n",
       "      <td>1610612739</td>\n",
       "      <td>1970</td>\n",
       "      <td>2018</td>\n",
       "      <td>CLE</td>\n",
       "    </tr>\n",
       "    <tr>\n",
       "      <th>3</th>\n",
       "      <td>00</td>\n",
       "      <td>1610612740</td>\n",
       "      <td>2002</td>\n",
       "      <td>2018</td>\n",
       "      <td>NOP</td>\n",
       "    </tr>\n",
       "    <tr>\n",
       "      <th>4</th>\n",
       "      <td>00</td>\n",
       "      <td>1610612741</td>\n",
       "      <td>1966</td>\n",
       "      <td>2018</td>\n",
       "      <td>CHI</td>\n",
       "    </tr>\n",
       "    <tr>\n",
       "      <th>5</th>\n",
       "      <td>00</td>\n",
       "      <td>1610612742</td>\n",
       "      <td>1980</td>\n",
       "      <td>2018</td>\n",
       "      <td>DAL</td>\n",
       "    </tr>\n",
       "    <tr>\n",
       "      <th>6</th>\n",
       "      <td>00</td>\n",
       "      <td>1610612743</td>\n",
       "      <td>1976</td>\n",
       "      <td>2018</td>\n",
       "      <td>DEN</td>\n",
       "    </tr>\n",
       "    <tr>\n",
       "      <th>7</th>\n",
       "      <td>00</td>\n",
       "      <td>1610612744</td>\n",
       "      <td>1946</td>\n",
       "      <td>2018</td>\n",
       "      <td>GSW</td>\n",
       "    </tr>\n",
       "    <tr>\n",
       "      <th>8</th>\n",
       "      <td>00</td>\n",
       "      <td>1610612745</td>\n",
       "      <td>1967</td>\n",
       "      <td>2018</td>\n",
       "      <td>HOU</td>\n",
       "    </tr>\n",
       "    <tr>\n",
       "      <th>9</th>\n",
       "      <td>00</td>\n",
       "      <td>1610612746</td>\n",
       "      <td>1970</td>\n",
       "      <td>2018</td>\n",
       "      <td>LAC</td>\n",
       "    </tr>\n",
       "    <tr>\n",
       "      <th>10</th>\n",
       "      <td>00</td>\n",
       "      <td>1610612747</td>\n",
       "      <td>1948</td>\n",
       "      <td>2018</td>\n",
       "      <td>LAL</td>\n",
       "    </tr>\n",
       "    <tr>\n",
       "      <th>11</th>\n",
       "      <td>00</td>\n",
       "      <td>1610612748</td>\n",
       "      <td>1988</td>\n",
       "      <td>2018</td>\n",
       "      <td>MIA</td>\n",
       "    </tr>\n",
       "    <tr>\n",
       "      <th>12</th>\n",
       "      <td>00</td>\n",
       "      <td>1610612750</td>\n",
       "      <td>1989</td>\n",
       "      <td>2018</td>\n",
       "      <td>MIN</td>\n",
       "    </tr>\n",
       "    <tr>\n",
       "      <th>13</th>\n",
       "      <td>00</td>\n",
       "      <td>1610612751</td>\n",
       "      <td>1976</td>\n",
       "      <td>2018</td>\n",
       "      <td>BKN</td>\n",
       "    </tr>\n",
       "    <tr>\n",
       "      <th>14</th>\n",
       "      <td>00</td>\n",
       "      <td>1610612752</td>\n",
       "      <td>1946</td>\n",
       "      <td>2018</td>\n",
       "      <td>NYK</td>\n",
       "    </tr>\n",
       "    <tr>\n",
       "      <th>15</th>\n",
       "      <td>00</td>\n",
       "      <td>1610612753</td>\n",
       "      <td>1989</td>\n",
       "      <td>2018</td>\n",
       "      <td>ORL</td>\n",
       "    </tr>\n",
       "    <tr>\n",
       "      <th>16</th>\n",
       "      <td>00</td>\n",
       "      <td>1610612754</td>\n",
       "      <td>1976</td>\n",
       "      <td>2018</td>\n",
       "      <td>IND</td>\n",
       "    </tr>\n",
       "    <tr>\n",
       "      <th>17</th>\n",
       "      <td>00</td>\n",
       "      <td>1610612755</td>\n",
       "      <td>1949</td>\n",
       "      <td>2018</td>\n",
       "      <td>PHI</td>\n",
       "    </tr>\n",
       "    <tr>\n",
       "      <th>18</th>\n",
       "      <td>00</td>\n",
       "      <td>1610612756</td>\n",
       "      <td>1968</td>\n",
       "      <td>2018</td>\n",
       "      <td>PHX</td>\n",
       "    </tr>\n",
       "    <tr>\n",
       "      <th>19</th>\n",
       "      <td>00</td>\n",
       "      <td>1610612757</td>\n",
       "      <td>1970</td>\n",
       "      <td>2018</td>\n",
       "      <td>POR</td>\n",
       "    </tr>\n",
       "    <tr>\n",
       "      <th>20</th>\n",
       "      <td>00</td>\n",
       "      <td>1610612758</td>\n",
       "      <td>1948</td>\n",
       "      <td>2018</td>\n",
       "      <td>SAC</td>\n",
       "    </tr>\n",
       "    <tr>\n",
       "      <th>21</th>\n",
       "      <td>00</td>\n",
       "      <td>1610612759</td>\n",
       "      <td>1976</td>\n",
       "      <td>2018</td>\n",
       "      <td>SAS</td>\n",
       "    </tr>\n",
       "    <tr>\n",
       "      <th>22</th>\n",
       "      <td>00</td>\n",
       "      <td>1610612760</td>\n",
       "      <td>1967</td>\n",
       "      <td>2018</td>\n",
       "      <td>OKC</td>\n",
       "    </tr>\n",
       "    <tr>\n",
       "      <th>23</th>\n",
       "      <td>00</td>\n",
       "      <td>1610612749</td>\n",
       "      <td>1968</td>\n",
       "      <td>2018</td>\n",
       "      <td>MIL</td>\n",
       "    </tr>\n",
       "    <tr>\n",
       "      <th>24</th>\n",
       "      <td>00</td>\n",
       "      <td>1610612762</td>\n",
       "      <td>1974</td>\n",
       "      <td>2018</td>\n",
       "      <td>UTA</td>\n",
       "    </tr>\n",
       "    <tr>\n",
       "      <th>25</th>\n",
       "      <td>00</td>\n",
       "      <td>1610612763</td>\n",
       "      <td>1995</td>\n",
       "      <td>2018</td>\n",
       "      <td>MEM</td>\n",
       "    </tr>\n",
       "    <tr>\n",
       "      <th>26</th>\n",
       "      <td>00</td>\n",
       "      <td>1610612764</td>\n",
       "      <td>1961</td>\n",
       "      <td>2018</td>\n",
       "      <td>WAS</td>\n",
       "    </tr>\n",
       "    <tr>\n",
       "      <th>27</th>\n",
       "      <td>00</td>\n",
       "      <td>1610612765</td>\n",
       "      <td>1948</td>\n",
       "      <td>2018</td>\n",
       "      <td>DET</td>\n",
       "    </tr>\n",
       "    <tr>\n",
       "      <th>28</th>\n",
       "      <td>00</td>\n",
       "      <td>1610612766</td>\n",
       "      <td>1988</td>\n",
       "      <td>2018</td>\n",
       "      <td>CHA</td>\n",
       "    </tr>\n",
       "    <tr>\n",
       "      <th>29</th>\n",
       "      <td>00</td>\n",
       "      <td>1610612761</td>\n",
       "      <td>1995</td>\n",
       "      <td>2018</td>\n",
       "      <td>TOR</td>\n",
       "    </tr>\n",
       "  </tbody>\n",
       "</table>\n",
       "</div>"
      ],
      "text/plain": [
       "   LEAGUE_ID     TEAM_ID  MIN_YEAR  MAX_YEAR ABBREVIATION\n",
       "0         00  1610612737      1949      2018          ATL\n",
       "1         00  1610612738      1946      2018          BOS\n",
       "2         00  1610612739      1970      2018          CLE\n",
       "3         00  1610612740      2002      2018          NOP\n",
       "4         00  1610612741      1966      2018          CHI\n",
       "5         00  1610612742      1980      2018          DAL\n",
       "6         00  1610612743      1976      2018          DEN\n",
       "7         00  1610612744      1946      2018          GSW\n",
       "8         00  1610612745      1967      2018          HOU\n",
       "9         00  1610612746      1970      2018          LAC\n",
       "10        00  1610612747      1948      2018          LAL\n",
       "11        00  1610612748      1988      2018          MIA\n",
       "12        00  1610612750      1989      2018          MIN\n",
       "13        00  1610612751      1976      2018          BKN\n",
       "14        00  1610612752      1946      2018          NYK\n",
       "15        00  1610612753      1989      2018          ORL\n",
       "16        00  1610612754      1976      2018          IND\n",
       "17        00  1610612755      1949      2018          PHI\n",
       "18        00  1610612756      1968      2018          PHX\n",
       "19        00  1610612757      1970      2018          POR\n",
       "20        00  1610612758      1948      2018          SAC\n",
       "21        00  1610612759      1976      2018          SAS\n",
       "22        00  1610612760      1967      2018          OKC\n",
       "23        00  1610612749      1968      2018          MIL\n",
       "24        00  1610612762      1974      2018          UTA\n",
       "25        00  1610612763      1995      2018          MEM\n",
       "26        00  1610612764      1961      2018          WAS\n",
       "27        00  1610612765      1948      2018          DET\n",
       "28        00  1610612766      1988      2018          CHA\n",
       "29        00  1610612761      1995      2018          TOR"
      ]
     },
     "execution_count": 25,
     "metadata": {},
     "output_type": "execute_result"
    }
   ],
   "source": [
    "teams"
   ]
  },
  {
   "cell_type": "code",
   "execution_count": 26,
   "metadata": {
    "colab": {},
    "colab_type": "code",
    "id": "RKOoyUmkEEYJ",
    "outputId": "e78e01a8-d47c-447d-f838-c27ff66dab76",
    "slideshow": {
     "slide_type": "fragment"
    }
   },
   "outputs": [
    {
     "data": {
      "text/html": [
       "<div>\n",
       "<style scoped>\n",
       "    .dataframe tbody tr th:only-of-type {\n",
       "        vertical-align: middle;\n",
       "    }\n",
       "\n",
       "    .dataframe tbody tr th {\n",
       "        vertical-align: top;\n",
       "    }\n",
       "\n",
       "    .dataframe thead th {\n",
       "        text-align: right;\n",
       "    }\n",
       "</style>\n",
       "<table border=\"1\" class=\"dataframe\">\n",
       "  <thead>\n",
       "    <tr style=\"text-align: right;\">\n",
       "      <th></th>\n",
       "      <th>LEAGUE_ID</th>\n",
       "      <th>TEAM_ID</th>\n",
       "      <th>MIN_YEAR</th>\n",
       "      <th>MAX_YEAR</th>\n",
       "      <th>ABBREVIATION</th>\n",
       "      <th>TEAM_AGE</th>\n",
       "      <th>AGE_GROUP</th>\n",
       "    </tr>\n",
       "  </thead>\n",
       "  <tbody>\n",
       "    <tr>\n",
       "      <th>0</th>\n",
       "      <td>00</td>\n",
       "      <td>1610612737</td>\n",
       "      <td>1949</td>\n",
       "      <td>2018</td>\n",
       "      <td>ATL</td>\n",
       "      <td>69</td>\n",
       "      <td>OLD</td>\n",
       "    </tr>\n",
       "    <tr>\n",
       "      <th>1</th>\n",
       "      <td>00</td>\n",
       "      <td>1610612738</td>\n",
       "      <td>1946</td>\n",
       "      <td>2018</td>\n",
       "      <td>BOS</td>\n",
       "      <td>72</td>\n",
       "      <td>OLD</td>\n",
       "    </tr>\n",
       "    <tr>\n",
       "      <th>2</th>\n",
       "      <td>00</td>\n",
       "      <td>1610612739</td>\n",
       "      <td>1970</td>\n",
       "      <td>2018</td>\n",
       "      <td>CLE</td>\n",
       "      <td>48</td>\n",
       "      <td>YOUNG</td>\n",
       "    </tr>\n",
       "    <tr>\n",
       "      <th>3</th>\n",
       "      <td>00</td>\n",
       "      <td>1610612740</td>\n",
       "      <td>2002</td>\n",
       "      <td>2018</td>\n",
       "      <td>NOP</td>\n",
       "      <td>16</td>\n",
       "      <td>YOUNG</td>\n",
       "    </tr>\n",
       "    <tr>\n",
       "      <th>4</th>\n",
       "      <td>00</td>\n",
       "      <td>1610612741</td>\n",
       "      <td>1966</td>\n",
       "      <td>2018</td>\n",
       "      <td>CHI</td>\n",
       "      <td>52</td>\n",
       "      <td>OLD</td>\n",
       "    </tr>\n",
       "    <tr>\n",
       "      <th>5</th>\n",
       "      <td>00</td>\n",
       "      <td>1610612742</td>\n",
       "      <td>1980</td>\n",
       "      <td>2018</td>\n",
       "      <td>DAL</td>\n",
       "      <td>38</td>\n",
       "      <td>YOUNG</td>\n",
       "    </tr>\n",
       "    <tr>\n",
       "      <th>6</th>\n",
       "      <td>00</td>\n",
       "      <td>1610612743</td>\n",
       "      <td>1976</td>\n",
       "      <td>2018</td>\n",
       "      <td>DEN</td>\n",
       "      <td>42</td>\n",
       "      <td>YOUNG</td>\n",
       "    </tr>\n",
       "    <tr>\n",
       "      <th>7</th>\n",
       "      <td>00</td>\n",
       "      <td>1610612744</td>\n",
       "      <td>1946</td>\n",
       "      <td>2018</td>\n",
       "      <td>GSW</td>\n",
       "      <td>72</td>\n",
       "      <td>OLD</td>\n",
       "    </tr>\n",
       "    <tr>\n",
       "      <th>8</th>\n",
       "      <td>00</td>\n",
       "      <td>1610612745</td>\n",
       "      <td>1967</td>\n",
       "      <td>2018</td>\n",
       "      <td>HOU</td>\n",
       "      <td>51</td>\n",
       "      <td>OLD</td>\n",
       "    </tr>\n",
       "    <tr>\n",
       "      <th>9</th>\n",
       "      <td>00</td>\n",
       "      <td>1610612746</td>\n",
       "      <td>1970</td>\n",
       "      <td>2018</td>\n",
       "      <td>LAC</td>\n",
       "      <td>48</td>\n",
       "      <td>YOUNG</td>\n",
       "    </tr>\n",
       "    <tr>\n",
       "      <th>10</th>\n",
       "      <td>00</td>\n",
       "      <td>1610612747</td>\n",
       "      <td>1948</td>\n",
       "      <td>2018</td>\n",
       "      <td>LAL</td>\n",
       "      <td>70</td>\n",
       "      <td>OLD</td>\n",
       "    </tr>\n",
       "    <tr>\n",
       "      <th>11</th>\n",
       "      <td>00</td>\n",
       "      <td>1610612748</td>\n",
       "      <td>1988</td>\n",
       "      <td>2018</td>\n",
       "      <td>MIA</td>\n",
       "      <td>30</td>\n",
       "      <td>YOUNG</td>\n",
       "    </tr>\n",
       "    <tr>\n",
       "      <th>12</th>\n",
       "      <td>00</td>\n",
       "      <td>1610612750</td>\n",
       "      <td>1989</td>\n",
       "      <td>2018</td>\n",
       "      <td>MIN</td>\n",
       "      <td>29</td>\n",
       "      <td>YOUNG</td>\n",
       "    </tr>\n",
       "    <tr>\n",
       "      <th>13</th>\n",
       "      <td>00</td>\n",
       "      <td>1610612751</td>\n",
       "      <td>1976</td>\n",
       "      <td>2018</td>\n",
       "      <td>BKN</td>\n",
       "      <td>42</td>\n",
       "      <td>YOUNG</td>\n",
       "    </tr>\n",
       "    <tr>\n",
       "      <th>14</th>\n",
       "      <td>00</td>\n",
       "      <td>1610612752</td>\n",
       "      <td>1946</td>\n",
       "      <td>2018</td>\n",
       "      <td>NYK</td>\n",
       "      <td>72</td>\n",
       "      <td>OLD</td>\n",
       "    </tr>\n",
       "    <tr>\n",
       "      <th>15</th>\n",
       "      <td>00</td>\n",
       "      <td>1610612753</td>\n",
       "      <td>1989</td>\n",
       "      <td>2018</td>\n",
       "      <td>ORL</td>\n",
       "      <td>29</td>\n",
       "      <td>YOUNG</td>\n",
       "    </tr>\n",
       "    <tr>\n",
       "      <th>16</th>\n",
       "      <td>00</td>\n",
       "      <td>1610612754</td>\n",
       "      <td>1976</td>\n",
       "      <td>2018</td>\n",
       "      <td>IND</td>\n",
       "      <td>42</td>\n",
       "      <td>YOUNG</td>\n",
       "    </tr>\n",
       "    <tr>\n",
       "      <th>17</th>\n",
       "      <td>00</td>\n",
       "      <td>1610612755</td>\n",
       "      <td>1949</td>\n",
       "      <td>2018</td>\n",
       "      <td>PHI</td>\n",
       "      <td>69</td>\n",
       "      <td>OLD</td>\n",
       "    </tr>\n",
       "    <tr>\n",
       "      <th>18</th>\n",
       "      <td>00</td>\n",
       "      <td>1610612756</td>\n",
       "      <td>1968</td>\n",
       "      <td>2018</td>\n",
       "      <td>PHX</td>\n",
       "      <td>50</td>\n",
       "      <td>OLD</td>\n",
       "    </tr>\n",
       "    <tr>\n",
       "      <th>19</th>\n",
       "      <td>00</td>\n",
       "      <td>1610612757</td>\n",
       "      <td>1970</td>\n",
       "      <td>2018</td>\n",
       "      <td>POR</td>\n",
       "      <td>48</td>\n",
       "      <td>YOUNG</td>\n",
       "    </tr>\n",
       "    <tr>\n",
       "      <th>20</th>\n",
       "      <td>00</td>\n",
       "      <td>1610612758</td>\n",
       "      <td>1948</td>\n",
       "      <td>2018</td>\n",
       "      <td>SAC</td>\n",
       "      <td>70</td>\n",
       "      <td>OLD</td>\n",
       "    </tr>\n",
       "    <tr>\n",
       "      <th>21</th>\n",
       "      <td>00</td>\n",
       "      <td>1610612759</td>\n",
       "      <td>1976</td>\n",
       "      <td>2018</td>\n",
       "      <td>SAS</td>\n",
       "      <td>42</td>\n",
       "      <td>YOUNG</td>\n",
       "    </tr>\n",
       "    <tr>\n",
       "      <th>22</th>\n",
       "      <td>00</td>\n",
       "      <td>1610612760</td>\n",
       "      <td>1967</td>\n",
       "      <td>2018</td>\n",
       "      <td>OKC</td>\n",
       "      <td>51</td>\n",
       "      <td>OLD</td>\n",
       "    </tr>\n",
       "    <tr>\n",
       "      <th>23</th>\n",
       "      <td>00</td>\n",
       "      <td>1610612749</td>\n",
       "      <td>1968</td>\n",
       "      <td>2018</td>\n",
       "      <td>MIL</td>\n",
       "      <td>50</td>\n",
       "      <td>OLD</td>\n",
       "    </tr>\n",
       "    <tr>\n",
       "      <th>24</th>\n",
       "      <td>00</td>\n",
       "      <td>1610612762</td>\n",
       "      <td>1974</td>\n",
       "      <td>2018</td>\n",
       "      <td>UTA</td>\n",
       "      <td>44</td>\n",
       "      <td>YOUNG</td>\n",
       "    </tr>\n",
       "    <tr>\n",
       "      <th>25</th>\n",
       "      <td>00</td>\n",
       "      <td>1610612763</td>\n",
       "      <td>1995</td>\n",
       "      <td>2018</td>\n",
       "      <td>MEM</td>\n",
       "      <td>23</td>\n",
       "      <td>YOUNG</td>\n",
       "    </tr>\n",
       "    <tr>\n",
       "      <th>26</th>\n",
       "      <td>00</td>\n",
       "      <td>1610612764</td>\n",
       "      <td>1961</td>\n",
       "      <td>2018</td>\n",
       "      <td>WAS</td>\n",
       "      <td>57</td>\n",
       "      <td>OLD</td>\n",
       "    </tr>\n",
       "    <tr>\n",
       "      <th>27</th>\n",
       "      <td>00</td>\n",
       "      <td>1610612765</td>\n",
       "      <td>1948</td>\n",
       "      <td>2018</td>\n",
       "      <td>DET</td>\n",
       "      <td>70</td>\n",
       "      <td>OLD</td>\n",
       "    </tr>\n",
       "    <tr>\n",
       "      <th>28</th>\n",
       "      <td>00</td>\n",
       "      <td>1610612766</td>\n",
       "      <td>1988</td>\n",
       "      <td>2018</td>\n",
       "      <td>CHA</td>\n",
       "      <td>30</td>\n",
       "      <td>YOUNG</td>\n",
       "    </tr>\n",
       "    <tr>\n",
       "      <th>29</th>\n",
       "      <td>00</td>\n",
       "      <td>1610612761</td>\n",
       "      <td>1995</td>\n",
       "      <td>2018</td>\n",
       "      <td>TOR</td>\n",
       "      <td>23</td>\n",
       "      <td>YOUNG</td>\n",
       "    </tr>\n",
       "  </tbody>\n",
       "</table>\n",
       "</div>"
      ],
      "text/plain": [
       "   LEAGUE_ID     TEAM_ID  MIN_YEAR  MAX_YEAR ABBREVIATION  TEAM_AGE AGE_GROUP\n",
       "0         00  1610612737      1949      2018          ATL        69       OLD\n",
       "1         00  1610612738      1946      2018          BOS        72       OLD\n",
       "2         00  1610612739      1970      2018          CLE        48     YOUNG\n",
       "3         00  1610612740      2002      2018          NOP        16     YOUNG\n",
       "4         00  1610612741      1966      2018          CHI        52       OLD\n",
       "5         00  1610612742      1980      2018          DAL        38     YOUNG\n",
       "6         00  1610612743      1976      2018          DEN        42     YOUNG\n",
       "7         00  1610612744      1946      2018          GSW        72       OLD\n",
       "8         00  1610612745      1967      2018          HOU        51       OLD\n",
       "9         00  1610612746      1970      2018          LAC        48     YOUNG\n",
       "10        00  1610612747      1948      2018          LAL        70       OLD\n",
       "11        00  1610612748      1988      2018          MIA        30     YOUNG\n",
       "12        00  1610612750      1989      2018          MIN        29     YOUNG\n",
       "13        00  1610612751      1976      2018          BKN        42     YOUNG\n",
       "14        00  1610612752      1946      2018          NYK        72       OLD\n",
       "15        00  1610612753      1989      2018          ORL        29     YOUNG\n",
       "16        00  1610612754      1976      2018          IND        42     YOUNG\n",
       "17        00  1610612755      1949      2018          PHI        69       OLD\n",
       "18        00  1610612756      1968      2018          PHX        50       OLD\n",
       "19        00  1610612757      1970      2018          POR        48     YOUNG\n",
       "20        00  1610612758      1948      2018          SAC        70       OLD\n",
       "21        00  1610612759      1976      2018          SAS        42     YOUNG\n",
       "22        00  1610612760      1967      2018          OKC        51       OLD\n",
       "23        00  1610612749      1968      2018          MIL        50       OLD\n",
       "24        00  1610612762      1974      2018          UTA        44     YOUNG\n",
       "25        00  1610612763      1995      2018          MEM        23     YOUNG\n",
       "26        00  1610612764      1961      2018          WAS        57       OLD\n",
       "27        00  1610612765      1948      2018          DET        70       OLD\n",
       "28        00  1610612766      1988      2018          CHA        30     YOUNG\n",
       "29        00  1610612761      1995      2018          TOR        23     YOUNG"
      ]
     },
     "execution_count": 26,
     "metadata": {},
     "output_type": "execute_result"
    }
   ],
   "source": [
    "teams['TEAM_AGE'] = teams.MAX_YEAR - teams.MIN_YEAR\n",
    "teams.loc[teams.TEAM_AGE >= 50,'AGE_GROUP'] = 'OLD'\n",
    "teams.loc[teams.TEAM_AGE <  50,'AGE_GROUP'] = 'YOUNG'\n",
    "\n",
    "teams_clean = teams.copy() ## make a copy for later\n",
    "teams"
   ]
  },
  {
   "cell_type": "markdown",
   "metadata": {
    "colab_type": "text",
    "id": "5eXEoSUAEEYM",
    "slideshow": {
     "slide_type": "slide"
    }
   },
   "source": [
    "Subset just the players in current teams:"
   ]
  },
  {
   "cell_type": "code",
   "execution_count": 27,
   "metadata": {
    "colab": {},
    "colab_type": "code",
    "id": "D6cmxgnoEEYM",
    "outputId": "6237dc92-e065-4b5b-cf77-0297389bd771",
    "slideshow": {
     "slide_type": "fragment"
    }
   },
   "outputs": [
    {
     "data": {
      "text/html": [
       "<div>\n",
       "<style scoped>\n",
       "    .dataframe tbody tr th:only-of-type {\n",
       "        vertical-align: middle;\n",
       "    }\n",
       "\n",
       "    .dataframe tbody tr th {\n",
       "        vertical-align: top;\n",
       "    }\n",
       "\n",
       "    .dataframe thead th {\n",
       "        text-align: right;\n",
       "    }\n",
       "</style>\n",
       "<table border=\"1\" class=\"dataframe\">\n",
       "  <thead>\n",
       "    <tr style=\"text-align: right;\">\n",
       "      <th></th>\n",
       "      <th>PERSON_ID</th>\n",
       "      <th>DISPLAY_LAST_COMMA_FIRST</th>\n",
       "      <th>DISPLAY_FIRST_LAST</th>\n",
       "      <th>ROSTERSTATUS</th>\n",
       "      <th>FROM_YEAR</th>\n",
       "      <th>TO_YEAR</th>\n",
       "      <th>PLAYERCODE</th>\n",
       "      <th>TEAM_ID</th>\n",
       "      <th>TEAM_CITY</th>\n",
       "      <th>TEAM_NAME</th>\n",
       "      <th>TEAM_ABBREVIATION</th>\n",
       "      <th>TEAM_CODE</th>\n",
       "      <th>GAMES_PLAYED_FLAG</th>\n",
       "    </tr>\n",
       "  </thead>\n",
       "  <tbody>\n",
       "    <tr>\n",
       "      <th>0</th>\n",
       "      <td>76001</td>\n",
       "      <td>Abdelnaby, Alaa</td>\n",
       "      <td>Alaa Abdelnaby</td>\n",
       "      <td>0</td>\n",
       "      <td>1990</td>\n",
       "      <td>1994</td>\n",
       "      <td>HISTADD_alaa_abdelnaby</td>\n",
       "      <td>0</td>\n",
       "      <td></td>\n",
       "      <td></td>\n",
       "      <td></td>\n",
       "      <td></td>\n",
       "      <td>Y</td>\n",
       "    </tr>\n",
       "    <tr>\n",
       "      <th>1</th>\n",
       "      <td>76002</td>\n",
       "      <td>Abdul-Aziz, Zaid</td>\n",
       "      <td>Zaid Abdul-Aziz</td>\n",
       "      <td>0</td>\n",
       "      <td>1968</td>\n",
       "      <td>1977</td>\n",
       "      <td>HISTADD_zaid_abdul-aziz</td>\n",
       "      <td>0</td>\n",
       "      <td></td>\n",
       "      <td></td>\n",
       "      <td></td>\n",
       "      <td></td>\n",
       "      <td>Y</td>\n",
       "    </tr>\n",
       "  </tbody>\n",
       "</table>\n",
       "</div>"
      ],
      "text/plain": [
       "   PERSON_ID DISPLAY_LAST_COMMA_FIRST DISPLAY_FIRST_LAST  ROSTERSTATUS  \\\n",
       "0      76001          Abdelnaby, Alaa     Alaa Abdelnaby             0   \n",
       "1      76002         Abdul-Aziz, Zaid    Zaid Abdul-Aziz             0   \n",
       "\n",
       "  FROM_YEAR TO_YEAR               PLAYERCODE  TEAM_ID TEAM_CITY TEAM_NAME  \\\n",
       "0      1990    1994   HISTADD_alaa_abdelnaby        0                       \n",
       "1      1968    1977  HISTADD_zaid_abdul-aziz        0                       \n",
       "\n",
       "  TEAM_ABBREVIATION TEAM_CODE GAMES_PLAYED_FLAG  \n",
       "0                                             Y  \n",
       "1                                             Y  "
      ]
     },
     "execution_count": 27,
     "metadata": {},
     "output_type": "execute_result"
    }
   ],
   "source": [
    "players.head(2)"
   ]
  },
  {
   "cell_type": "code",
   "execution_count": 28,
   "metadata": {
    "colab": {},
    "colab_type": "code",
    "id": "O9_VGyudEEYP",
    "outputId": "8b3e3650-2f17-4e99-b7a8-a5454741646a",
    "slideshow": {
     "slide_type": "fragment"
    }
   },
   "outputs": [
    {
     "data": {
      "text/html": [
       "<div>\n",
       "<style scoped>\n",
       "    .dataframe tbody tr th:only-of-type {\n",
       "        vertical-align: middle;\n",
       "    }\n",
       "\n",
       "    .dataframe tbody tr th {\n",
       "        vertical-align: top;\n",
       "    }\n",
       "\n",
       "    .dataframe thead th {\n",
       "        text-align: right;\n",
       "    }\n",
       "</style>\n",
       "<table border=\"1\" class=\"dataframe\">\n",
       "  <thead>\n",
       "    <tr style=\"text-align: right;\">\n",
       "      <th></th>\n",
       "      <th>LEAGUE_ID</th>\n",
       "      <th>TEAM_ID</th>\n",
       "      <th>MIN_YEAR</th>\n",
       "      <th>MAX_YEAR</th>\n",
       "      <th>ABBREVIATION</th>\n",
       "      <th>TEAM_AGE</th>\n",
       "      <th>AGE_GROUP</th>\n",
       "    </tr>\n",
       "  </thead>\n",
       "  <tbody>\n",
       "    <tr>\n",
       "      <th>0</th>\n",
       "      <td>00</td>\n",
       "      <td>1610612737</td>\n",
       "      <td>1949</td>\n",
       "      <td>2018</td>\n",
       "      <td>ATL</td>\n",
       "      <td>69</td>\n",
       "      <td>OLD</td>\n",
       "    </tr>\n",
       "    <tr>\n",
       "      <th>1</th>\n",
       "      <td>00</td>\n",
       "      <td>1610612738</td>\n",
       "      <td>1946</td>\n",
       "      <td>2018</td>\n",
       "      <td>BOS</td>\n",
       "      <td>72</td>\n",
       "      <td>OLD</td>\n",
       "    </tr>\n",
       "  </tbody>\n",
       "</table>\n",
       "</div>"
      ],
      "text/plain": [
       "  LEAGUE_ID     TEAM_ID  MIN_YEAR  MAX_YEAR ABBREVIATION  TEAM_AGE AGE_GROUP\n",
       "0        00  1610612737      1949      2018          ATL        69       OLD\n",
       "1        00  1610612738      1946      2018          BOS        72       OLD"
      ]
     },
     "execution_count": 28,
     "metadata": {},
     "output_type": "execute_result"
    }
   ],
   "source": [
    "teams.head(2)"
   ]
  },
  {
   "cell_type": "code",
   "execution_count": 29,
   "metadata": {
    "colab": {},
    "colab_type": "code",
    "id": "UOc-Si3KEEYS",
    "outputId": "fd9d5abb-c955-4ba1-ddab-17507e23d244",
    "slideshow": {
     "slide_type": "fragment"
    }
   },
   "outputs": [
    {
     "data": {
      "text/html": [
       "<div>\n",
       "<style scoped>\n",
       "    .dataframe tbody tr th:only-of-type {\n",
       "        vertical-align: middle;\n",
       "    }\n",
       "\n",
       "    .dataframe tbody tr th {\n",
       "        vertical-align: top;\n",
       "    }\n",
       "\n",
       "    .dataframe thead th {\n",
       "        text-align: right;\n",
       "    }\n",
       "</style>\n",
       "<table border=\"1\" class=\"dataframe\">\n",
       "  <thead>\n",
       "    <tr style=\"text-align: right;\">\n",
       "      <th></th>\n",
       "      <th>PERSON_ID</th>\n",
       "      <th>DISPLAY_LAST_COMMA_FIRST</th>\n",
       "      <th>DISPLAY_FIRST_LAST</th>\n",
       "      <th>ROSTERSTATUS</th>\n",
       "      <th>FROM_YEAR</th>\n",
       "      <th>TO_YEAR</th>\n",
       "      <th>PLAYERCODE</th>\n",
       "      <th>TEAM_ID</th>\n",
       "      <th>TEAM_CITY</th>\n",
       "      <th>TEAM_NAME</th>\n",
       "      <th>TEAM_ABBREVIATION</th>\n",
       "      <th>TEAM_CODE</th>\n",
       "      <th>GAMES_PLAYED_FLAG</th>\n",
       "    </tr>\n",
       "  </thead>\n",
       "  <tbody>\n",
       "    <tr>\n",
       "      <th>4373</th>\n",
       "      <td>203469</td>\n",
       "      <td>Zeller, Cody</td>\n",
       "      <td>Cody Zeller</td>\n",
       "      <td>1</td>\n",
       "      <td>2013</td>\n",
       "      <td>2018</td>\n",
       "      <td>cody_zeller</td>\n",
       "      <td>1610612766</td>\n",
       "      <td>Charlotte</td>\n",
       "      <td>Hornets</td>\n",
       "      <td>CHA</td>\n",
       "      <td>hornets</td>\n",
       "      <td>Y</td>\n",
       "    </tr>\n",
       "    <tr>\n",
       "      <th>4378</th>\n",
       "      <td>203092</td>\n",
       "      <td>Zeller, Tyler</td>\n",
       "      <td>Tyler Zeller</td>\n",
       "      <td>1</td>\n",
       "      <td>2012</td>\n",
       "      <td>2018</td>\n",
       "      <td>tyler_zeller</td>\n",
       "      <td>1610612749</td>\n",
       "      <td>Milwaukee</td>\n",
       "      <td>Bucks</td>\n",
       "      <td>MIL</td>\n",
       "      <td>bucks</td>\n",
       "      <td>Y</td>\n",
       "    </tr>\n",
       "    <tr>\n",
       "      <th>4385</th>\n",
       "      <td>1627835</td>\n",
       "      <td>Zipser, Paul</td>\n",
       "      <td>Paul Zipser</td>\n",
       "      <td>1</td>\n",
       "      <td>2016</td>\n",
       "      <td>2017</td>\n",
       "      <td>paul_zipser</td>\n",
       "      <td>1610612741</td>\n",
       "      <td>Chicago</td>\n",
       "      <td>Bulls</td>\n",
       "      <td>CHI</td>\n",
       "      <td>bulls</td>\n",
       "      <td>Y</td>\n",
       "    </tr>\n",
       "    <tr>\n",
       "      <th>4386</th>\n",
       "      <td>1627790</td>\n",
       "      <td>Zizic, Ante</td>\n",
       "      <td>Ante Zizic</td>\n",
       "      <td>1</td>\n",
       "      <td>2017</td>\n",
       "      <td>2018</td>\n",
       "      <td>ante_zizic</td>\n",
       "      <td>1610612739</td>\n",
       "      <td>Cleveland</td>\n",
       "      <td>Cavaliers</td>\n",
       "      <td>CLE</td>\n",
       "      <td>cavaliers</td>\n",
       "      <td>Y</td>\n",
       "    </tr>\n",
       "    <tr>\n",
       "      <th>4389</th>\n",
       "      <td>1627826</td>\n",
       "      <td>Zubac, Ivica</td>\n",
       "      <td>Ivica Zubac</td>\n",
       "      <td>1</td>\n",
       "      <td>2016</td>\n",
       "      <td>2018</td>\n",
       "      <td>ivica_zubac</td>\n",
       "      <td>1610612747</td>\n",
       "      <td>Los Angeles</td>\n",
       "      <td>Lakers</td>\n",
       "      <td>LAL</td>\n",
       "      <td>lakers</td>\n",
       "      <td>Y</td>\n",
       "    </tr>\n",
       "  </tbody>\n",
       "</table>\n",
       "</div>"
      ],
      "text/plain": [
       "      PERSON_ID DISPLAY_LAST_COMMA_FIRST DISPLAY_FIRST_LAST  ROSTERSTATUS  \\\n",
       "4373     203469             Zeller, Cody        Cody Zeller             1   \n",
       "4378     203092            Zeller, Tyler       Tyler Zeller             1   \n",
       "4385    1627835             Zipser, Paul        Paul Zipser             1   \n",
       "4386    1627790              Zizic, Ante         Ante Zizic             1   \n",
       "4389    1627826             Zubac, Ivica        Ivica Zubac             1   \n",
       "\n",
       "     FROM_YEAR TO_YEAR    PLAYERCODE     TEAM_ID    TEAM_CITY  TEAM_NAME  \\\n",
       "4373      2013    2018   cody_zeller  1610612766    Charlotte    Hornets   \n",
       "4378      2012    2018  tyler_zeller  1610612749    Milwaukee      Bucks   \n",
       "4385      2016    2017   paul_zipser  1610612741      Chicago      Bulls   \n",
       "4386      2017    2018    ante_zizic  1610612739    Cleveland  Cavaliers   \n",
       "4389      2016    2018   ivica_zubac  1610612747  Los Angeles     Lakers   \n",
       "\n",
       "     TEAM_ABBREVIATION  TEAM_CODE GAMES_PLAYED_FLAG  \n",
       "4373               CHA    hornets                 Y  \n",
       "4378               MIL      bucks                 Y  \n",
       "4385               CHI      bulls                 Y  \n",
       "4386               CLE  cavaliers                 Y  \n",
       "4389               LAL     lakers                 Y  "
      ]
     },
     "execution_count": 29,
     "metadata": {},
     "output_type": "execute_result"
    }
   ],
   "source": [
    "players = players[players.TEAM_ID.isin(teams.TEAM_ID)]\n",
    "players.tail()"
   ]
  },
  {
   "cell_type": "markdown",
   "metadata": {
    "colab_type": "text",
    "id": "H1g_12_aEEYV",
    "slideshow": {
     "slide_type": "slide"
    }
   },
   "source": [
    "List players groupped by teams:"
   ]
  },
  {
   "cell_type": "code",
   "execution_count": 30,
   "metadata": {
    "colab": {},
    "colab_type": "code",
    "id": "-x1wFzuqEEYW",
    "outputId": "42411f3a-70dd-49e7-bcd1-72edecf40b21",
    "slideshow": {
     "slide_type": "fragment"
    }
   },
   "outputs": [
    {
     "data": {
      "text/plain": [
       "<pandas.core.groupby.generic.DataFrameGroupBy object at 0x7f06930ebb38>"
      ]
     },
     "execution_count": 30,
     "metadata": {},
     "output_type": "execute_result"
    }
   ],
   "source": [
    "players.groupby('TEAM_CODE')"
   ]
  },
  {
   "cell_type": "markdown",
   "metadata": {
    "colab_type": "text",
    "id": "f6-K416PEEYb",
    "slideshow": {
     "slide_type": "fragment"
    }
   },
   "source": [
    "Above is called an iterable. You can iterate on the object to see the _views_."
   ]
  },
  {
   "cell_type": "code",
   "execution_count": 31,
   "metadata": {
    "colab": {},
    "colab_type": "code",
    "id": "uzvE-ssAEEYd",
    "outputId": "b60b20bc-61c7-4fcf-b3cd-2030bb8cdfec",
    "slideshow": {
     "slide_type": "fragment"
    }
   },
   "outputs": [
    {
     "name": "stdout",
     "output_type": "stream",
     "text": [
      "*** 76ers\n",
      "Anderson, Justin; Bayless, Jerryd; Belinelli, Marco; Covington, Robert; Embiid, Joel; Fultz, Markelle; Holmes, Richaun; Ilyasova, Ersan; Jackson, Demetrius; Johnson, Amir; Korkmaz, Furkan; Luwawu-Cabarrot, Timothe; McConnell, T.J.; Redick, JJ; Saric, Dario; Simmons, Ben \n",
      "\n",
      "*** Bucks\n",
      "Antetokounmpo, Giannis; Bledsoe, Eric; Brogdon, Malcolm; Brown, Sterling; Dellavedova, Matthew; Henson, John; Jennings, Brandon; Maker, Thon; Middleton, Khris; Muhammad, Shabazz; Munford, Xavier; Parker, Jabari; Plumlee, Marshall; Snell, Tony; Terry, Jason; Wilson, D.J.; Zeller, Tyler \n",
      "\n",
      "*** Bulls\n",
      "Arcidiacono, Ryan; Asik, Omer; Blakeney, Antonio; Dunn, Kris; Eddie, Jarell; Felicio, Cristiano; Grant, Jerian; Holiday, Justin; Kilpatrick, Sean; LaVine, Zach; Lopez, Robin; Markkanen, Lauri; Nwaba, David; Payne, Cameron; Portis, Bobby; Valentine, Denzel; Vonleh, Noah; Zipser, Paul \n",
      "\n",
      "*** Cavaliers\n",
      "Calderon, Jose; Clarkson, Jordan; Green, Jeff; Hill, George; Hood, Rodney; James, LeBron; Korver, Kyle; Love, Kevin; Nance Jr., Larry; Osman, Cedi; Perkins, Kendrick; Smith, JR; Thompson, Tristan; White, Okaro; Zizic, Ante \n",
      "\n",
      "*** Celtics\n",
      "Allen, Kadeem; Baynes, Aron; Bird, Jabari; Brown, Jaylen; Gibson, Jonathan; Hayward, Gordon; Horford, Al; Irving, Kyrie; Larkin, Shane; Monroe, Greg; Morris, Marcus; Nader, Abdel; Ojeleye, Semi; Rozier, Terry; Silas, Xavier; Smart, Marcus; Tatum, Jayson; Theis, Daniel; Yabusele, Guerschon \n",
      "\n",
      "*** Clippers\n",
      "Beverley, Patrick; Bradley, Avery; Dekker, Sam; Evans, Jawun; Gallinari, Danilo; Harrell, Montrezl; Harris, Tobias; Johnson, Wesley; Jordan, DeAndre; Marjanovic, Boban; Rivers, Austin; Teodosic, Milos; Thornwell, Sindarius; Wallace, Tyrone; Williams, C.J.; Williams, Lou \n",
      "\n",
      "*** Grizzlies\n",
      "Brooks, Dillon; Brooks, MarShon; Chalmers, Mario; Conley, Mike; Davis, Deyonta; Evans, Tyreke; Gasol, Marc; Green, JaMychal; Harrison, Andrew; Henry, Myke; Martin, Jarell; McLemore, Ben; Parsons, Chandler; Rabb, Ivan; Selden, Wayne; Simmons, Kobi; Teague, Marquis; Weber, Briante \n",
      "\n",
      "*** Hawks\n",
      "Bazemore, Kent; Bembry, DeAndre'; Cavanaugh, Tyler; Cleveland, Antonius; Collins, John; Dedmon, Dewayne; Delaney, Malcolm; Dorsey, Tyler; Evans, Jeremy; Lee, Damion; Magette, Josh; Morris, Jaylen; Muscala, Mike; Plumlee, Miles; Prince, Taurean; Schroder, Dennis; Taylor, Isaiah; White III, Andrew \n",
      "\n",
      "*** Heat\n",
      "Adebayo, Bam; Babbitt, Luke; Dragic, Goran; Ellington, Wayne; Haslem, Udonis; Johnson, James; Johnson, Tyler; Jones Jr., Derrick; McGruder, Rodney; Mickey, Jordan; Olynyk, Kelly; Richardson, Josh; Wade, Dwyane; Waiters, Dion; Walton Jr., Derrick; Whiteside, Hassan; Winslow, Justise \n",
      "\n",
      "*** Hornets\n",
      "Bacon, Dwayne; Batum, Nicolas; Carter-Williams, Michael; Graham, Treveon; Hernangomez, Willy; Howard, Dwight; Kaminsky, Frank; Kidd-Gilchrist, Michael; Lamb, Jeremy; Mathiang, Mangok; Monk, Malik; Paige, Marcus; Stone, Julyan; Walker, Kemba; Williams, Marvin; Zeller, Cody \n",
      "\n",
      "*** Jazz\n",
      "Bradley, Tony; Burks, Alec; Crowder, Jae; Exum, Dante; Favors, Derrick; Gobert, Rudy; Ingles, Joe; Jerebko, Jonas; McCree, Erik; Mitchell, Donovan; Neto, Raul; Niang, Georges; O'Neale, Royce; Rubio, Ricky; Sefolosha, Thabo; Stockton, David; Udoh, Ekpe \n",
      "\n",
      "*** Kings\n",
      "Bogdanovic, Bogdan; Caboclo, Bruno; Carter, Vince; Cauley-Stein, Willie; Cooley, Jack; Fox, De'Aaron; Giles III, Harry; Hayes, Nigel; Hield, Buddy; Jackson, Justin; Koufos, Kosta; Labissiere, Skal; Mason, Frank; Randolph, Zach; Sampson, JaKarr; Shumpert, Iman; Temple, Garrett \n",
      "\n",
      "*** Knicks\n",
      "Baker, Ron; Beasley, Michael; Burke, Trey; Dotson, Damyean; Hardaway Jr., Tim; Hicks, Isaiah; Jack, Jarrett; Kanter, Enes; Kornet, Luke; Lee, Courtney; Mudiay, Emmanuel; Noah, Joakim; Ntilikina, Frank; O'Quinn, Kyle; Porzingis, Kristaps; Thomas, Lance; Williams, Troy \n",
      "\n",
      "*** Lakers\n",
      "Ball, Lonzo; Bryant, Thomas; Caldwell-Pope, Kentavious; Caruso, Alex; Deng, Luol; Ennis, Tyler; Frye, Channing; Hart, Josh; Ingram, Andre; Ingram, Brandon; Kuzma, Kyle; Lopez, Brook; Payton II, Gary; Randle, Julius; Thomas, Isaiah; Wear, Travis; Zubac, Ivica \n",
      "\n",
      "*** Magic\n",
      "Afflalo, Arron; Artis, Jamel; Augustin, D.J.; Birch, Khem; Biyombo, Bismack; Fournier, Evan; Gordon, Aaron; Hezonja, Mario; Isaac, Jonathan; Iwundu, Wes; Purvis, Rodney; Ross, Terrence; Simmons, Jonathon; Speights, Marreese; Vucevic, Nikola \n",
      "\n",
      "*** Mavericks\n",
      "Barea, J.J.; Barnes, Harrison; Collinsworth, Kyle; Curry, Seth; Ferrell, Yogi; Finney-Smith, Dorian; Harrison, Aaron; Jones, Jalen; Kleber, Maxi; Matthews, Wesley; McDermott, Doug; Mejri, Salah; Motley, Johnathan; Noel, Nerlens; Nowitzki, Dirk; Powell, Dwight; Smith Jr., Dennis \n",
      "\n",
      "*** Nets\n",
      "Acy, Quincy; Allen, Jarrett; Carroll, DeMarre; Crabbe, Allen; Cunningham, Dante; Dinwiddie, Spencer; Doyle, Milton; Harris, Joe; Hollis-Jefferson, Rondae; LeVert, Caris; Lin, Jeremy; Mozgov, Timofey; Okafor, Jahlil; Russell, D'Angelo; Stauskas, Nik; Webb III, James; Whitehead, Isaiah \n",
      "\n",
      "*** Nuggets\n",
      "Arthur, Darrell; Barton, Will; Beasley, Malik; Chandler, Wilson; Craig, Torrey; Faried, Kenneth; Harris, Devin; Harris, Gary; Hernangomez, Juancho; Jefferson, Richard; Jokic, Nikola; Lydon, Tyler; Lyles, Trey; Millsap, Paul; Morris, Monte; Murray, Jamal; Plumlee, Mason \n",
      "\n",
      "*** Pacers\n",
      "Anigbogu, Ike; Bogdanovic, Bojan; Booker, Trevor; Collison, Darren; Jefferson, Al; Joseph, Cory; Leaf, TJ; Moore, Ben; Oladipo, Victor; Poythress, Alex; Robinson III, Glenn; Sabonis, Domantas; Stephenson, Lance; Sumner, Edmond; Turner, Myles; Young, Joe; Young, Thaddeus \n",
      "\n",
      "*** Pelicans\n",
      "Ajinca, Alexis; Clark, Ian; Cooke, Charles; Cousins, DeMarcus; Crawford, Jordan; Davis, Anthony; Diallo, Cheick; Drew II, Larry; Hill, Solomon; Holiday, Jrue; Jackson, Frank; Liggins, DeAndre; Miller, Darius; Mirotic, Nikola; Moore, E'Twaun; Okafor, Emeka; Rondo, Rajon \n",
      "\n",
      "*** Pistons\n",
      "Bullock, Reggie; Buycks, Dwight; Drummond, Andre; Ellenson, Henry; Ennis III, James; Felder, Kay; Galloway, Langston; Griffin, Blake; Hearn, Reggie; Jackson, Reggie; Johnson, Stanley; Kennard, Luke; Leuer, Jon; Moreland, Eric; Nelson, Jameer; Smith, Ish; Tolliver, Anthony \n",
      "\n",
      "*** Raptors\n",
      "Anunoby, OG; Brown, Lorenzo; DeRozan, DeMar; Ibaka, Serge; Lowry, Kyle; McKinnie, Alfonzo; Miles, CJ; Miller, Malcolm; Nogueira, Lucas; Poeltl, Jakob; Powell, Norman; Richardson, Malachi; Siakam, Pascal; Valanciunas, Jonas; VanVleet, Fred; Wright, Delon \n",
      "\n",
      "*** Rockets\n",
      "Anderson, Ryan; Ariza, Trevor; Black, Tarik; Brown, Markel; Capela, Clint; Gordon, Eric; Green, Gerald; Harden, James; Nene; Hunter, RJ; Jackson, Aaron; Johnson, Joe; Mbah a Moute, Luc; Onuaku, Chinanu; Paul, Chris; Zhou Qi; Tucker, PJ \n",
      "\n",
      "*** Spurs\n",
      "Aldridge, LaMarcus; Anderson, Kyle; Bertans, Davis; Costello, Matt; Forbes, Bryn; Gasol, Pau; Gay, Rudy; Ginobili, Manu; Green, Danny; Hilliard, Darrun; Lauvergne, Joffrey; Leonard, Kawhi; Mills, Patty; Murray, Dejounte; Parker, Tony; Paul, Brandon; White, Derrick \n",
      "\n",
      "*** Suns\n",
      "Bender, Dragan; Booker, Devin; Chandler, Tyson; Chriss, Marquese; Daniels, Troy; Dudley, Jared; Harrison, Shaquille; House Jr., Danuel; Jackson, Josh; Knight, Brandon; Len, Alex; Payton, Elfrid; Peters, Alec; Reed, Davon; Ulis, Tyler; Warren, T.J.; Williams, Alan \n",
      "\n",
      "*** Thunder\n",
      "Abrines, Alex; Adams, Steven; Anthony, Carmelo; Brewer, Corey; Collison, Nick; Dozier, PJ; Felton, Raymond; Ferguson, Terrance; George, Paul; Grant, Jerami; Hamilton, Daniel; Huestis, Josh; Johnson, Dakari; Patterson, Patrick; Roberson, Andre; Singler, Kyle; Westbrook, Russell \n",
      "\n",
      "*** Timberwolves\n",
      "Aldrich, Cole; Bjelica, Nemanja; Brooks, Aaron; Brown, Anthony; Butler, Jimmy; Crawford, Jamal; Dieng, Gorgui; Georges-Hunt, Marcus; Gibson, Taj; Jefferson, Amile; Jones, Tyus; Patton, Justin; Rose, Derrick; Teague, Jeff; Towns, Karl-Anthony; Wiggins, Andrew \n",
      "\n",
      "*** Trail Blazers\n",
      "Aminu, Al-Farouq; Baldwin IV, Wade; Collins, Zach; Connaughton, Pat; Davis, Ed; Harkless, Maurice; Layman, Jake; Leonard, Meyers; Lillard, Damian; McCollum, CJ; Napier, Shabazz; Nurkic, Jusuf; Papagiannis, Georgios; Swanigan, Caleb; Turner, Evan; Wilcox, CJ \n",
      "\n",
      "*** Warriors\n",
      "Bell, Jordan; Cook, Quinn; Curry, Stephen; Durant, Kevin; Green, Draymond; Iguodala, Andre; Jones, Damian; Livingston, Shaun; Looney, Kevon; McCaw, Patrick; McGee, JaVale; Pachulia, Zaza; Thompson, Klay; West, David; Young, Nick \n",
      "\n",
      "*** Wizards\n",
      "Beal, Bradley; Frazier, Tim; Gortat, Marcin; Lawson, Ty; Mahinmi, Ian; McCullough, Chris; Meeks, Jodie; Morris, Markieff; Oubre Jr., Kelly; Porter Jr., Otto; Robinson, Devin; Satoransky, Tomas; Scott, Mike; Sessions, Ramon; Smith, Jason; Wall, John \n",
      "\n"
     ]
    }
   ],
   "source": [
    "for t, p in players.groupby('TEAM_NAME'):\n",
    "    print(\"***\", t)\n",
    "    print('; '.join(p.DISPLAY_LAST_COMMA_FIRST.values), '\\n')"
   ]
  },
  {
   "cell_type": "markdown",
   "metadata": {
    "colab_type": "text",
    "id": "kEoyMAGUEEYj",
    "slideshow": {
     "slide_type": "slide"
    }
   },
   "source": [
    "### Merging data frames\n",
    "\n",
    "First we can create a table of unique rows with full team names"
   ]
  },
  {
   "cell_type": "code",
   "execution_count": 32,
   "metadata": {
    "colab": {},
    "colab_type": "code",
    "id": "fquJACz1EEYk",
    "outputId": "1aa6656e-1697-4f99-d267-1b32c595e270",
    "slideshow": {
     "slide_type": "fragment"
    }
   },
   "outputs": [
    {
     "data": {
      "text/html": [
       "<div>\n",
       "<style scoped>\n",
       "    .dataframe tbody tr th:only-of-type {\n",
       "        vertical-align: middle;\n",
       "    }\n",
       "\n",
       "    .dataframe tbody tr th {\n",
       "        vertical-align: top;\n",
       "    }\n",
       "\n",
       "    .dataframe thead th {\n",
       "        text-align: right;\n",
       "    }\n",
       "</style>\n",
       "<table border=\"1\" class=\"dataframe\">\n",
       "  <thead>\n",
       "    <tr style=\"text-align: right;\">\n",
       "      <th></th>\n",
       "      <th>TEAM_ABBREVIATION</th>\n",
       "      <th>TEAM_CODE</th>\n",
       "    </tr>\n",
       "  </thead>\n",
       "  <tbody>\n",
       "    <tr>\n",
       "      <th>9</th>\n",
       "      <td>OKC</td>\n",
       "      <td>thunder</td>\n",
       "    </tr>\n",
       "    <tr>\n",
       "      <th>14</th>\n",
       "      <td>BKN</td>\n",
       "      <td>nets</td>\n",
       "    </tr>\n",
       "    <tr>\n",
       "      <th>23</th>\n",
       "      <td>MIA</td>\n",
       "      <td>heat</td>\n",
       "    </tr>\n",
       "    <tr>\n",
       "      <th>27</th>\n",
       "      <td>ORL</td>\n",
       "      <td>magic</td>\n",
       "    </tr>\n",
       "    <tr>\n",
       "      <th>32</th>\n",
       "      <td>NOP</td>\n",
       "      <td>pelicans</td>\n",
       "    </tr>\n",
       "  </tbody>\n",
       "</table>\n",
       "</div>"
      ],
      "text/plain": [
       "   TEAM_ABBREVIATION TEAM_CODE\n",
       "9                OKC   thunder\n",
       "14               BKN      nets\n",
       "23               MIA      heat\n",
       "27               ORL     magic\n",
       "32               NOP  pelicans"
      ]
     },
     "execution_count": 32,
     "metadata": {},
     "output_type": "execute_result"
    }
   ],
   "source": [
    "team_names = players[['TEAM_ABBREVIATION', 'TEAM_CODE']].drop_duplicates()#.set_index('TEAM_ABBREVIATION')\n",
    "team_names.head()"
   ]
  },
  {
   "cell_type": "markdown",
   "metadata": {
    "colab_type": "text",
    "id": "7lBSTNdWEEYm",
    "slideshow": {
     "slide_type": "fragment"
    }
   },
   "source": [
    "We have team codes (names) as a new column."
   ]
  },
  {
   "cell_type": "code",
   "execution_count": 33,
   "metadata": {
    "colab": {},
    "colab_type": "code",
    "id": "HKDalI4QEEYn",
    "outputId": "2b2e6028-ab09-4322-f537-77b3a9748d1d",
    "slideshow": {
     "slide_type": "fragment"
    }
   },
   "outputs": [
    {
     "data": {
      "text/html": [
       "<div>\n",
       "<style scoped>\n",
       "    .dataframe tbody tr th:only-of-type {\n",
       "        vertical-align: middle;\n",
       "    }\n",
       "\n",
       "    .dataframe tbody tr th {\n",
       "        vertical-align: top;\n",
       "    }\n",
       "\n",
       "    .dataframe thead th {\n",
       "        text-align: right;\n",
       "    }\n",
       "</style>\n",
       "<table border=\"1\" class=\"dataframe\">\n",
       "  <thead>\n",
       "    <tr style=\"text-align: right;\">\n",
       "      <th></th>\n",
       "      <th>LEAGUE_ID</th>\n",
       "      <th>TEAM_ID</th>\n",
       "      <th>MIN_YEAR</th>\n",
       "      <th>MAX_YEAR</th>\n",
       "      <th>ABBREVIATION</th>\n",
       "      <th>TEAM_AGE</th>\n",
       "      <th>AGE_GROUP</th>\n",
       "    </tr>\n",
       "  </thead>\n",
       "  <tbody>\n",
       "    <tr>\n",
       "      <th>0</th>\n",
       "      <td>00</td>\n",
       "      <td>1610612737</td>\n",
       "      <td>1949</td>\n",
       "      <td>2018</td>\n",
       "      <td>ATL</td>\n",
       "      <td>69</td>\n",
       "      <td>OLD</td>\n",
       "    </tr>\n",
       "    <tr>\n",
       "      <th>1</th>\n",
       "      <td>00</td>\n",
       "      <td>1610612738</td>\n",
       "      <td>1946</td>\n",
       "      <td>2018</td>\n",
       "      <td>BOS</td>\n",
       "      <td>72</td>\n",
       "      <td>OLD</td>\n",
       "    </tr>\n",
       "    <tr>\n",
       "      <th>2</th>\n",
       "      <td>00</td>\n",
       "      <td>1610612739</td>\n",
       "      <td>1970</td>\n",
       "      <td>2018</td>\n",
       "      <td>CLE</td>\n",
       "      <td>48</td>\n",
       "      <td>YOUNG</td>\n",
       "    </tr>\n",
       "    <tr>\n",
       "      <th>3</th>\n",
       "      <td>00</td>\n",
       "      <td>1610612740</td>\n",
       "      <td>2002</td>\n",
       "      <td>2018</td>\n",
       "      <td>NOP</td>\n",
       "      <td>16</td>\n",
       "      <td>YOUNG</td>\n",
       "    </tr>\n",
       "    <tr>\n",
       "      <th>4</th>\n",
       "      <td>00</td>\n",
       "      <td>1610612741</td>\n",
       "      <td>1966</td>\n",
       "      <td>2018</td>\n",
       "      <td>CHI</td>\n",
       "      <td>52</td>\n",
       "      <td>OLD</td>\n",
       "    </tr>\n",
       "  </tbody>\n",
       "</table>\n",
       "</div>"
      ],
      "text/plain": [
       "  LEAGUE_ID     TEAM_ID  MIN_YEAR  MAX_YEAR ABBREVIATION  TEAM_AGE AGE_GROUP\n",
       "0        00  1610612737      1949      2018          ATL        69       OLD\n",
       "1        00  1610612738      1946      2018          BOS        72       OLD\n",
       "2        00  1610612739      1970      2018          CLE        48     YOUNG\n",
       "3        00  1610612740      2002      2018          NOP        16     YOUNG\n",
       "4        00  1610612741      1966      2018          CHI        52       OLD"
      ]
     },
     "execution_count": 33,
     "metadata": {},
     "output_type": "execute_result"
    }
   ],
   "source": [
    "teams_clean.head()"
   ]
  },
  {
   "cell_type": "code",
   "execution_count": 34,
   "metadata": {
    "colab": {},
    "colab_type": "code",
    "id": "e7T5NnLkEEYr",
    "outputId": "5e8bf850-893d-4bf9-dd4d-f0fd9a09f153",
    "slideshow": {
     "slide_type": "fragment"
    }
   },
   "outputs": [
    {
     "data": {
      "text/html": [
       "<div>\n",
       "<style scoped>\n",
       "    .dataframe tbody tr th:only-of-type {\n",
       "        vertical-align: middle;\n",
       "    }\n",
       "\n",
       "    .dataframe tbody tr th {\n",
       "        vertical-align: top;\n",
       "    }\n",
       "\n",
       "    .dataframe thead th {\n",
       "        text-align: right;\n",
       "    }\n",
       "</style>\n",
       "<table border=\"1\" class=\"dataframe\">\n",
       "  <thead>\n",
       "    <tr style=\"text-align: right;\">\n",
       "      <th></th>\n",
       "      <th>LEAGUE_ID</th>\n",
       "      <th>TEAM_ID</th>\n",
       "      <th>MIN_YEAR</th>\n",
       "      <th>MAX_YEAR</th>\n",
       "      <th>ABBREVIATION</th>\n",
       "      <th>TEAM_AGE</th>\n",
       "      <th>AGE_GROUP</th>\n",
       "      <th>TEAM_ABBREVIATION</th>\n",
       "      <th>TEAM_CODE</th>\n",
       "    </tr>\n",
       "  </thead>\n",
       "  <tbody>\n",
       "    <tr>\n",
       "      <th>25</th>\n",
       "      <td>00</td>\n",
       "      <td>1610612763</td>\n",
       "      <td>1995</td>\n",
       "      <td>2018</td>\n",
       "      <td>MEM</td>\n",
       "      <td>23</td>\n",
       "      <td>YOUNG</td>\n",
       "      <td>MEM</td>\n",
       "      <td>grizzlies</td>\n",
       "    </tr>\n",
       "    <tr>\n",
       "      <th>26</th>\n",
       "      <td>00</td>\n",
       "      <td>1610612764</td>\n",
       "      <td>1961</td>\n",
       "      <td>2018</td>\n",
       "      <td>WAS</td>\n",
       "      <td>57</td>\n",
       "      <td>OLD</td>\n",
       "      <td>WAS</td>\n",
       "      <td>wizards</td>\n",
       "    </tr>\n",
       "    <tr>\n",
       "      <th>27</th>\n",
       "      <td>00</td>\n",
       "      <td>1610612765</td>\n",
       "      <td>1948</td>\n",
       "      <td>2018</td>\n",
       "      <td>DET</td>\n",
       "      <td>70</td>\n",
       "      <td>OLD</td>\n",
       "      <td>DET</td>\n",
       "      <td>pistons</td>\n",
       "    </tr>\n",
       "    <tr>\n",
       "      <th>28</th>\n",
       "      <td>00</td>\n",
       "      <td>1610612766</td>\n",
       "      <td>1988</td>\n",
       "      <td>2018</td>\n",
       "      <td>CHA</td>\n",
       "      <td>30</td>\n",
       "      <td>YOUNG</td>\n",
       "      <td>CHA</td>\n",
       "      <td>hornets</td>\n",
       "    </tr>\n",
       "    <tr>\n",
       "      <th>29</th>\n",
       "      <td>00</td>\n",
       "      <td>1610612761</td>\n",
       "      <td>1995</td>\n",
       "      <td>2018</td>\n",
       "      <td>TOR</td>\n",
       "      <td>23</td>\n",
       "      <td>YOUNG</td>\n",
       "      <td>TOR</td>\n",
       "      <td>raptors</td>\n",
       "    </tr>\n",
       "  </tbody>\n",
       "</table>\n",
       "</div>"
      ],
      "text/plain": [
       "   LEAGUE_ID     TEAM_ID  MIN_YEAR  MAX_YEAR ABBREVIATION  TEAM_AGE AGE_GROUP  \\\n",
       "25        00  1610612763      1995      2018          MEM        23     YOUNG   \n",
       "26        00  1610612764      1961      2018          WAS        57       OLD   \n",
       "27        00  1610612765      1948      2018          DET        70       OLD   \n",
       "28        00  1610612766      1988      2018          CHA        30     YOUNG   \n",
       "29        00  1610612761      1995      2018          TOR        23     YOUNG   \n",
       "\n",
       "   TEAM_ABBREVIATION  TEAM_CODE  \n",
       "25               MEM  grizzlies  \n",
       "26               WAS    wizards  \n",
       "27               DET    pistons  \n",
       "28               CHA    hornets  \n",
       "29               TOR    raptors  "
      ]
     },
     "execution_count": 34,
     "metadata": {},
     "output_type": "execute_result"
    }
   ],
   "source": [
    "teams = pd.merge(teams_clean, team_names, left_on='ABBREVIATION', right_on='TEAM_ABBREVIATION')\n",
    "teams.tail()"
   ]
  },
  {
   "cell_type": "markdown",
   "metadata": {
    "colab_type": "text",
    "id": "lj9LVlHKEEYu",
    "slideshow": {
     "slide_type": "slide"
    }
   },
   "source": [
    "We can apply `str` method:"
   ]
  },
  {
   "cell_type": "code",
   "execution_count": 35,
   "metadata": {
    "colab": {},
    "colab_type": "code",
    "id": "ij5_XpXBEEYv",
    "outputId": "da454688-b47a-46dd-bf56-3128a464dd4a",
    "slideshow": {
     "slide_type": "fragment"
    }
   },
   "outputs": [
    {
     "data": {
      "text/html": [
       "<div>\n",
       "<style scoped>\n",
       "    .dataframe tbody tr th:only-of-type {\n",
       "        vertical-align: middle;\n",
       "    }\n",
       "\n",
       "    .dataframe tbody tr th {\n",
       "        vertical-align: top;\n",
       "    }\n",
       "\n",
       "    .dataframe thead th {\n",
       "        text-align: right;\n",
       "    }\n",
       "</style>\n",
       "<table border=\"1\" class=\"dataframe\">\n",
       "  <thead>\n",
       "    <tr style=\"text-align: right;\">\n",
       "      <th></th>\n",
       "      <th>LEAGUE_ID</th>\n",
       "      <th>TEAM_ID</th>\n",
       "      <th>MIN_YEAR</th>\n",
       "      <th>MAX_YEAR</th>\n",
       "      <th>ABBREVIATION</th>\n",
       "      <th>TEAM_AGE</th>\n",
       "      <th>AGE_GROUP</th>\n",
       "      <th>TEAM_ABBREVIATION</th>\n",
       "      <th>TEAM_CODE</th>\n",
       "    </tr>\n",
       "  </thead>\n",
       "  <tbody>\n",
       "    <tr>\n",
       "      <th>0</th>\n",
       "      <td>00</td>\n",
       "      <td>1610612737</td>\n",
       "      <td>1949</td>\n",
       "      <td>2018</td>\n",
       "      <td>ATL</td>\n",
       "      <td>69</td>\n",
       "      <td>OLD</td>\n",
       "      <td>ATL</td>\n",
       "      <td>Hawks</td>\n",
       "    </tr>\n",
       "    <tr>\n",
       "      <th>13</th>\n",
       "      <td>00</td>\n",
       "      <td>1610612751</td>\n",
       "      <td>1976</td>\n",
       "      <td>2018</td>\n",
       "      <td>BKN</td>\n",
       "      <td>42</td>\n",
       "      <td>YOUNG</td>\n",
       "      <td>BKN</td>\n",
       "      <td>Nets</td>\n",
       "    </tr>\n",
       "    <tr>\n",
       "      <th>1</th>\n",
       "      <td>00</td>\n",
       "      <td>1610612738</td>\n",
       "      <td>1946</td>\n",
       "      <td>2018</td>\n",
       "      <td>BOS</td>\n",
       "      <td>72</td>\n",
       "      <td>OLD</td>\n",
       "      <td>BOS</td>\n",
       "      <td>Celtics</td>\n",
       "    </tr>\n",
       "    <tr>\n",
       "      <th>28</th>\n",
       "      <td>00</td>\n",
       "      <td>1610612766</td>\n",
       "      <td>1988</td>\n",
       "      <td>2018</td>\n",
       "      <td>CHA</td>\n",
       "      <td>30</td>\n",
       "      <td>YOUNG</td>\n",
       "      <td>CHA</td>\n",
       "      <td>Hornets</td>\n",
       "    </tr>\n",
       "    <tr>\n",
       "      <th>4</th>\n",
       "      <td>00</td>\n",
       "      <td>1610612741</td>\n",
       "      <td>1966</td>\n",
       "      <td>2018</td>\n",
       "      <td>CHI</td>\n",
       "      <td>52</td>\n",
       "      <td>OLD</td>\n",
       "      <td>CHI</td>\n",
       "      <td>Bulls</td>\n",
       "    </tr>\n",
       "  </tbody>\n",
       "</table>\n",
       "</div>"
      ],
      "text/plain": [
       "   LEAGUE_ID     TEAM_ID  MIN_YEAR  MAX_YEAR ABBREVIATION  TEAM_AGE AGE_GROUP  \\\n",
       "0         00  1610612737      1949      2018          ATL        69       OLD   \n",
       "13        00  1610612751      1976      2018          BKN        42     YOUNG   \n",
       "1         00  1610612738      1946      2018          BOS        72       OLD   \n",
       "28        00  1610612766      1988      2018          CHA        30     YOUNG   \n",
       "4         00  1610612741      1966      2018          CHI        52       OLD   \n",
       "\n",
       "   TEAM_ABBREVIATION TEAM_CODE  \n",
       "0                ATL     Hawks  \n",
       "13               BKN      Nets  \n",
       "1                BOS   Celtics  \n",
       "28               CHA   Hornets  \n",
       "4                CHI     Bulls  "
      ]
     },
     "execution_count": 35,
     "metadata": {},
     "output_type": "execute_result"
    }
   ],
   "source": [
    "teams.TEAM_CODE = teams.TEAM_CODE.str.capitalize() # returns values so needs to be reassigned\n",
    "teams.sort_values('ABBREVIATION', inplace=True)    # modifies object\n",
    "teams.head()"
   ]
  },
  {
   "cell_type": "code",
   "execution_count": 36,
   "metadata": {
    "colab": {},
    "colab_type": "code",
    "id": "F4LbiXxeEEYz",
    "outputId": "8c1b0b59-91e5-45fe-e7dd-237414efb709",
    "slideshow": {
     "slide_type": "fragment"
    }
   },
   "outputs": [
    {
     "data": {
      "text/html": [
       "<div>\n",
       "<style scoped>\n",
       "    .dataframe tbody tr th:only-of-type {\n",
       "        vertical-align: middle;\n",
       "    }\n",
       "\n",
       "    .dataframe tbody tr th {\n",
       "        vertical-align: top;\n",
       "    }\n",
       "\n",
       "    .dataframe thead th {\n",
       "        text-align: right;\n",
       "    }\n",
       "</style>\n",
       "<table border=\"1\" class=\"dataframe\">\n",
       "  <thead>\n",
       "    <tr style=\"text-align: right;\">\n",
       "      <th></th>\n",
       "      <th>PERSON_ID</th>\n",
       "      <th>DISPLAY_LAST_COMMA_FIRST</th>\n",
       "      <th>DISPLAY_FIRST_LAST</th>\n",
       "      <th>ROSTERSTATUS</th>\n",
       "      <th>FROM_YEAR</th>\n",
       "      <th>TO_YEAR</th>\n",
       "      <th>PLAYERCODE</th>\n",
       "      <th>TEAM_ID</th>\n",
       "      <th>TEAM_CITY</th>\n",
       "      <th>TEAM_NAME</th>\n",
       "      <th>TEAM_ABBREVIATION</th>\n",
       "      <th>TEAM_CODE</th>\n",
       "      <th>GAMES_PLAYED_FLAG</th>\n",
       "    </tr>\n",
       "  </thead>\n",
       "  <tbody>\n",
       "    <tr>\n",
       "      <th>9</th>\n",
       "      <td>203518</td>\n",
       "      <td>Abrines, Alex</td>\n",
       "      <td>Alex Abrines</td>\n",
       "      <td>1</td>\n",
       "      <td>2016</td>\n",
       "      <td>2018</td>\n",
       "      <td>alex_abrines</td>\n",
       "      <td>1610612760</td>\n",
       "      <td>Oklahoma City</td>\n",
       "      <td>Thunder</td>\n",
       "      <td>OKC</td>\n",
       "      <td>thunder</td>\n",
       "      <td>Y</td>\n",
       "    </tr>\n",
       "    <tr>\n",
       "      <th>14</th>\n",
       "      <td>203112</td>\n",
       "      <td>Acy, Quincy</td>\n",
       "      <td>Quincy Acy</td>\n",
       "      <td>1</td>\n",
       "      <td>2012</td>\n",
       "      <td>2018</td>\n",
       "      <td>quincy_acy</td>\n",
       "      <td>1610612751</td>\n",
       "      <td>Brooklyn</td>\n",
       "      <td>Nets</td>\n",
       "      <td>BKN</td>\n",
       "      <td>nets</td>\n",
       "      <td>Y</td>\n",
       "    </tr>\n",
       "    <tr>\n",
       "      <th>21</th>\n",
       "      <td>203500</td>\n",
       "      <td>Adams, Steven</td>\n",
       "      <td>Steven Adams</td>\n",
       "      <td>1</td>\n",
       "      <td>2013</td>\n",
       "      <td>2018</td>\n",
       "      <td>steven_adams</td>\n",
       "      <td>1610612760</td>\n",
       "      <td>Oklahoma City</td>\n",
       "      <td>Thunder</td>\n",
       "      <td>OKC</td>\n",
       "      <td>thunder</td>\n",
       "      <td>Y</td>\n",
       "    </tr>\n",
       "    <tr>\n",
       "      <th>23</th>\n",
       "      <td>1628389</td>\n",
       "      <td>Adebayo, Bam</td>\n",
       "      <td>Bam Adebayo</td>\n",
       "      <td>1</td>\n",
       "      <td>2017</td>\n",
       "      <td>2018</td>\n",
       "      <td>bam_adebayo</td>\n",
       "      <td>1610612748</td>\n",
       "      <td>Miami</td>\n",
       "      <td>Heat</td>\n",
       "      <td>MIA</td>\n",
       "      <td>heat</td>\n",
       "      <td>Y</td>\n",
       "    </tr>\n",
       "    <tr>\n",
       "      <th>27</th>\n",
       "      <td>201167</td>\n",
       "      <td>Afflalo, Arron</td>\n",
       "      <td>Arron Afflalo</td>\n",
       "      <td>1</td>\n",
       "      <td>2007</td>\n",
       "      <td>2017</td>\n",
       "      <td>arron_afflalo</td>\n",
       "      <td>1610612753</td>\n",
       "      <td>Orlando</td>\n",
       "      <td>Magic</td>\n",
       "      <td>ORL</td>\n",
       "      <td>magic</td>\n",
       "      <td>Y</td>\n",
       "    </tr>\n",
       "  </tbody>\n",
       "</table>\n",
       "</div>"
      ],
      "text/plain": [
       "    PERSON_ID DISPLAY_LAST_COMMA_FIRST DISPLAY_FIRST_LAST  ROSTERSTATUS  \\\n",
       "9      203518            Abrines, Alex       Alex Abrines             1   \n",
       "14     203112              Acy, Quincy         Quincy Acy             1   \n",
       "21     203500            Adams, Steven       Steven Adams             1   \n",
       "23    1628389             Adebayo, Bam        Bam Adebayo             1   \n",
       "27     201167           Afflalo, Arron      Arron Afflalo             1   \n",
       "\n",
       "   FROM_YEAR TO_YEAR     PLAYERCODE     TEAM_ID      TEAM_CITY TEAM_NAME  \\\n",
       "9       2016    2018   alex_abrines  1610612760  Oklahoma City   Thunder   \n",
       "14      2012    2018     quincy_acy  1610612751       Brooklyn      Nets   \n",
       "21      2013    2018   steven_adams  1610612760  Oklahoma City   Thunder   \n",
       "23      2017    2018    bam_adebayo  1610612748          Miami      Heat   \n",
       "27      2007    2017  arron_afflalo  1610612753        Orlando     Magic   \n",
       "\n",
       "   TEAM_ABBREVIATION TEAM_CODE GAMES_PLAYED_FLAG  \n",
       "9                OKC   thunder                 Y  \n",
       "14               BKN      nets                 Y  \n",
       "21               OKC   thunder                 Y  \n",
       "23               MIA      heat                 Y  \n",
       "27               ORL     magic                 Y  "
      ]
     },
     "execution_count": 36,
     "metadata": {},
     "output_type": "execute_result"
    }
   ],
   "source": [
    "players.head()"
   ]
  },
  {
   "cell_type": "markdown",
   "metadata": {
    "colab_type": "text",
    "id": "0vf7VmPCEEY1",
    "slideshow": {
     "slide_type": "slide"
    }
   },
   "source": [
    "### Indexing\n",
    "\n",
    "There are many different ways to index `Series` and `DataFrames` in pandas: https://pandas.pydata.org/pandas-docs/stable/indexing.html#different-choices-for-indexing.\n",
    "\n",
    "- `.loc` is primarily for using labels and booleans: e.g., column and row indices, comparison operators, etc\n",
    "- `.iloc` is primarily for using integer positions: i.e., like you would matrices"
   ]
  },
  {
   "cell_type": "code",
   "execution_count": 37,
   "metadata": {
    "colab": {},
    "colab_type": "code",
    "id": "rB7NJlVMEEY2",
    "outputId": "3a9b9066-2b38-4c72-b24a-8fbee725b337",
    "slideshow": {
     "slide_type": "fragment"
    }
   },
   "outputs": [
    {
     "data": {
      "text/html": [
       "<div>\n",
       "<style scoped>\n",
       "    .dataframe tbody tr th:only-of-type {\n",
       "        vertical-align: middle;\n",
       "    }\n",
       "\n",
       "    .dataframe tbody tr th {\n",
       "        vertical-align: top;\n",
       "    }\n",
       "\n",
       "    .dataframe thead th {\n",
       "        text-align: right;\n",
       "    }\n",
       "</style>\n",
       "<table border=\"1\" class=\"dataframe\">\n",
       "  <thead>\n",
       "    <tr style=\"text-align: right;\">\n",
       "      <th></th>\n",
       "      <th>LEAGUE_ID</th>\n",
       "      <th>TEAM_ID</th>\n",
       "      <th>MIN_YEAR</th>\n",
       "      <th>MAX_YEAR</th>\n",
       "      <th>ABBREVIATION</th>\n",
       "      <th>TEAM_AGE</th>\n",
       "      <th>AGE_GROUP</th>\n",
       "      <th>TEAM_ABBREVIATION</th>\n",
       "      <th>TEAM_CODE</th>\n",
       "    </tr>\n",
       "  </thead>\n",
       "  <tbody>\n",
       "    <tr>\n",
       "      <th>1</th>\n",
       "      <td>00</td>\n",
       "      <td>1610612738</td>\n",
       "      <td>1946</td>\n",
       "      <td>2018</td>\n",
       "      <td>BOS</td>\n",
       "      <td>72</td>\n",
       "      <td>OLD</td>\n",
       "      <td>BOS</td>\n",
       "      <td>Celtics</td>\n",
       "    </tr>\n",
       "    <tr>\n",
       "      <th>28</th>\n",
       "      <td>00</td>\n",
       "      <td>1610612766</td>\n",
       "      <td>1988</td>\n",
       "      <td>2018</td>\n",
       "      <td>CHA</td>\n",
       "      <td>30</td>\n",
       "      <td>YOUNG</td>\n",
       "      <td>CHA</td>\n",
       "      <td>Hornets</td>\n",
       "    </tr>\n",
       "    <tr>\n",
       "      <th>4</th>\n",
       "      <td>00</td>\n",
       "      <td>1610612741</td>\n",
       "      <td>1966</td>\n",
       "      <td>2018</td>\n",
       "      <td>CHI</td>\n",
       "      <td>52</td>\n",
       "      <td>OLD</td>\n",
       "      <td>CHI</td>\n",
       "      <td>Bulls</td>\n",
       "    </tr>\n",
       "    <tr>\n",
       "      <th>2</th>\n",
       "      <td>00</td>\n",
       "      <td>1610612739</td>\n",
       "      <td>1970</td>\n",
       "      <td>2018</td>\n",
       "      <td>CLE</td>\n",
       "      <td>48</td>\n",
       "      <td>YOUNG</td>\n",
       "      <td>CLE</td>\n",
       "      <td>Cavaliers</td>\n",
       "    </tr>\n",
       "    <tr>\n",
       "      <th>5</th>\n",
       "      <td>00</td>\n",
       "      <td>1610612742</td>\n",
       "      <td>1980</td>\n",
       "      <td>2018</td>\n",
       "      <td>DAL</td>\n",
       "      <td>38</td>\n",
       "      <td>YOUNG</td>\n",
       "      <td>DAL</td>\n",
       "      <td>Mavericks</td>\n",
       "    </tr>\n",
       "  </tbody>\n",
       "</table>\n",
       "</div>"
      ],
      "text/plain": [
       "   LEAGUE_ID     TEAM_ID  MIN_YEAR  MAX_YEAR ABBREVIATION  TEAM_AGE AGE_GROUP  \\\n",
       "1         00  1610612738      1946      2018          BOS        72       OLD   \n",
       "28        00  1610612766      1988      2018          CHA        30     YOUNG   \n",
       "4         00  1610612741      1966      2018          CHI        52       OLD   \n",
       "2         00  1610612739      1970      2018          CLE        48     YOUNG   \n",
       "5         00  1610612742      1980      2018          DAL        38     YOUNG   \n",
       "\n",
       "   TEAM_ABBREVIATION  TEAM_CODE  \n",
       "1                BOS    Celtics  \n",
       "28               CHA    Hornets  \n",
       "4                CHI      Bulls  \n",
       "2                CLE  Cavaliers  \n",
       "5                DAL  Mavericks  "
      ]
     },
     "execution_count": 37,
     "metadata": {},
     "output_type": "execute_result"
    }
   ],
   "source": [
    "temp = teams.head(7).tail()\n",
    "temp"
   ]
  },
  {
   "cell_type": "code",
   "execution_count": 38,
   "metadata": {
    "colab": {},
    "colab_type": "code",
    "id": "DW6sRw4rEEY6",
    "outputId": "cf610080-6e1f-4e66-ce0c-fc19fdede7c7",
    "slideshow": {
     "slide_type": "fragment"
    }
   },
   "outputs": [
    {
     "name": "stdout",
     "output_type": "stream",
     "text": [
      "*** indexing with .iloc:\n",
      " LEAGUE_ID                    00\n",
      "TEAM_ID              1610612741\n",
      "MIN_YEAR                   1966\n",
      "MAX_YEAR                   2018\n",
      "ABBREVIATION                CHI\n",
      "TEAM_AGE                     52\n",
      "AGE_GROUP                   OLD\n",
      "TEAM_ABBREVIATION           CHI\n",
      "TEAM_CODE                 Bulls\n",
      "Name: 4, dtype: object\n",
      "\n",
      "*** indexing with .loc :\n",
      " LEAGUE_ID                    00\n",
      "TEAM_ID              1610612739\n",
      "MIN_YEAR                   1970\n",
      "MAX_YEAR                   2018\n",
      "ABBREVIATION                CLE\n",
      "TEAM_AGE                     48\n",
      "AGE_GROUP                 YOUNG\n",
      "TEAM_ABBREVIATION           CLE\n",
      "TEAM_CODE             Cavaliers\n",
      "Name: 2, dtype: object\n"
     ]
    }
   ],
   "source": [
    "print('*** indexing with .iloc:\\n', temp.iloc[2])\n",
    "print('\\n*** indexing with .loc :\\n', temp.loc[2])"
   ]
  },
  {
   "cell_type": "markdown",
   "metadata": {
    "colab_type": "text",
    "id": "4qgj6B_MEEY8",
    "slideshow": {
     "slide_type": "slide"
    }
   },
   "source": [
    "### Pandas (often) shows you views\n",
    "\n",
    "Recall that python objects are often _views_ of the same instance in memory space. Following says these are the same objects in memory:"
   ]
  },
  {
   "cell_type": "code",
   "execution_count": 39,
   "metadata": {
    "colab": {},
    "colab_type": "code",
    "id": "DOY2fDNaEEY9",
    "outputId": "beecc067-0b34-4d96-e62c-ffeef8481bc9",
    "slideshow": {
     "slide_type": "fragment"
    }
   },
   "outputs": [
    {
     "name": "stdout",
     "output_type": "stream",
     "text": [
      "True\n"
     ]
    }
   ],
   "source": [
    "temp = teams\n",
    "print(id(temp) == id(teams))"
   ]
  },
  {
   "cell_type": "markdown",
   "metadata": {
    "colab_type": "text",
    "id": "3sSDc0gaEEZB",
    "slideshow": {
     "slide_type": "slide"
    }
   },
   "source": [
    "So, if you change one, you see the change in the other:"
   ]
  },
  {
   "cell_type": "code",
   "execution_count": 40,
   "metadata": {
    "colab": {},
    "colab_type": "code",
    "id": "fUxVMwwIEEZC",
    "outputId": "095cc238-a168-4550-d6aa-c4976ca25cee",
    "slideshow": {
     "slide_type": "fragment"
    }
   },
   "outputs": [
    {
     "name": "stdout",
     "output_type": "stream",
     "text": [
      "id of s1: 139666045043432\n",
      "id of s2: 139666045043432\n",
      "s1 is s2: True\n"
     ]
    }
   ],
   "source": [
    "s1 = pd.Series([0.25, 0.5, 0.75, 1.0], index=['a', 'b', 'c', 'd'])\n",
    "s2 = s1\n",
    "print(\"id of s1:\", id(s1))\n",
    "print(\"id of s2:\", id(s2))\n",
    "print(\"s1 is s2:\", s1 is s2)"
   ]
  },
  {
   "cell_type": "code",
   "execution_count": 41,
   "metadata": {
    "colab": {},
    "colab_type": "code",
    "id": "UtzFa420EEZF",
    "outputId": "68ad49c0-a62b-4808-f294-d940fd19bf21",
    "scrolled": true,
    "slideshow": {
     "slide_type": "fragment"
    }
   },
   "outputs": [
    {
     "name": "stdout",
     "output_type": "stream",
     "text": [
      "s1 changed: 10000.0\n",
      "s2 also   : 10000.0\n"
     ]
    }
   ],
   "source": [
    "s1[0] = 10000\n",
    "\n",
    "print(\"s1 changed:\", s1[0])\n",
    "print(\"s2 also   :\", s2[0])"
   ]
  },
  {
   "cell_type": "markdown",
   "metadata": {
    "colab_type": "text",
    "id": "Ij0blD6TEEZH",
    "slideshow": {
     "slide_type": "slide"
    }
   },
   "source": [
    "Needs to be **copied** in order to make independent duplicate"
   ]
  },
  {
   "cell_type": "code",
   "execution_count": 42,
   "metadata": {
    "colab": {},
    "colab_type": "code",
    "id": "METLEDjeEEZI",
    "slideshow": {
     "slide_type": "fragment"
    }
   },
   "outputs": [],
   "source": [
    "abbr = teams.ABBREVIATION.copy()"
   ]
  }
 ],
 "metadata": {
  "colab": {
   "name": "Copy of 04-Pandas-Data-Frame-checkpoint.ipynb",
   "provenance": [],
   "version": "0.3.2"
  },
  "kernelspec": {
   "display_name": "Python 3",
   "language": "python",
   "name": "python3"
  },
  "language_info": {
   "codemirror_mode": {
    "name": "ipython",
    "version": 3
   },
   "file_extension": ".py",
   "mimetype": "text/x-python",
   "name": "python",
   "nbconvert_exporter": "python",
   "pygments_lexer": "ipython3",
   "version": "3.7.3"
  }
 },
 "nbformat": 4,
 "nbformat_minor": 1
}
