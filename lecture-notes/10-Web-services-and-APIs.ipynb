{
 "cells": [
  {
   "cell_type": "markdown",
   "metadata": {
    "slideshow": {
     "slide_type": "slide"
    }
   },
   "source": [
    "#  Web Services, Data Interfaces, and Interactivity"
   ]
  },
  {
   "cell_type": "markdown",
   "metadata": {
    "slideshow": {
     "slide_type": "slide"
    }
   },
   "source": [
    "## Yelp API\n",
    "\n",
    "- [Yelp](https://www.yelp.com) API allows interactions with their data"
   ]
  },
  {
   "cell_type": "markdown",
   "metadata": {
    "slideshow": {
     "slide_type": "fragment"
    }
   },
   "source": [
    "- Table of [endpoints](https://www.yelp.com/developers/documentation/v3/get_started)"
   ]
  },
  {
   "cell_type": "markdown",
   "metadata": {
    "slideshow": {
     "slide_type": "fragment"
    }
   },
   "source": [
    "- For example, [`business_search`](https://www.yelp.com/developers/documentation/v3/business_search) endpoint:  \n",
    "    _Search for businesses by keyword, category, location, price level, etc._"
   ]
  },
  {
   "cell_type": "markdown",
   "metadata": {
    "slideshow": {
     "slide_type": "slide"
    }
   },
   "source": [
    "## Yelp API\n",
    "\n",
    "- Accessing Yelp API require a key"
   ]
  },
  {
   "cell_type": "markdown",
   "metadata": {
    "slideshow": {
     "slide_type": "fragment"
    }
   },
   "source": [
    "- API keys can be thought of your web application's login information"
   ]
  },
  {
   "cell_type": "markdown",
   "metadata": {
    "slideshow": {
     "slide_type": "fragment"
    }
   },
   "source": [
    "- Create your login and API key [here](https://www.yelp.com/developers/v3/manage_app)"
   ]
  },
  {
   "cell_type": "markdown",
   "metadata": {
    "slideshow": {
     "slide_type": "fragment"
    }
   },
   "source": [
    "- Usually API keys can be revoked; however, still need care\n",
    "    e.g., do not store it on a public github repository!"
   ]
  },
  {
   "cell_type": "markdown",
   "metadata": {
    "slideshow": {
     "slide_type": "fragment"
    }
   },
   "source": [
    "- Personal preference: create external file and load as module: `myapikeys.py`"
   ]
  },
  {
   "cell_type": "markdown",
   "metadata": {
    "slideshow": {
     "slide_type": "slide"
    }
   },
   "source": [
    "## Yelp API\n",
    "\n",
    "- Yelp offers python package: [github](https://github.com/Yelp/yelp-fusion#code-samples)"
   ]
  },
  {
   "cell_type": "markdown",
   "metadata": {
    "slideshow": {
     "slide_type": "fragment"
    }
   },
   "source": [
    "- Other languages available (often is the case)"
   ]
  },
  {
   "cell_type": "markdown",
   "metadata": {
    "slideshow": {
     "slide_type": "fragment"
    }
   },
   "source": [
    "- Simplifies interaction with Yelp: e.g., you don't have to construct a GET URL string and use `wget`!"
   ]
  },
  {
   "cell_type": "markdown",
   "metadata": {
    "slideshow": {
     "slide_type": "fragment"
    }
   },
   "source": [
    "- [Interface libraries](https://github.com/Yelp/yelp-fusion/tree/master/fusion) for different backends"
   ]
  },
  {
   "cell_type": "markdown",
   "metadata": {
    "slideshow": {
     "slide_type": "fragment"
    }
   },
   "source": [
    "- [Yelp python example](https://github.com/Yelp/yelp-fusion/blob/master/fusion/python/sample.py) for accessing Yelp's data"
   ]
  },
  {
   "cell_type": "code",
   "execution_count": 1,
   "metadata": {
    "slideshow": {
     "slide_type": "slide"
    }
   },
   "outputs": [
    {
     "name": "stdout",
     "output_type": "stream",
     "text": [
      "File ‘sample.py’ already there; not retrieving.\r\n",
      "\r\n"
     ]
    }
   ],
   "source": [
    "## https://github.com/Yelp/yelp-fusion/blob/master/fusion/python/sample.py\n",
    "!wget -nc https://raw.githubusercontent.com/Yelp/yelp-fusion/master/fusion/python/sample.py\n",
    "import sample as s"
   ]
  },
  {
   "cell_type": "markdown",
   "metadata": {
    "slideshow": {
     "slide_type": "slide"
    }
   },
   "source": [
    "- Note the functions calling `requests.request('GET', url, ...)`\n",
    "\n",
    "- This line is what `wget` does but with python functions\n",
    "\n",
    "- Let's search for \"restaurants\" in \"isla vista, ca\""
   ]
  },
  {
   "cell_type": "code",
   "execution_count": 2,
   "metadata": {
    "slideshow": {
     "slide_type": "slide"
    }
   },
   "outputs": [
    {
     "name": "stdout",
     "output_type": "stream",
     "text": [
      "Querying https://api.yelp.com/v3/businesses/search ...\n",
      "3 businesses found, querying business info for the top result \"Gg2ZHe57Ztuv8JaFj0mNhw\" ...\n",
      "Querying https://api.yelp.com/v3/businesses/Gg2ZHe57Ztuv8JaFj0mNhw ...\n",
      "Result for business \"Gg2ZHe57Ztuv8JaFj0mNhw\" found:\n",
      "{ 'alias': 'buddha-bowls-isla-vista',\n",
      "  'categories': [ {'alias': 'newamerican', 'title': 'American (New)'},\n",
      "                  {'alias': 'gourmet', 'title': 'Specialty Food'}],\n",
      "  'coordinates': {'latitude': 34.41293, 'longitude': -119.85731},\n",
      "  'display_phone': '(805) 961-4555',\n",
      "  'hours': [ { 'hours_type': 'REGULAR',\n",
      "               'is_open_now': True,\n",
      "               'open': [ { 'day': 0,\n",
      "                           'end': '2200',\n",
      "                           'is_overnight': False,\n",
      "                           'start': '0800'},\n",
      "                         { 'day': 1,\n",
      "                           'end': '2200',\n",
      "                           'is_overnight': False,\n",
      "                           'start': '0800'},\n",
      "                         { 'day': 2,\n",
      "                           'end': '2200',\n",
      "                           'is_overnight': False,\n",
      "                           'start': '0800'},\n",
      "                         { 'day': 3,\n",
      "                           'end': '0000',\n",
      "                           'is_overnight': False,\n",
      "                           'start': '0800'},\n",
      "                         { 'day': 4,\n",
      "                           'end': '0200',\n",
      "                           'is_overnight': True,\n",
      "                           'start': '0800'},\n",
      "                         { 'day': 5,\n",
      "                           'end': '0200',\n",
      "                           'is_overnight': True,\n",
      "                           'start': '0800'},\n",
      "                         { 'day': 6,\n",
      "                           'end': '2200',\n",
      "                           'is_overnight': False,\n",
      "                           'start': '0800'}]}],\n",
      "  'id': 'Gg2ZHe57Ztuv8JaFj0mNhw',\n",
      "  'image_url': 'https://s3-media4.fl.yelpcdn.com/bphoto/ZnqkHtvjyNX1U4IuK4OwnQ/o.jpg',\n",
      "  'is_claimed': True,\n",
      "  'is_closed': False,\n",
      "  'location': { 'address1': '901 Embarcadero Del Mar',\n",
      "                'address2': '',\n",
      "                'address3': '',\n",
      "                'city': 'Isla Vista',\n",
      "                'country': 'US',\n",
      "                'cross_streets': '',\n",
      "                'display_address': [ '901 Embarcadero Del Mar',\n",
      "                                     'Isla Vista, CA 93117'],\n",
      "                'state': 'CA',\n",
      "                'zip_code': '93117'},\n",
      "  'name': 'Buddha Bowls',\n",
      "  'phone': '+18059614555',\n",
      "  'photos': [ 'https://s3-media4.fl.yelpcdn.com/bphoto/ZnqkHtvjyNX1U4IuK4OwnQ/o.jpg',\n",
      "              'https://s3-media1.fl.yelpcdn.com/bphoto/XWirc-KqOR6MJUxjvx43Hw/o.jpg',\n",
      "              'https://s3-media3.fl.yelpcdn.com/bphoto/tjyNx6kn_HcegDjb6pKqxg/o.jpg'],\n",
      "  'price': '$$',\n",
      "  'rating': 4.5,\n",
      "  'review_count': 229,\n",
      "  'transactions': ['delivery', 'pickup'],\n",
      "  'url': 'https://www.yelp.com/biz/buddha-bowls-isla-vista?adjust_creative=F-sO9nAoCoJ039bk7YJunw&utm_campaign=yelp_api_v3&utm_medium=api_v3_business_lookup&utm_source=F-sO9nAoCoJ039bk7YJunw'}\n"
     ]
    }
   ],
   "source": [
    "import myapikeys as m\n",
    "import imp\n",
    "imp.reload(m)\n",
    "\n",
    "## API key is needed\n",
    "s.API_KEY = m.apikeys['yelp']\n",
    "s.query_api('restaurants','isla vista, ca')"
   ]
  },
  {
   "cell_type": "code",
   "execution_count": 3,
   "metadata": {
    "slideshow": {
     "slide_type": "slide"
    }
   },
   "outputs": [
    {
     "name": "stdout",
     "output_type": "stream",
     "text": [
      "Querying https://api.yelp.com/v3/businesses/search ...\n"
     ]
    },
    {
     "data": {
      "text/plain": [
       "{'businesses': [{'id': 'PNVbv2kyUIHeJTDPis2gRg',\n",
       "   'alias': 'los-agaves-goleta-3',\n",
       "   'name': 'Los Agaves',\n",
       "   'image_url': 'https://s3-media1.fl.yelpcdn.com/bphoto/D1mYLRE9cVny7YShlCNJWQ/o.jpg',\n",
       "   'is_closed': False,\n",
       "   'url': 'https://www.yelp.com/biz/los-agaves-goleta-3?adjust_creative=F-sO9nAoCoJ039bk7YJunw&utm_campaign=yelp_api_v3&utm_medium=api_v3_business_search&utm_source=F-sO9nAoCoJ039bk7YJunw',\n",
       "   'review_count': 337,\n",
       "   'categories': [{'alias': 'mexican', 'title': 'Mexican'},\n",
       "    {'alias': 'bars', 'title': 'Bars'}],\n",
       "   'rating': 4.0,\n",
       "   'coordinates': {'latitude': 34.4295328259392,\n",
       "    'longitude': -119.872238849032},\n",
       "   'transactions': ['pickup', 'delivery'],\n",
       "   'price': '$$',\n",
       "   'location': {'address1': '7024 Market Pl Dr',\n",
       "    'address2': '',\n",
       "    'address3': '',\n",
       "    'city': 'Goleta',\n",
       "    'zip_code': '93117',\n",
       "    'country': 'US',\n",
       "    'state': 'CA',\n",
       "    'display_address': ['7024 Market Pl Dr', 'Goleta, CA 93117']},\n",
       "   'phone': '+18059684000',\n",
       "   'display_phone': '(805) 968-4000',\n",
       "   'distance': 2580.560221463649},\n",
       "  {'id': 'dsNKRi0XlMm7JOWbVk0Nvw',\n",
       "   'alias': 'vicentas-mexican-cuisine-goleta',\n",
       "   'name': 'Vicentas Mexican Cuisine',\n",
       "   'image_url': 'https://s3-media1.fl.yelpcdn.com/bphoto/nts6w9VDZlg8fS89SpxiEw/o.jpg',\n",
       "   'is_closed': False,\n",
       "   'url': 'https://www.yelp.com/biz/vicentas-mexican-cuisine-goleta?adjust_creative=F-sO9nAoCoJ039bk7YJunw&utm_campaign=yelp_api_v3&utm_medium=api_v3_business_search&utm_source=F-sO9nAoCoJ039bk7YJunw',\n",
       "   'review_count': 94,\n",
       "   'categories': [{'alias': 'mexican', 'title': 'Mexican'}],\n",
       "   'rating': 4.0,\n",
       "   'coordinates': {'latitude': 34.429528, 'longitude': -119.870105},\n",
       "   'transactions': [],\n",
       "   'price': '$$',\n",
       "   'location': {'address1': '6920 Market Place Dr',\n",
       "    'address2': None,\n",
       "    'address3': '',\n",
       "    'city': 'Goleta',\n",
       "    'zip_code': '93117',\n",
       "    'country': 'US',\n",
       "    'state': 'CA',\n",
       "    'display_address': ['6920 Market Place Dr', 'Goleta, CA 93117']},\n",
       "   'phone': '+18058378430',\n",
       "   'display_phone': '(805) 837-8430',\n",
       "   'distance': 2394.438889401235},\n",
       "  {'id': 'YXKot5TH9MhC4khAn0JC3w',\n",
       "   'alias': 'altamiranos-mexican-grill-goleta',\n",
       "   'name': \"Altamirano's Mexican Grill\",\n",
       "   'image_url': 'https://s3-media1.fl.yelpcdn.com/bphoto/OPNq4zgc5eCctmDZpXfQ9Q/o.jpg',\n",
       "   'is_closed': False,\n",
       "   'url': 'https://www.yelp.com/biz/altamiranos-mexican-grill-goleta?adjust_creative=F-sO9nAoCoJ039bk7YJunw&utm_campaign=yelp_api_v3&utm_medium=api_v3_business_search&utm_source=F-sO9nAoCoJ039bk7YJunw',\n",
       "   'review_count': 82,\n",
       "   'categories': [{'alias': 'mexican', 'title': 'Mexican'}],\n",
       "   'rating': 4.0,\n",
       "   'coordinates': {'latitude': 34.43611, 'longitude': -119.8275},\n",
       "   'transactions': ['pickup', 'delivery'],\n",
       "   'price': '$',\n",
       "   'location': {'address1': '5838 Hollister Ave',\n",
       "    'address2': '',\n",
       "    'address3': '',\n",
       "    'city': 'Goleta',\n",
       "    'zip_code': '93117',\n",
       "    'country': 'US',\n",
       "    'state': 'CA',\n",
       "    'display_address': ['5838 Hollister Ave', 'Goleta, CA 93117']},\n",
       "   'phone': '+18056813292',\n",
       "   'display_phone': '(805) 681-3292',\n",
       "   'distance': 1585.1045061669438},\n",
       "  {'id': 'LlGIlNJE2Nv_PXkH7l4Wmg',\n",
       "   'alias': 'lillys-tacos-goleta',\n",
       "   'name': \"Lilly's Tacos\",\n",
       "   'image_url': 'https://s3-media2.fl.yelpcdn.com/bphoto/m3OZCuvtEyRtpQKHfWQpeQ/o.jpg',\n",
       "   'is_closed': False,\n",
       "   'url': 'https://www.yelp.com/biz/lillys-tacos-goleta?adjust_creative=F-sO9nAoCoJ039bk7YJunw&utm_campaign=yelp_api_v3&utm_medium=api_v3_business_search&utm_source=F-sO9nAoCoJ039bk7YJunw',\n",
       "   'review_count': 420,\n",
       "   'categories': [{'alias': 'mexican', 'title': 'Mexican'}],\n",
       "   'rating': 4.5,\n",
       "   'coordinates': {'latitude': 34.4284945187397,\n",
       "    'longitude': -119.869085925209},\n",
       "   'transactions': [],\n",
       "   'price': '$',\n",
       "   'location': {'address1': '290 Storke Rd',\n",
       "    'address2': 'Ste D',\n",
       "    'address3': '',\n",
       "    'city': 'Goleta',\n",
       "    'zip_code': '93117',\n",
       "    'country': 'US',\n",
       "    'state': 'CA',\n",
       "    'display_address': ['290 Storke Rd', 'Ste D', 'Goleta, CA 93117']},\n",
       "   'phone': '+18058459180',\n",
       "   'display_phone': '(805) 845-9180',\n",
       "   'distance': 2314.770845694272},\n",
       "  {'id': '6kPHr6gZaU9732ptn9gJrA',\n",
       "   'alias': 'la-guerrerita-mexican-restaurant-goleta',\n",
       "   'name': 'La Guerrerita Mexican Restaurant',\n",
       "   'image_url': 'https://s3-media3.fl.yelpcdn.com/bphoto/8pZyTTPN765eHTtF1Sl8ig/o.jpg',\n",
       "   'is_closed': False,\n",
       "   'url': 'https://www.yelp.com/biz/la-guerrerita-mexican-restaurant-goleta?adjust_creative=F-sO9nAoCoJ039bk7YJunw&utm_campaign=yelp_api_v3&utm_medium=api_v3_business_search&utm_source=F-sO9nAoCoJ039bk7YJunw',\n",
       "   'review_count': 76,\n",
       "   'categories': [{'alias': 'mexican', 'title': 'Mexican'},\n",
       "    {'alias': 'breakfast_brunch', 'title': 'Breakfast & Brunch'}],\n",
       "   'rating': 4.0,\n",
       "   'coordinates': {'latitude': 34.43597, 'longitude': -119.82299},\n",
       "   'transactions': [],\n",
       "   'price': '$',\n",
       "   'location': {'address1': '5698 Hollister Ave',\n",
       "    'address2': 'Ste a',\n",
       "    'address3': '',\n",
       "    'city': 'Goleta',\n",
       "    'zip_code': '93117',\n",
       "    'country': 'US',\n",
       "    'state': 'CA',\n",
       "    'display_address': ['5698 Hollister Ave', 'Ste a', 'Goleta, CA 93117']},\n",
       "   'phone': '+18059643136',\n",
       "   'display_phone': '(805) 964-3136',\n",
       "   'distance': 1985.6108998029165},\n",
       "  {'id': 'l7NDxnGzb6z2_H08rtfS0w',\n",
       "   'alias': 'la-hacienda-mexican-restaurant-goleta',\n",
       "   'name': 'La Hacienda Mexican Restaurant',\n",
       "   'image_url': 'https://s3-media2.fl.yelpcdn.com/bphoto/ZGI_tJJoh9ikDUfkXtg2UA/o.jpg',\n",
       "   'is_closed': False,\n",
       "   'url': 'https://www.yelp.com/biz/la-hacienda-mexican-restaurant-goleta?adjust_creative=F-sO9nAoCoJ039bk7YJunw&utm_campaign=yelp_api_v3&utm_medium=api_v3_business_search&utm_source=F-sO9nAoCoJ039bk7YJunw',\n",
       "   'review_count': 39,\n",
       "   'categories': [{'alias': 'mexican', 'title': 'Mexican'}],\n",
       "   'rating': 4.0,\n",
       "   'coordinates': {'latitude': 34.4350585466275,\n",
       "    'longitude': -119.826445542276},\n",
       "   'transactions': [],\n",
       "   'price': '$$',\n",
       "   'location': {'address1': '298 Pine Ave',\n",
       "    'address2': '',\n",
       "    'address3': None,\n",
       "    'city': 'Goleta',\n",
       "    'zip_code': '93117',\n",
       "    'country': 'US',\n",
       "    'state': 'CA',\n",
       "    'display_address': ['298 Pine Ave', 'Goleta, CA 93117']},\n",
       "   'phone': '+18057708488',\n",
       "   'display_phone': '(805) 770-8488',\n",
       "   'distance': 1664.29456991097},\n",
       "  {'id': 'c1tH5Btm_f7SQ-6ju22wag',\n",
       "   'alias': 'pollofino-goleta-2',\n",
       "   'name': \"Pollofino's\",\n",
       "   'image_url': 'https://s3-media4.fl.yelpcdn.com/bphoto/veHhQpPrMwaWL7932IEggA/o.jpg',\n",
       "   'is_closed': False,\n",
       "   'url': 'https://www.yelp.com/biz/pollofino-goleta-2?adjust_creative=F-sO9nAoCoJ039bk7YJunw&utm_campaign=yelp_api_v3&utm_medium=api_v3_business_search&utm_source=F-sO9nAoCoJ039bk7YJunw',\n",
       "   'review_count': 104,\n",
       "   'categories': [{'alias': 'mexican', 'title': 'Mexican'}],\n",
       "   'rating': 4.0,\n",
       "   'coordinates': {'latitude': 34.429399, 'longitude': -119.867064},\n",
       "   'transactions': ['pickup'],\n",
       "   'price': '$',\n",
       "   'location': {'address1': '6831 Hollister Ave',\n",
       "    'address2': '',\n",
       "    'address3': '',\n",
       "    'city': 'Goleta',\n",
       "    'zip_code': '93117',\n",
       "    'country': 'US',\n",
       "    'state': 'CA',\n",
       "    'display_address': ['6831 Hollister Ave', 'Goleta, CA 93117']},\n",
       "   'phone': '+18056851141',\n",
       "   'display_phone': '(805) 685-1141',\n",
       "   'distance': 2113.800895042349},\n",
       "  {'id': 'A263bVzMdU_-TIMhewOrjQ',\n",
       "   'alias': 'domingos-cafe-goleta',\n",
       "   'name': \"Domingo's Cafe\",\n",
       "   'image_url': 'https://s3-media1.fl.yelpcdn.com/bphoto/G3UddiSObggRQSybxdHusg/o.jpg',\n",
       "   'is_closed': False,\n",
       "   'url': 'https://www.yelp.com/biz/domingos-cafe-goleta?adjust_creative=F-sO9nAoCoJ039bk7YJunw&utm_campaign=yelp_api_v3&utm_medium=api_v3_business_search&utm_source=F-sO9nAoCoJ039bk7YJunw',\n",
       "   'review_count': 196,\n",
       "   'categories': [{'alias': 'breakfast_brunch', 'title': 'Breakfast & Brunch'},\n",
       "    {'alias': 'tradamerican', 'title': 'American (Traditional)'},\n",
       "    {'alias': 'mexican', 'title': 'Mexican'}],\n",
       "   'rating': 4.0,\n",
       "   'coordinates': {'latitude': 34.4359326, 'longitude': -119.8259593},\n",
       "   'transactions': [],\n",
       "   'price': '$$',\n",
       "   'location': {'address1': '5782 Hollister Ave',\n",
       "    'address2': '',\n",
       "    'address3': '',\n",
       "    'city': 'Goleta',\n",
       "    'zip_code': '93117',\n",
       "    'country': 'US',\n",
       "    'state': 'CA',\n",
       "    'display_address': ['5782 Hollister Ave', 'Goleta, CA 93117']},\n",
       "   'phone': '+18059670655',\n",
       "   'display_phone': '(805) 967-0655',\n",
       "   'distance': 1723.775166199183},\n",
       "  {'id': 'Pf_7rI6TnV8M_btOBBLg5w',\n",
       "   'alias': 'el-sitio-goleta',\n",
       "   'name': 'El Sitio',\n",
       "   'image_url': 'https://s3-media1.fl.yelpcdn.com/bphoto/F2wqw4-t3H3NPs_P7fYwEA/o.jpg',\n",
       "   'is_closed': False,\n",
       "   'url': 'https://www.yelp.com/biz/el-sitio-goleta?adjust_creative=F-sO9nAoCoJ039bk7YJunw&utm_campaign=yelp_api_v3&utm_medium=api_v3_business_search&utm_source=F-sO9nAoCoJ039bk7YJunw',\n",
       "   'review_count': 50,\n",
       "   'categories': [{'alias': 'mexican', 'title': 'Mexican'}],\n",
       "   'rating': 4.0,\n",
       "   'coordinates': {'latitude': 34.4328449, 'longitude': -119.8842221},\n",
       "   'transactions': [],\n",
       "   'price': '$',\n",
       "   'location': {'address1': '7398 Calle Real',\n",
       "    'address2': '',\n",
       "    'address3': '',\n",
       "    'city': 'Goleta',\n",
       "    'zip_code': '93117',\n",
       "    'country': 'US',\n",
       "    'state': 'CA',\n",
       "    'display_address': ['7398 Calle Real', 'Goleta, CA 93117']},\n",
       "   'phone': '+18056854888',\n",
       "   'display_phone': '(805) 685-4888',\n",
       "   'distance': 3695.3226212654995},\n",
       "  {'id': 'iT78kOB6Ja3BJQdYipPa5g',\n",
       "   'alias': 'los-arroyos-mexican-restaurant-and-take-out-goleta-goleta-3',\n",
       "   'name': 'Los Arroyos Mexican Restaurant & Take Out - Goleta',\n",
       "   'image_url': 'https://s3-media2.fl.yelpcdn.com/bphoto/eZ3FC9gh4XzxQLi978AozQ/o.jpg',\n",
       "   'is_closed': False,\n",
       "   'url': 'https://www.yelp.com/biz/los-arroyos-mexican-restaurant-and-take-out-goleta-goleta-3?adjust_creative=F-sO9nAoCoJ039bk7YJunw&utm_campaign=yelp_api_v3&utm_medium=api_v3_business_search&utm_source=F-sO9nAoCoJ039bk7YJunw',\n",
       "   'review_count': 10,\n",
       "   'categories': [{'alias': 'mexican', 'title': 'Mexican'},\n",
       "    {'alias': 'breakfast_brunch', 'title': 'Breakfast & Brunch'}],\n",
       "   'rating': 3.5,\n",
       "   'coordinates': {'latitude': 34.441445, 'longitude': -119.8251323},\n",
       "   'transactions': ['pickup', 'delivery'],\n",
       "   'location': {'address1': '5764 Calle Real',\n",
       "    'address2': None,\n",
       "    'address3': '',\n",
       "    'city': 'Goleta',\n",
       "    'zip_code': '93117',\n",
       "    'country': 'US',\n",
       "    'state': 'CA',\n",
       "    'display_address': ['5764 Calle Real', 'Goleta, CA 93117']},\n",
       "   'phone': '+18057708209',\n",
       "   'display_phone': '(805) 770-8209',\n",
       "   'distance': 2012.3679700600662}],\n",
       " 'total': 52,\n",
       " 'region': {'center': {'longitude': -119.8443603515625,\n",
       "   'latitude': 34.43267126429335}}}"
      ]
     },
     "execution_count": 3,
     "metadata": {},
     "output_type": "execute_result"
    }
   ],
   "source": [
    "s.SEARCH_LIMIT = 10 ## otherwise defaults to 3 results\n",
    "out = s.search(s.API_KEY, 'mexican', 'goleta, ca');\n",
    "out"
   ]
  },
  {
   "cell_type": "markdown",
   "metadata": {
    "slideshow": {
     "slide_type": "slide"
    }
   },
   "source": [
    "## Custom package: FRED API\n",
    "\n",
    "- [Federal Reserve Economic Data (FRED)](https://fred.stlouisfed.org/) provides extensive economic data. "
   ]
  },
  {
   "cell_type": "markdown",
   "metadata": {
    "slideshow": {
     "slide_type": "fragment"
    }
   },
   "source": [
    "- [API documentation](https://research.stlouisfed.org/docs/api/) including other offerings"
   ]
  },
  {
   "cell_type": "markdown",
   "metadata": {
    "slideshow": {
     "slide_type": "fragment"
    }
   },
   "source": [
    "- [GeoFRED](https://geofred.stlouisfed.org/) geographical economic data"
   ]
  },
  {
   "cell_type": "markdown",
   "metadata": {
    "slideshow": {
     "slide_type": "fragment"
    }
   },
   "source": [
    "- [FRED documentation](https://research.stlouisfed.org/docs/api/fred): Multiple languages available"
   ]
  },
  {
   "cell_type": "markdown",
   "metadata": {
    "slideshow": {
     "slide_type": "fragment"
    }
   },
   "source": [
    "- [Third-party python package for FRED](https://github.com/avelkoski/FRB)  \n",
    "    To install `pip install FRB` "
   ]
  },
  {
   "cell_type": "code",
   "execution_count": 4,
   "metadata": {
    "slideshow": {
     "slide_type": "slide"
    }
   },
   "outputs": [
    {
     "name": "stdout",
     "output_type": "stream",
     "text": [
      "Requirement already satisfied: FRB in /opt/conda/lib/python3.6/site-packages (1.1.4)\r\n",
      "Requirement already satisfied: pandas in /opt/conda/lib/python3.6/site-packages (from FRB) (0.24.2)\r\n",
      "Requirement already satisfied: python-dateutil>=2.5.0 in /opt/conda/lib/python3.6/site-packages (from pandas->FRB) (2.8.0)\r\n",
      "Requirement already satisfied: numpy>=1.12.0 in /opt/conda/lib/python3.6/site-packages (from pandas->FRB) (1.16.2)\r\n",
      "Requirement already satisfied: pytz>=2011k in /opt/conda/lib/python3.6/site-packages (from pandas->FRB) (2018.9)\r\n",
      "Requirement already satisfied: six>=1.5 in /opt/conda/lib/python3.6/site-packages (from python-dateutil>=2.5.0->pandas->FRB) (1.12.0)\r\n"
     ]
    }
   ],
   "source": [
    "## install directly from github\n",
    "# !pip install git+https://github.com/avelkoski/FRB \n",
    "## install from PyPI - https://pypi.org/project/FRB/\n",
    "!pip install FRB "
   ]
  },
  {
   "cell_type": "markdown",
   "metadata": {
    "slideshow": {
     "slide_type": "slide"
    }
   },
   "source": [
    "- After installing API library and optaining an API key, data can be retrieved"
   ]
  },
  {
   "cell_type": "markdown",
   "metadata": {
    "slideshow": {
     "slide_type": "fragment"
    }
   },
   "source": [
    "- [Endpoint documentation](https://research.stlouisfed.org/docs/api/fred/)"
   ]
  },
  {
   "cell_type": "markdown",
   "metadata": {
    "slideshow": {
     "slide_type": "fragment"
    }
   },
   "source": [
    "- For example, [this page](https://research.stlouisfed.org/docs/api/fred/category_series.html)"
   ]
  },
  {
   "cell_type": "code",
   "execution_count": 5,
   "metadata": {
    "slideshow": {
     "slide_type": "fragment"
    }
   },
   "outputs": [
    {
     "name": "stdout",
     "output_type": "stream",
     "text": [
      "{'frequency': 'Monthly', 'frequency_short': 'M', 'group_popularity': 27, 'id': 'AITGCBN', 'last_updated': Timestamp('2019-02-27 13:46:02'), 'notes': 'This advance estimate represents the current month statistics of nearly complete coverage. The current month statistics reflecting complete coverage is available on the Census website at the U.S. International Trade in Goods and Services report (FT-900) https://www.census.gov/foreign-trade/statistics/historical/index.html \\n\\nFor more information on data collection and methodology, see https://www.census.gov/econ/indicators/methodology.html', 'observation_end': Timestamp('2018-12-01 00:00:00'), 'observation_start': Timestamp('2018-12-01 00:00:00'), 'popularity': 5, 'realtime_end': Timestamp('2019-04-30 00:00:00'), 'realtime_start': Timestamp('2019-04-30 00:00:00'), 'seasonal_adjustment': 'Not Seasonally Adjusted', 'seasonal_adjustment_short': 'NSA', 'title': 'Advance U.S. International Trade in Goods: Balance', 'units': 'Millions of Dollars', 'units_short': 'Mil. of $'}\n",
      "{'frequency': 'Monthly', 'frequency_short': 'M', 'group_popularity': 27, 'id': 'AITGCBS', 'last_updated': Timestamp('2019-02-27 13:46:02'), 'notes': 'This advance estimate represents the current month statistics of nearly complete coverage. The current month statistics reflecting complete coverage is available on the Census website at the U.S. International Trade in Goods and Services report (FT-900) https://www.census.gov/foreign-trade/statistics/historical/index.html, the corresponding series in FRED is at https://fred.stlouisfed.org/series/BOPGTB \\n\\nFor more information on data collection and methodology, see https://www.census.gov/econ/indicators/methodology.html', 'observation_end': Timestamp('2018-12-01 00:00:00'), 'observation_start': Timestamp('2018-12-01 00:00:00'), 'popularity': 25, 'realtime_end': Timestamp('2019-04-30 00:00:00'), 'realtime_start': Timestamp('2019-04-30 00:00:00'), 'seasonal_adjustment': 'Seasonally Adjusted', 'seasonal_adjustment_short': 'SA', 'title': 'Advance U.S. International Trade in Goods: Balance', 'units': 'Millions of Dollars', 'units_short': 'Mil. of $'}\n"
     ]
    },
    {
     "name": "stderr",
     "output_type": "stream",
     "text": [
      "/opt/conda/lib/python3.6/site-packages/fred/helpers/__init__.py:36: FutureWarning: convert_objects is deprecated.  To re-infer data dtypes for object columns, use DataFrame.infer_objects()\n",
      "For all other conversions use the data-type specific converters pd.to_datetime, pd.to_timedelta and pd.to_numeric.\n",
      "  frame = frame.convert_objects(convert_numeric=True)\n"
     ]
    }
   ],
   "source": [
    "from fred import Fred\n",
    "fr = Fred(api_key=m.apikeys['fred'], response_type='dict')\n",
    "\n",
    "params = {\n",
    "    'limit':2,\n",
    "    'tag_names':'trade;goods'\n",
    "}\n",
    "\n",
    "res = fr.category.series(125,params=params)\n",
    "\n",
    "for record in res:\n",
    "    print(record)"
   ]
  },
  {
   "cell_type": "markdown",
   "metadata": {
    "slideshow": {
     "slide_type": "slide"
    }
   },
   "source": [
    "- Download real gross domestic product series"
   ]
  },
  {
   "cell_type": "code",
   "execution_count": 6,
   "metadata": {
    "slideshow": {
     "slide_type": "fragment"
    }
   },
   "outputs": [
    {
     "data": {
      "text/html": [
       "<div>\n",
       "<style scoped>\n",
       "    .dataframe tbody tr th:only-of-type {\n",
       "        vertical-align: middle;\n",
       "    }\n",
       "\n",
       "    .dataframe tbody tr th {\n",
       "        vertical-align: top;\n",
       "    }\n",
       "\n",
       "    .dataframe thead th {\n",
       "        text-align: right;\n",
       "    }\n",
       "</style>\n",
       "<table border=\"1\" class=\"dataframe\">\n",
       "  <thead>\n",
       "    <tr style=\"text-align: right;\">\n",
       "      <th></th>\n",
       "      <th>date</th>\n",
       "      <th>realtime_end</th>\n",
       "      <th>realtime_start</th>\n",
       "      <th>value</th>\n",
       "    </tr>\n",
       "  </thead>\n",
       "  <tbody>\n",
       "    <tr>\n",
       "      <th>0</th>\n",
       "      <td>1947-04-01</td>\n",
       "      <td>2018-01-01</td>\n",
       "      <td>2014-09-26</td>\n",
       "      <td>-0.4</td>\n",
       "    </tr>\n",
       "    <tr>\n",
       "      <th>1</th>\n",
       "      <td>1947-07-01</td>\n",
       "      <td>2018-01-01</td>\n",
       "      <td>2014-09-26</td>\n",
       "      <td>-0.4</td>\n",
       "    </tr>\n",
       "    <tr>\n",
       "      <th>2</th>\n",
       "      <td>1947-10-01</td>\n",
       "      <td>2018-01-01</td>\n",
       "      <td>2014-09-26</td>\n",
       "      <td>6.4</td>\n",
       "    </tr>\n",
       "    <tr>\n",
       "      <th>3</th>\n",
       "      <td>1948-01-01</td>\n",
       "      <td>2018-01-01</td>\n",
       "      <td>2014-09-26</td>\n",
       "      <td>6.0</td>\n",
       "    </tr>\n",
       "    <tr>\n",
       "      <th>4</th>\n",
       "      <td>1948-04-01</td>\n",
       "      <td>2018-01-01</td>\n",
       "      <td>2014-09-26</td>\n",
       "      <td>6.7</td>\n",
       "    </tr>\n",
       "  </tbody>\n",
       "</table>\n",
       "</div>"
      ],
      "text/plain": [
       "        date realtime_end realtime_start  value\n",
       "0 1947-04-01   2018-01-01     2014-09-26   -0.4\n",
       "1 1947-07-01   2018-01-01     2014-09-26   -0.4\n",
       "2 1947-10-01   2018-01-01     2014-09-26    6.4\n",
       "3 1948-01-01   2018-01-01     2014-09-26    6.0\n",
       "4 1948-04-01   2018-01-01     2014-09-26    6.7"
      ]
     },
     "execution_count": 6,
     "metadata": {},
     "output_type": "execute_result"
    }
   ],
   "source": [
    "params = {\n",
    "    'realtime_start':'1947-04-01', \n",
    "    'realtime_end':'2018-01-01'\n",
    "}\n",
    "out = fr.series.observations('A191RL1Q225SBEA', response_type='df', \n",
    "                         params=params)\n",
    "out.head()"
   ]
  },
  {
   "cell_type": "code",
   "execution_count": 7,
   "metadata": {
    "slideshow": {
     "slide_type": "slide"
    }
   },
   "outputs": [
    {
     "data": {
      "image/png": "[encoded data removed]",
      "text/plain": [
       "<Figure size 432x288 with 1 Axes>"
      ]
     },
     "metadata": {
      "needs_background": "light"
     },
     "output_type": "display_data"
    }
   ],
   "source": [
    "%matplotlib inline\n",
    "\n",
    "from pandas.plotting import register_matplotlib_converters\n",
    "register_matplotlib_converters()\n",
    "\n",
    "import seaborn as sns\n",
    "sns.lineplot(out.date, out.value);"
   ]
  }
 ],
 "metadata": {
  "celltoolbar": "Slideshow",
  "kernelspec": {
   "display_name": "Python 3",
   "language": "python",
   "name": "python3"
  },
  "language_info": {
   "codemirror_mode": {
    "name": "ipython",
    "version": 3
   },
   "file_extension": ".py",
   "mimetype": "text/x-python",
   "name": "python",
   "nbconvert_exporter": "python",
   "pygments_lexer": "ipython3",
   "version": "3.6.7"
  }
 },
 "nbformat": 4,
 "nbformat_minor": 2
}
