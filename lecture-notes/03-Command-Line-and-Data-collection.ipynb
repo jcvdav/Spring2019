{
 "cells": [
  {
   "cell_type": "markdown",
   "metadata": {
    "slideshow": {
     "slide_type": "slide"
    }
   },
   "source": [
    "# Command Line Interface (CLI) & Data collection\n",
    "\n",
    "## GUI? CLI?"
   ]
  },
  {
   "cell_type": "markdown",
   "metadata": {
    "slideshow": {
     "slide_type": "fragment"
    }
   },
   "source": [
    "- **Graphical User Interface (GUI)**:  \n",
    "    interaction via graphical objects  \n",
    "    e.g., Microsoft Windows and Apple OS X"
   ]
  },
  {
   "cell_type": "markdown",
   "metadata": {
    "slideshow": {
     "slide_type": "fragment"
    }
   },
   "source": [
    "- **Command Line Interface (CLI)**:  \n",
    "    interaction via commands typed into shell  \n",
    "    e.g., bash, zsh, tcsh, etc."
   ]
  },
  {
   "cell_type": "markdown",
   "metadata": {
    "slideshow": {
     "slide_type": "fragment"
    }
   },
   "source": [
    "- Shell is often accessed by terminal [Terminal in Jupyter]    "
   ]
  },
  {
   "cell_type": "markdown",
   "metadata": {
    "slideshow": {
     "slide_type": "fragment"
    }
   },
   "source": [
    "- GUI is simple to use everyday but not easy to automate repetitive tasks with"
   ]
  },
  {
   "cell_type": "markdown",
   "metadata": {
    "slideshow": {
     "slide_type": "fragment"
    }
   },
   "source": [
    "- CLI is more cumbersome to use everyday but scriptable"
   ]
  },
  {
   "cell_type": "markdown",
   "metadata": {
    "slideshow": {
     "slide_type": "slide"
    }
   },
   "source": [
    "## Basic Shell Usage\n",
    "\n",
    "- Common shell commands for interactions outside programming environment\n",
    "    - Downloading files from a URL\n",
    "    - Inspect, search, and replace text in files\n",
    "    - Chaining commands together for sequential processing"
   ]
  },
  {
   "cell_type": "markdown",
   "metadata": {
    "slideshow": {
     "slide_type": "fragment"
    }
   },
   "source": [
    "- Shell and IPython (Jupyter notebook)\n",
    "    - Reading shell command output into python variable\n",
    "    - Passing python string back to shell command\n",
    "    - IRS zip code data example: parsing website, extracting URL, and downloading all files"
   ]
  },
  {
   "cell_type": "markdown",
   "metadata": {
    "slideshow": {
     "slide_type": "fragment"
    }
   },
   "source": [
    "- Accessing NBA data\n",
    "    - Understanding GET URL structure\n",
    "    - JSON data format\n",
    "    - Reading JSON data into python\n",
    "    - Creating Pandas data frame"
   ]
  },
  {
   "cell_type": "markdown",
   "metadata": {
    "slideshow": {
     "slide_type": "slide"
    }
   },
   "source": [
    "## Shell commands\n",
    "\n",
    "### Commonly used commands for text files\n",
    "\n",
    "- `cat`: prints content of a file\n",
    "- `head`: prints first few lines of a file\n",
    "- `sed`: (stream editor) changes texts\n",
    "- `paste`: pasts text files side-by-side\n",
    "- `cut`: processes columns in delimited text file\n",
    "- `find`: searches file system\n",
    "- `grep`: searches text given regular expression pattern\n",
    "- Many more!"
   ]
  },
  {
   "cell_type": "markdown",
   "metadata": {
    "slideshow": {
     "slide_type": "slide"
    }
   },
   "source": [
    "### Anatomy of shell commands\n",
    "\n",
    "Here is a simple shell command:"
   ]
  },
  {
   "cell_type": "code",
   "execution_count": null,
   "metadata": {
    "slideshow": {
     "slide_type": "fragment"
    }
   },
   "outputs": [],
   "source": [
    "! cat --help"
   ]
  },
  {
   "cell_type": "markdown",
   "metadata": {
    "slideshow": {
     "slide_type": "fragment"
    }
   },
   "source": [
    "1. `cat`: program name"
   ]
  },
  {
   "cell_type": "markdown",
   "metadata": {
    "slideshow": {
     "slide_type": "fragment"
    }
   },
   "source": [
    "2. `[OPTION]`: controls program behavior"
   ]
  },
  {
   "cell_type": "markdown",
   "metadata": {
    "slideshow": {
     "slide_type": "fragment"
    }
   },
   "source": [
    "3. `[FILE]`: specify file to read from or standard input"
   ]
  },
  {
   "cell_type": "markdown",
   "metadata": {
    "slideshow": {
     "slide_type": "slide"
    }
   },
   "source": [
    "### References to learn shell command line\n",
    "\n",
    "- [Software Carpentry Lessons](https://software-carpentry.org/lessons/)"
   ]
  },
  {
   "cell_type": "markdown",
   "metadata": {
    "slideshow": {
     "slide_type": "fragment"
    }
   },
   "source": [
    "- [Unix Power Tools](https://ucsb-primo.hosted.exlibrisgroup.com/primo-explore/fulldisplay?docid=01UCSB_ALMA51295276690003776&context=L&vid=UCSB&search_scope=default_scope&tab=default_tab&lang=en_US)"
   ]
  },
  {
   "cell_type": "markdown",
   "metadata": {
    "slideshow": {
     "slide_type": "fragment"
    }
   },
   "source": [
    "- [Explain Shell](https://explainshell.com/)"
   ]
  },
  {
   "cell_type": "markdown",
   "metadata": {
    "slideshow": {
     "slide_type": "slide"
    }
   },
   "source": [
    "### Example: Downloading Files\n",
    "\n",
    "- URLs of files are directly visible (e.g., Github)\n",
    "\n",
    "- `wget` is simple and effective download tool\n",
    "\n",
    "- Example: https://github.com/fivethirtyeight/data\n",
    "\n",
    "- \"Raw\" button is the URL for actual file\n",
    "\n",
    "- Take the candy ratings data: https://github.com/fivethirtyeight/data/tree/master/candy-power-ranking\n",
    "\n",
    "- `wget` can be used to download files to course jupyterhub"
   ]
  },
  {
   "cell_type": "code",
   "execution_count": null,
   "metadata": {
    "slideshow": {
     "slide_type": "fragment"
    }
   },
   "outputs": [],
   "source": [
    "%%bash\n",
    "wget https://raw.githubusercontent.com/fivethirtyeight/data/master/candy-power-ranking/candy-data.csv"
   ]
  },
  {
   "cell_type": "markdown",
   "metadata": {
    "slideshow": {
     "slide_type": "slide"
    }
   },
   "source": [
    "### Example: Viewing file contents "
   ]
  },
  {
   "cell_type": "code",
   "execution_count": null,
   "metadata": {
    "slideshow": {
     "slide_type": "fragment"
    }
   },
   "outputs": [],
   "source": [
    "%%bash\n",
    "head candy-data.csv"
   ]
  },
  {
   "cell_type": "code",
   "execution_count": null,
   "metadata": {
    "slideshow": {
     "slide_type": "fragment"
    }
   },
   "outputs": [],
   "source": [
    "! head candy-data.csv ## also works"
   ]
  },
  {
   "cell_type": "code",
   "execution_count": null,
   "metadata": {
    "slideshow": {
     "slide_type": "fragment"
    }
   },
   "outputs": [],
   "source": [
    "! head -n 1 candy-data.csv  ## first line is the header"
   ]
  },
  {
   "cell_type": "code",
   "execution_count": null,
   "metadata": {
    "slideshow": {
     "slide_type": "slide"
    }
   },
   "outputs": [],
   "source": [
    "! wc -l candy-data.csv      ## counts lines in text file"
   ]
  },
  {
   "cell_type": "code",
   "execution_count": null,
   "metadata": {
    "slideshow": {
     "slide_type": "fragment"
    }
   },
   "outputs": [],
   "source": [
    "! cut -d',' -f1,3 candy-data.csv    ## prints columns of delimited text"
   ]
  },
  {
   "cell_type": "code",
   "execution_count": null,
   "metadata": {
    "slideshow": {
     "slide_type": "fragment"
    }
   },
   "outputs": [],
   "source": [
    "! grep 'Tootsie' candy-data.csv      ## finds lines with pattern (regular expression)"
   ]
  },
  {
   "cell_type": "markdown",
   "metadata": {
    "slideshow": {
     "slide_type": "slide"
    }
   },
   "source": [
    "### Chaining commands togeter\n",
    "\n",
    "- Commands can be chained together using \"pipes\"\n",
    "\n",
    "- Many commands in the shell sends output to what is called \"stdout\" (essentially printing to screen)\n",
    "\n",
    "- Pipe enable \"stdout\" to be input into another command via \"stdin\" (standard input).\n",
    "\n",
    "- Hence, we can make commands such as the following"
   ]
  },
  {
   "cell_type": "code",
   "execution_count": null,
   "metadata": {
    "slideshow": {
     "slide_type": "fragment"
    }
   },
   "outputs": [],
   "source": [
    "! head -n1 candy-data.csv"
   ]
  },
  {
   "cell_type": "code",
   "execution_count": null,
   "metadata": {
    "slideshow": {
     "slide_type": "fragment"
    }
   },
   "outputs": [],
   "source": [
    "! head -n1 candy-data.csv | sed 's/,/\\n/g'"
   ]
  },
  {
   "cell_type": "code",
   "execution_count": null,
   "metadata": {
    "slideshow": {
     "slide_type": "fragment"
    }
   },
   "outputs": [],
   "source": [
    "! head -n1 candy-data.csv | sed 's/,/\\n/g' | sed 's/chocolate/CHOCOLATE/g'"
   ]
  },
  {
   "cell_type": "markdown",
   "metadata": {
    "slideshow": {
     "slide_type": "slide"
    }
   },
   "source": [
    "### Example: Text file download, search, and manipulation\n",
    "\n",
    "Comands like `grep`, `sed` and `awk` enable on-the-fly text processing."
   ]
  },
  {
   "cell_type": "code",
   "execution_count": null,
   "metadata": {
    "slideshow": {
     "slide_type": "fragment"
    }
   },
   "outputs": [],
   "source": [
    "%%bash\n",
    "\n",
    "wget -q -O - https://www.irs.gov/statistics/soi-tax-stats-individual-income-tax-statistics-zip-code-data-soi \\\n",
    "#     | grep 'zipcode.zip' \\\n",
    "#     | sed 's/<a data/\\n<a data/g' \\\n",
    "#     | grep -Po '(?<=href=\")[^\"]*(?=\")'"
   ]
  },
  {
   "cell_type": "markdown",
   "metadata": {
    "slideshow": {
     "slide_type": "slide"
    }
   },
   "source": [
    "## Shell and Jupyter\n",
    "\n",
    "- Shell and Jupyter can be used together, and this becomes even more interesting.\n",
    "\n",
    "- Grab a webpage,\n",
    "\n",
    "- Extract all links,\n",
    "\n",
    "- Filter file links that end with `zipcode.zip`, and\n",
    "\n",
    "- Download all such files"
   ]
  },
  {
   "cell_type": "code",
   "execution_count": null,
   "metadata": {
    "slideshow": {
     "slide_type": "fragment"
    }
   },
   "outputs": [],
   "source": [
    "files = !wget -q -O - https://www.irs.gov/statistics/soi-tax-stats-individual-income-tax-statistics-zip-code-data-soi | grep 'zipcode.zip' | sed 's/<a data/\\n<a data/g' | grep -Po '(?<=href=\")[^\"]*(?=\")'\n",
    "files"
   ]
  },
  {
   "cell_type": "markdown",
   "metadata": {
    "slideshow": {
     "slide_type": "slide"
    }
   },
   "source": [
    "### Python variables into shell"
   ]
  },
  {
   "cell_type": "code",
   "execution_count": null,
   "metadata": {
    "slideshow": {
     "slide_type": "fragment"
    }
   },
   "outputs": [],
   "source": [
    "for f in files[:3]:\n",
    "    ! wget {f}        ## pass python variables into shell!"
   ]
  },
  {
   "cell_type": "markdown",
   "metadata": {
    "slideshow": {
     "slide_type": "slide"
    }
   },
   "source": [
    "## Deciphering the NBA stats API\n",
    "\n",
    "![](https://cdn.nba.net/nba-drupal-prod/styles/landscape_1045w/s3/2017-07/NBA%20Secondary%20Logo.jpg)\n",
    "\n",
    "- NBA provides a nice website: [http://stat.nba.com](http://stat.nba.com)\n",
    "\n",
    "- For example, in order to navigate to the shooting records for Stephen Curry, you navigate their menus to get to here:\n",
    "\n",
    "> [http://stats.nba.com/player/201939/shooting/?Season=2017-18&SeasonType=Regular%20Season](http://stats.nba.com/player/201939/shooting/?Season=2017-18&SeasonType=Regular%20Season)"
   ]
  },
  {
   "cell_type": "markdown",
   "metadata": {
    "slideshow": {
     "slide_type": "fragment"
    }
   },
   "source": [
    "Here, our choices show up as parameters :\n",
    "- Season: 2017-18\n",
    "- SeasonType: Regular Season ([%20 is character code for space](https://en.wikipedia.org/wiki/Percent-encoding#Character_data))\n",
    "- Player: 201939 (less obvious)"
   ]
  },
  {
   "cell_type": "markdown",
   "metadata": {
    "slideshow": {
     "slide_type": "fragment"
    }
   },
   "source": [
    "### GET method\n",
    "\n",
    "- This URL uses [GET method](https://www.w3schools.com/tags/ref_httpmethods.asp)\n",
    "\n",
    "- GET method passes parameters in the URL\n",
    "\n",
    "- Long URLs are usually passing a series of variables and values to target page\n",
    "\n",
    "- Sometimes cryptic: [https://www.google.com/maps/place/M+Special+Brewing+Company/@34.4302877,-119.8723167,15z/data=!4m5!3m4!1s0x80e940babfb897db:0x261e47c5399139d!8m2!3d34.4327838!4d-119.8685351](https://www.google.com/maps/place/M+Special+Brewing+Company/@34.4302877,-119.8723167,15z/data=!4m5!3m4!1s0x80e940babfb897db:0x261e47c5399139d!8m2!3d34.4327838!4d-119.8685351)\n",
    "\n",
    "- Tools such as [online URL parser](https://www.freeformatter.com/url-parser-query-string-splitter.html) can decipher common format\n",
    "\n",
    "- Try passing in the URL.\n",
    "\n",
    "Knowledge of how web sites work is useful for data science since there is so much interaction through the web."
   ]
  },
  {
   "cell_type": "markdown",
   "metadata": {
    "slideshow": {
     "slide_type": "slide"
    }
   },
   "source": [
    "### Example: Collect all player information\n",
    "\n",
    "- NBA doesn't officially publish their API (application programming interface); however,\n",
    "\n",
    "- Community has reverse engineered it: e.g., https://github.com/swar/nba_api\n",
    "\n",
    "- Scraping using `wget` is easy"
   ]
  },
  {
   "cell_type": "code",
   "execution_count": null,
   "metadata": {
    "slideshow": {
     "slide_type": "fragment"
    }
   },
   "outputs": [],
   "source": [
    "useragent = \"\\\"Mozilla/5.0 (Macintosh; Intel Mac OS X 10_11_2) AppleWebKit/601.3.9 (KHTML, like Gecko) Version/9.0.2 Safari/601.3.9\\\"\"\n",
    "playerurl = \"\\\"http://stats.nba.com/stats/commonallplayers?LeagueID=00&Season=2017-18&IsOnlyCurrentSeason=1\\\"\"\n",
    "\n",
    "# json_str = !wget -q -O - --user-agent={useragent} {playerurl}                           # if NBA doesn't cooperate \n",
    "json_str = !cat commonallplayers\\?LeagueID\\=00\\&Season\\=2017-18\\&IsOnlyCurrentSeason\\=1   # saved from earlier"
   ]
  },
  {
   "cell_type": "markdown",
   "metadata": {
    "slideshow": {
     "slide_type": "fragment"
    }
   },
   "source": [
    "- `playerurl`: url to download data from\n",
    "\n",
    "- `useragent`: suitable string to imitate a browser. Websites can return browser-dependent content \n",
    "\n",
    "- NBA blocks programatic scraping of websites by simple use of `wget`; however,\n",
    "\n",
    "- Specifying user agent string makes `wget` pretend that we are using a Mozilla-type browser on OS X"
   ]
  },
  {
   "cell_type": "markdown",
   "metadata": {
    "slideshow": {
     "slide_type": "slide"
    }
   },
   "source": [
    "### Javascript Object Notation (JSON) format\n",
    "\n",
    "- One of the widely used standards in data formats"
   ]
  },
  {
   "cell_type": "markdown",
   "metadata": {
    "slideshow": {
     "slide_type": "fragment"
    }
   },
   "source": [
    "- Usually plain text file with python dictionary-like formatting:  \n",
    "    `{\"key\":\"value\"}`"
   ]
  },
  {
   "cell_type": "markdown",
   "metadata": {
    "slideshow": {
     "slide_type": "fragment"
    }
   },
   "source": [
    "- Can be nested:  \n",
    "    `{\"key0\":{\"key1\":\"value1\", \"key2\":\"value2\"}}`"
   ]
  },
  {
   "cell_type": "code",
   "execution_count": null,
   "metadata": {
    "slideshow": {
     "slide_type": "fragment"
    }
   },
   "outputs": [],
   "source": [
    "json_str[0]"
   ]
  },
  {
   "cell_type": "markdown",
   "metadata": {
    "slideshow": {
     "slide_type": "fragment"
    }
   },
   "source": [
    "- In fact, Jupyter notebooks are in json format."
   ]
  },
  {
   "cell_type": "code",
   "execution_count": null,
   "metadata": {
    "slideshow": {
     "slide_type": "fragment"
    }
   },
   "outputs": [],
   "source": [
    "! head 03-Command-Line-and-Data-collection.ipynb"
   ]
  },
  {
   "cell_type": "markdown",
   "metadata": {
    "slideshow": {
     "slide_type": "slide"
    }
   },
   "source": [
    "### Parsing JSON\n",
    "\n",
    "- Raw JSON is in a string\n",
    "\n",
    "- Needs to be parsed to Python dictionary: i.e., keys and values.\n",
    "\n",
    "- Parse `json_str` string with the `json` module"
   ]
  },
  {
   "cell_type": "code",
   "execution_count": null,
   "metadata": {
    "slideshow": {
     "slide_type": "fragment"
    }
   },
   "outputs": [],
   "source": [
    "import json\n",
    "data = json.loads(json_str[0])\n",
    "data"
   ]
  },
  {
   "cell_type": "code",
   "execution_count": null,
   "metadata": {
    "slideshow": {
     "slide_type": "fragment"
    }
   },
   "outputs": [],
   "source": [
    "data.keys() ## we specified 'resource' and 'parameters' "
   ]
  },
  {
   "cell_type": "code",
   "execution_count": null,
   "metadata": {
    "slideshow": {
     "slide_type": "fragment"
    }
   },
   "outputs": [],
   "source": [
    "data['resultSets'][0].keys() ## 'resultSets' contain returned results"
   ]
  },
  {
   "cell_type": "code",
   "execution_count": null,
   "metadata": {
    "slideshow": {
     "slide_type": "fragment"
    }
   },
   "outputs": [],
   "source": [
    "data['resultSets'][0]"
   ]
  },
  {
   "cell_type": "markdown",
   "metadata": {
    "slideshow": {
     "slide_type": "slide"
    }
   },
   "source": [
    "### Importing data into Pandas"
   ]
  },
  {
   "cell_type": "code",
   "execution_count": null,
   "metadata": {
    "slideshow": {
     "slide_type": "fragment"
    }
   },
   "outputs": [],
   "source": [
    "import pandas as pd\n",
    "\n",
    "h = data['resultSets'][0]['headers']\n",
    "d = data['resultSets'][0]['rowSet']\n",
    "players = pd.DataFrame(d, columns=h)\n",
    "players.head()"
   ]
  },
  {
   "cell_type": "markdown",
   "metadata": {
    "slideshow": {
     "slide_type": "fragment"
    }
   },
   "source": [
    "- What other data can we download using these types of URLS? [community documentation](https://github.com/seemethere/nba_py/wiki/stats.nba.com-Endpoint-Documentation)."
   ]
  },
  {
   "cell_type": "markdown",
   "metadata": {
    "slideshow": {
     "slide_type": "slide"
    }
   },
   "source": [
    "### Analyzing Shot Data\n",
    "\n",
    "- Let's analyze [shot chart data](https://github.com/seemethere/nba_py/wiki/stats.nba.com-Endpoint-Documentation#shotchartdetail)\n",
    "\n",
    "- Test with browser: site kindly tells me [which parameters are required if none is passed](http://stats.nba.com/stats/shotchartdetail)\n",
    "\n",
    "- First, download [team data](https://github.com/seemethere/nba_py/wiki/stats.nba.com-Endpoint-Documentation#commonteamyears)"
   ]
  },
  {
   "cell_type": "code",
   "execution_count": null,
   "metadata": {
    "slideshow": {
     "slide_type": "fragment"
    }
   },
   "outputs": [],
   "source": [
    "from urllib.parse import urlencode      ## urlencode builds parameter string for us\n",
    "from urllib.request import urlretrieve\n",
    "\n",
    "params = {'LeagueID':'00'}\n",
    "teamurl = 'http://stats.nba.com/stats/commonTeamYears?' + urlencode(params)\n",
    "!wget -q -O - --user-agent={useragent} {teamurl}"
   ]
  },
  {
   "cell_type": "markdown",
   "metadata": {
    "slideshow": {
     "slide_type": "slide"
    }
   },
   "source": [
    "### Scraping Function\n",
    "\n",
    "Now that we know what a general request looks like, we can create a function to make our requests simpler.\n",
    "\n",
    "The function will do the following:\n",
    "1. Set User Agent\n",
    "1. Set base URL with appropriate end point\n",
    "1. Set parameters required for query\n",
    "1. Read JSON string into python variable\n",
    "1. Parse JSON string into python object\n",
    "1. Convert the objects into pandas a data frame"
   ]
  },
  {
   "cell_type": "code",
   "execution_count": null,
   "metadata": {
    "slideshow": {
     "slide_type": "fragment"
    }
   },
   "outputs": [],
   "source": [
    "def get_nba_data(endpt, params, return_url=False):\n",
    "\n",
    "    ## endpt: https://github.com/seemethere/nba_py/wiki/stats.nba.com-Endpoint-Documentation\n",
    "    ## params: dictionary of parameters: i.e., {'LeagueID':'00'}\n",
    "    from pandas import DataFrame\n",
    "    from urllib.parse import urlencode\n",
    "    import json\n",
    "    \n",
    "    useragent = \"\\\"Mozilla/5.0 (Macintosh; Intel Mac OS X 10_11_2) AppleWebKit/601.3.9 (KHTML, like Gecko) Version/9.0.2 Safari/601.3.9\\\"\"\n",
    "\n",
    "    dataurl = \"\\\"\" + \"http://stats.nba.com/stats/\" + endpt + \"?\" + urlencode(params) + \"\\\"\"\n",
    "    \n",
    "    # for debugging: just return the url\n",
    "    if return_url:\n",
    "        return(dataurl)\n",
    "    \n",
    "    jsonstr = !wget -q -O - --user-agent={useragent} {dataurl} ## Note: ! doesn't work in plain Python\n",
    "    \n",
    "    data = json.loads(jsonstr[0])\n",
    "    \n",
    "    h = data['resultSets'][0]['headers']\n",
    "    d = data['resultSets'][0]['rowSet']\n",
    "    \n",
    "    return(DataFrame(d, columns=h))"
   ]
  },
  {
   "cell_type": "markdown",
   "metadata": {
    "slideshow": {
     "slide_type": "slide"
    }
   },
   "source": [
    "### Testing the Scraping Function: Team data\n",
    "\n",
    "To see what URL string is returned, set `return_url=True`."
   ]
  },
  {
   "cell_type": "code",
   "execution_count": null,
   "metadata": {
    "slideshow": {
     "slide_type": "fragment"
    }
   },
   "outputs": [],
   "source": [
    "params = {'LeagueID':'00'}\n",
    "get_nba_data('commonTeamYears', params, return_url=True)"
   ]
  },
  {
   "cell_type": "markdown",
   "metadata": {
    "slideshow": {
     "slide_type": "fragment"
    }
   },
   "source": [
    "Function can also return Pandas data frame"
   ]
  },
  {
   "cell_type": "code",
   "execution_count": null,
   "metadata": {
    "slideshow": {
     "slide_type": "fragment"
    }
   },
   "outputs": [],
   "source": [
    "params = {'LeagueID':'00'}\n",
    "# teamdata = get_nba_data('commonTeamYears', params) # if NBA doesn't cooperate \n",
    "teamdata = pd.read_pickle('commonTeamYears.pkl')     # saved from earlier\n",
    "teamdata.head()"
   ]
  },
  {
   "cell_type": "markdown",
   "metadata": {
    "slideshow": {
     "slide_type": "slide"
    }
   },
   "source": [
    "### Testing the Scraping Function: Player data\n",
    "\n",
    "- Endpoint is here: https://github.com/seemethere/nba_py/wiki/stats.nba.com-Endpoint-Documentation#commonallplayers"
   ]
  },
  {
   "cell_type": "code",
   "execution_count": null,
   "metadata": {
    "slideshow": {
     "slide_type": "fragment"
    }
   },
   "outputs": [],
   "source": [
    "params = {'LeagueID':'00', 'Season': '2017-18', 'IsOnlyCurrentSeason': '0'}\n",
    "# plyrdata = get_nba_data('commonallplayers', params) # if NBA doesn't cooperate\n",
    "plyrdata = pd.read_pickle('commonallplayers.pkl')     # saved from earlier\n",
    "plyrdata.head()"
   ]
  },
  {
   "cell_type": "markdown",
   "metadata": {
    "slideshow": {
     "slide_type": "slide"
    }
   },
   "source": [
    "### Testing the Scraping Function: Shotchart data"
   ]
  },
  {
   "cell_type": "code",
   "execution_count": null,
   "metadata": {
    "slideshow": {
     "slide_type": "fragment"
    }
   },
   "outputs": [],
   "source": [
    "params = {'PlayerID':'201935',\n",
    "          'PlayerPosition':'',\n",
    "          'Season':'2017-18',\n",
    "          'ContextMeasure':'FGA',\n",
    "          'DateFrom':'',\n",
    "          'DateTo':'',\n",
    "          'GameID':'',\n",
    "          'GameSegment':'',\n",
    "          'LastNGames':'0',\n",
    "          'LeagueID':'00',\n",
    "          'Location':'',\n",
    "          'Month':'0',\n",
    "          'OpponentTeamID':'0',\n",
    "          'Outcome':'',\n",
    "          'Period':'0',\n",
    "          'Position':'',\n",
    "          'RookieYear':'',\n",
    "          'SeasonSegment':'',\n",
    "          'SeasonType':'Regular Season',\n",
    "          'TeamID':'0',\n",
    "          'VsConference':'',\n",
    "          'VsDivision':''}\n",
    "\n",
    "# shotdata = get_nba_data('shotchartdetail', params) # if NBA doesn't cooperate\n",
    "shotdata = pd.read_pickle('shotchartdetail.pkl')     # saved from earlier\n",
    "shotdata.head()"
   ]
  },
  {
   "cell_type": "markdown",
   "metadata": {
    "slideshow": {
     "slide_type": "fragment"
    }
   },
   "source": [
    "Finally, we can get the shot chart detail.\n",
    "\n",
    "![](images/nba-dance.gif)"
   ]
  }
 ],
 "metadata": {
  "kernelspec": {
   "display_name": "Python 3",
   "language": "python",
   "name": "python3"
  },
  "language_info": {
   "codemirror_mode": {
    "name": "ipython",
    "version": 3
   },
   "file_extension": ".py",
   "mimetype": "text/x-python",
   "name": "python",
   "nbconvert_exporter": "python",
   "pygments_lexer": "ipython3",
   "version": "3.7.3"
  }
 },
 "nbformat": 4,
 "nbformat_minor": 2
}
